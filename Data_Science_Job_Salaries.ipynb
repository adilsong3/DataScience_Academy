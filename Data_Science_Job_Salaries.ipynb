{
  "nbformat": 4,
  "nbformat_minor": 0,
  "metadata": {
    "colab": {
      "provenance": [],
      "authorship_tag": "ABX9TyM8G2hSTjgG1QWduniEo1d8",
      "include_colab_link": true
    },
    "kernelspec": {
      "name": "python3",
      "display_name": "Python 3"
    },
    "language_info": {
      "name": "python"
    }
  },
  "cells": [
    {
      "cell_type": "markdown",
      "metadata": {
        "id": "view-in-github",
        "colab_type": "text"
      },
      "source": [
        "<a href=\"https://colab.research.google.com/github/adilsong3/DataScience_Academy/blob/master/Data_Science_Job_Salaries.ipynb\" target=\"_parent\"><img src=\"https://colab.research.google.com/assets/colab-badge.svg\" alt=\"Open In Colab\"/></a>"
      ]
    },
    {
      "cell_type": "markdown",
      "source": [
        "## Analise dos Salários de Profissões na **Área de Dados**\n",
        "\n",
        "O [Kaggle](https://www.kaggle.com/) é uma das maiores comunidades online de cientistas de dados e profissionais de aprendizado de máquina. \n",
        "\n",
        "* Nessa comunidade você consegue disponibilizar e usufruir de datasets corporativo com fins didaticos e também particapar de competições com **premiações que chegam em $50.000**.  \n",
        "\n",
        "<br>\n",
        "\n",
        "<img src=\"https://iconape.com/wp-content/files/rl/179596/svg/kaggle-seeklogo.com.svg\" alt=\"drawing\" width=\"100\"/>\n",
        "\n",
        "<br>\n",
        "\n",
        "##Obtenção de dados\n",
        "**Nesse notebook, iremos analisar os salários em um dataset vindo dessa comunidade descrita acima.**\n",
        "* Base de dados que será utilizada no Kaggle ([Data Science Job Salaries](https://www.kaggle.com/datasets/ruchi798/data-science-job-salaries?select=ds_salaries.csv))\n",
        "* Utilizaremos os dados da base ds_salaries.csv\n",
        "\n",
        "<img src=\"https://img.freepik.com/fotos-gratis/equipe-de-corretores-estao-conversando-em-um-escritorio-escuro-com-telas-analisando-dados-graficos-e-relatorios-para-fins-de-investimento-comerciantes-de-trabalho-em-equipe-criativa_146671-15017.jpg?w=900&t=st=1662902336~exp=1662902936~hmac=8848b910939c3c892fab3c8c9697ffa46aed1743aec7c71b5e2030c49eb54a72\" alt=\"drawing\" width=\"1000\"/>"
      ],
      "metadata": {
        "id": "aa4zh80bn4MZ"
      }
    },
    {
      "cell_type": "code",
      "execution_count": 3,
      "metadata": {
        "id": "EmXIY-5JnSNh"
      },
      "outputs": [],
      "source": [
        "# importar os pacotes necessarios\n",
        "import pandas as pd\n",
        "import matplotlib.pyplot as plt\n",
        "import seaborn as sns\n",
        "\n",
        "%matplotlib inline"
      ]
    },
    {
      "cell_type": "code",
      "source": [
        "# importar o arquivo listings.csv para um DataFrame\n",
        "df = pd.read_csv(\"ds_salaries.csv\")"
      ],
      "metadata": {
        "id": "zZcgWy-d23iQ"
      },
      "execution_count": 4,
      "outputs": []
    },
    {
      "cell_type": "markdown",
      "source": [
        "# **Análise dos Dados**\n",
        "Essa etapa tem como objetivo se relacionar com os dados, se você não sabe o tipo de dados que está lidando esse é o momento para fazer a exploração inicial e conhecer os dados brutos.\n",
        "\n",
        "* Primeiro vamos identificar cada coluna e colocar seu significado ao lado para uma melhor interpretação dos dados no futuro, seja para você ou para um terceiro se achar na sua analise.\n",
        "<br>\n",
        "\n",
        "**Dicionário das variáveis**\n",
        "\n",
        "* **work_year -** O ano em que o salário foi pago.\n",
        "* **experience_level -** O nível de experiência no cargo: \n",
        "  - EN = \"Nível Junior\"\n",
        "  - MI = \"Nível Pleno\"\n",
        "  - SE = \"Nível Sênior\"\n",
        "  - EX = \"Nível Executivo/Diretor\".\n",
        "* **employment_type\t-** O tipo de emprego para a função: \n",
        "  - PT = Part-time \n",
        "  - FT = Full-time \n",
        "  - CT = Contract \n",
        "  - FL = Freelance\n",
        "* **job_title\t-** Cargo\n",
        "* **salary -** Salário bruto\n",
        "* **salary_currency\t-** Moeda\n",
        "* **salaryinusd -**  Salario convertido em USD\n",
        "* **employee_residence -** Onde morava enquanto trabalhou na empresa\n",
        "* **remote_ratio -** Tempo de trabalho remoto:\n",
        "  - 0 = Não trabalha remoto\n",
        "  - 50 = Parcialmente remoto\n",
        "  - 100 = Totalmente remoto\n",
        "* **company_location -** País da sede da empresa\n",
        "* **company_size -** O número de trabalhadores:\n",
        "  - S = abaixo de 50 funcionarios (Pequena)\n",
        "  - M = entre 50 e 250 funcionarios (Média)\n",
        "  - L = acima de 250 funcionarios (Grande)\n",
        "\n",
        "<br>\n",
        "Para conseguir chegar ao seu objetivo na analise exploratória de dados primeiro precisamos definir o que queremos descobrir, quais são nossas dúvidas. Se não pensarmos antes de iniciar a analise apenas será um monte de linhas de código sem uma direção.  \n",
        "\n",
        "<br>\n",
        "\n",
        "\n",
        "## **Dividindo a análise por perguntas:**\n",
        "\n",
        "1. Quantos atributos (variáveis) e quantas entradas o nosso conjunto de dados possui? Quais os tipos das variáveis?\n",
        "2. Qual a porcentagem de valores ausentes no dataset?\n",
        "3. Qual o tipo de distribuição das variáveis?\n",
        "4. Há outliers presentes?\n",
        "5. Qual a média dos salários?\n",
        "6. Qual a média salarial por cargo?\n",
        "7. TOP 3 países com as maiores médias de salário.\n",
        "8. A média salarial mais alta está relacionada ao nível do profissional?\n",
        "9. Qual a média salarial por ano?\n",
        "10. Quem trabalha presencialmente recebe um salario maior do que quem trabalha remoto?\n",
        "11. Quanto ganha um Principal Data Scientist que trabalha freelancer?\n",
        "12. Qual tipo de contrato paga o maior salário para Data Scientist?\n",
        "13. Qual tipo de contrato paga o maior salário para Data Engineer?\n",
        "14. Gráfico com o TOP 10 cargo com maior número de pessoas.\n",
        "\n",
        "Será finalizado com uma breve conclusão.\n"
      ],
      "metadata": {
        "id": "o2N2y4mZ3M5E"
      }
    },
    {
      "cell_type": "markdown",
      "source": [
        "## **Q1. Quantos atributos (variáveis) e quantas entradas o nosso conjunto de dados possui? Quais os tipos das variáveis?**\n",
        "* Aqui o objetivo é descobrir o tamanho do nosso dataframe, procurar saber quantos entradas (linhas) e quantas variaveis (colunas) nosso DF (dataframe) possui.\n",
        "* Logo de inicio vemos 1620 entradas (linhas) e 16 variaveis (colunas)."
      ],
      "metadata": {
        "id": "klnnvuqiDsRz"
      }
    },
    {
      "cell_type": "code",
      "source": [
        "# identificar o volume de dados do DataFrame\n",
        "print(f'Entradas: {df.shape[0]}')\n",
        "print(f'Variaveis: {df.shape[1]}\\n')\n",
        "\n",
        "# verificar as 5 primeiras entradas do dataset\n",
        "display(df.dtypes)"
      ],
      "metadata": {
        "colab": {
          "base_uri": "https://localhost:8080/",
          "height": 309
        },
        "id": "hKV8-wHl77Wc",
        "outputId": "0988f04e-8350-4474-8738-aeaff7c3de77"
      },
      "execution_count": 5,
      "outputs": [
        {
          "output_type": "stream",
          "name": "stdout",
          "text": [
            "Entradas: 607\n",
            "Variaveis: 12\n",
            "\n"
          ]
        },
        {
          "output_type": "display_data",
          "data": {
            "text/plain": [
              "Unnamed: 0             int64\n",
              "work_year              int64\n",
              "experience_level      object\n",
              "employment_type       object\n",
              "job_title             object\n",
              "salary                 int64\n",
              "salary_currency       object\n",
              "salary_in_usd          int64\n",
              "employee_residence    object\n",
              "remote_ratio           int64\n",
              "company_location      object\n",
              "company_size          object\n",
              "dtype: object"
            ]
          },
          "metadata": {}
        }
      ]
    },
    {
      "cell_type": "markdown",
      "source": [
        "## **Q2. Qual a porcentagem de valores ausentes no dataset?**\n",
        "O objetivo com a analise a seguir é verificar quais valores estão ausentes e com isso verificar a possibilidade de trata-los ou retiralos da nossa analise.\n",
        "\n",
        "* Verificamos abaixo que o dataset não possui valores ausentes."
      ],
      "metadata": {
        "id": "w9Y8noMZEST7"
      }
    },
    {
      "cell_type": "code",
      "source": [
        "# ordenar em ordem decrescente as variáveis por seus valores ausentes\n",
        "(df.isnull().sum() / df.shape[0]).sort_values(ascending=False)"
      ],
      "metadata": {
        "colab": {
          "base_uri": "https://localhost:8080/"
        },
        "id": "9BplOUAsEjoQ",
        "outputId": "9c2a7ada-5649-4c98-e99f-fba89c938ffb"
      },
      "execution_count": 6,
      "outputs": [
        {
          "output_type": "execute_result",
          "data": {
            "text/plain": [
              "Unnamed: 0            0.0\n",
              "work_year             0.0\n",
              "experience_level      0.0\n",
              "employment_type       0.0\n",
              "job_title             0.0\n",
              "salary                0.0\n",
              "salary_currency       0.0\n",
              "salary_in_usd         0.0\n",
              "employee_residence    0.0\n",
              "remote_ratio          0.0\n",
              "company_location      0.0\n",
              "company_size          0.0\n",
              "dtype: float64"
            ]
          },
          "metadata": {},
          "execution_count": 6
        }
      ]
    },
    {
      "cell_type": "markdown",
      "source": [
        "## **Q3. Qual o tipo de distribuição das variáveis?**\n",
        "O objetivo abaixo é plotar gráficos de histogramas, para analisarmos como está a distribuição dos dados.\n",
        "\n",
        "* Concluimos com a analise dos histrogramas acima que algumas variaveis como: salary e salary_in_usd não possuem uma distribuição aceitavel, podem conter alguns outliers?\n",
        "  - Obs: Nessa analise vamos trabalhar apenas com a coluna salary_in_usd\n"
      ],
      "metadata": {
        "id": "ndXqbuDHE3tQ"
      }
    },
    {
      "cell_type": "code",
      "source": [
        "# plotar o histograma das variáveis numéricas\n",
        "df.hist(bins=15, figsize=(15, 15))\n",
        "\n",
        "plt.show()"
      ],
      "metadata": {
        "colab": {
          "base_uri": "https://localhost:8080/",
          "height": 879
        },
        "id": "ReeBVGmuFBdn",
        "outputId": "8ff16236-ac0f-40a4-d7c9-5415eec0f1b3"
      },
      "execution_count": 7,
      "outputs": [
        {
          "output_type": "display_data",
          "data": {
            "text/plain": [
              "<Figure size 1080x1080 with 6 Axes>"
            ],
            "image/png": "[encoded data removed]"
          },
          "metadata": {
            "needs_background": "light"
          }
        }
      ]
    },
    {
      "cell_type": "markdown",
      "source": [
        "## **Q4. Há outliers presentes?**\n",
        "Após a analise acima vemos que alguns gráficos como salary e remote_ratio estão com uma distribuição fora da normalidade, utilizaremos duas formas para verificar os outliers:\n",
        "\n",
        "* Resumo estátistico utilizando describe.\n",
        "* Plotar gráficos utilizando boxplot para variaveis."
      ],
      "metadata": {
        "id": "-sAvwWU3F37q"
      }
    },
    {
      "cell_type": "code",
      "source": [
        "# Criando uma lista de variaveis onde iremos analisas separadamente do Data Frame\n",
        "variaveis = ['salary', 'salary_in_usd', 'remote_ratio']\n",
        "\n",
        "# Analisando apenas as variaveis que escolhemos para fazer o resumo estatistico\n",
        "df[variaveis].describe()"
      ],
      "metadata": {
        "colab": {
          "base_uri": "https://localhost:8080/",
          "height": 300
        },
        "id": "wex_okZhFFqz",
        "outputId": "266ae18f-5b90-4c32-9f6c-c1d22fc32446"
      },
      "execution_count": 8,
      "outputs": [
        {
          "output_type": "execute_result",
          "data": {
            "text/plain": [
              "             salary  salary_in_usd  remote_ratio\n",
              "count  6.070000e+02     607.000000     607.00000\n",
              "mean   3.240001e+05  112297.869852      70.92257\n",
              "std    1.544357e+06   70957.259411      40.70913\n",
              "min    4.000000e+03    2859.000000       0.00000\n",
              "25%    7.000000e+04   62726.000000      50.00000\n",
              "50%    1.150000e+05  101570.000000     100.00000\n",
              "75%    1.650000e+05  150000.000000     100.00000\n",
              "max    3.040000e+07  600000.000000     100.00000"
            ],
            "text/html": [
              "\n",
              "  <div id=\"df-563b725a-5f79-45dd-8e3b-fcbab4fb2a34\">\n",
              "    <div class=\"colab-df-container\">\n",
              "      <div>\n",
              "<style scoped>\n",
              "    .dataframe tbody tr th:only-of-type {\n",
              "        vertical-align: middle;\n",
              "    }\n",
              "\n",
              "    .dataframe tbody tr th {\n",
              "        vertical-align: top;\n",
              "    }\n",
              "\n",
              "    .dataframe thead th {\n",
              "        text-align: right;\n",
              "    }\n",
              "</style>\n",
              "<table border=\"1\" class=\"dataframe\">\n",
              "  <thead>\n",
              "    <tr style=\"text-align: right;\">\n",
              "      <th></th>\n",
              "      <th>salary</th>\n",
              "      <th>salary_in_usd</th>\n",
              "      <th>remote_ratio</th>\n",
              "    </tr>\n",
              "  </thead>\n",
              "  <tbody>\n",
              "    <tr>\n",
              "      <th>count</th>\n",
              "      <td>6.070000e+02</td>\n",
              "      <td>607.000000</td>\n",
              "      <td>607.00000</td>\n",
              "    </tr>\n",
              "    <tr>\n",
              "      <th>mean</th>\n",
              "      <td>3.240001e+05</td>\n",
              "      <td>112297.869852</td>\n",
              "      <td>70.92257</td>\n",
              "    </tr>\n",
              "    <tr>\n",
              "      <th>std</th>\n",
              "      <td>1.544357e+06</td>\n",
              "      <td>70957.259411</td>\n",
              "      <td>40.70913</td>\n",
              "    </tr>\n",
              "    <tr>\n",
              "      <th>min</th>\n",
              "      <td>4.000000e+03</td>\n",
              "      <td>2859.000000</td>\n",
              "      <td>0.00000</td>\n",
              "    </tr>\n",
              "    <tr>\n",
              "      <th>25%</th>\n",
              "      <td>7.000000e+04</td>\n",
              "      <td>62726.000000</td>\n",
              "      <td>50.00000</td>\n",
              "    </tr>\n",
              "    <tr>\n",
              "      <th>50%</th>\n",
              "      <td>1.150000e+05</td>\n",
              "      <td>101570.000000</td>\n",
              "      <td>100.00000</td>\n",
              "    </tr>\n",
              "    <tr>\n",
              "      <th>75%</th>\n",
              "      <td>1.650000e+05</td>\n",
              "      <td>150000.000000</td>\n",
              "      <td>100.00000</td>\n",
              "    </tr>\n",
              "    <tr>\n",
              "      <th>max</th>\n",
              "      <td>3.040000e+07</td>\n",
              "      <td>600000.000000</td>\n",
              "      <td>100.00000</td>\n",
              "    </tr>\n",
              "  </tbody>\n",
              "</table>\n",
              "</div>\n",
              "      <button class=\"colab-df-convert\" onclick=\"convertToInteractive('df-563b725a-5f79-45dd-8e3b-fcbab4fb2a34')\"\n",
              "              title=\"Convert this dataframe to an interactive table.\"\n",
              "              style=\"display:none;\">\n",
              "        \n",
              "  <svg xmlns=\"http://www.w3.org/2000/svg\" height=\"24px\"viewBox=\"0 0 24 24\"\n",
              "       width=\"24px\">\n",
              "    <path d=\"M0 0h24v24H0V0z\" fill=\"none\"/>\n",
              "    <path d=\"M18.56 5.44l.94 2.06.94-2.06 2.06-.94-2.06-.94-.94-2.06-.94 2.06-2.06.94zm-11 1L8.5 8.5l.94-2.06 2.06-.94-2.06-.94L8.5 2.5l-.94 2.06-2.06.94zm10 10l.94 2.06.94-2.06 2.06-.94-2.06-.94-.94-2.06-.94 2.06-2.06.94z\"/><path d=\"M17.41 7.96l-1.37-1.37c-.4-.4-.92-.59-1.43-.59-.52 0-1.04.2-1.43.59L10.3 9.45l-7.72 7.72c-.78.78-.78 2.05 0 2.83L4 21.41c.39.39.9.59 1.41.59.51 0 1.02-.2 1.41-.59l7.78-7.78 2.81-2.81c.8-.78.8-2.07 0-2.86zM5.41 20L4 18.59l7.72-7.72 1.47 1.35L5.41 20z\"/>\n",
              "  </svg>\n",
              "      </button>\n",
              "      \n",
              "  <style>\n",
              "    .colab-df-container {\n",
              "      display:flex;\n",
              "      flex-wrap:wrap;\n",
              "      gap: 12px;\n",
              "    }\n",
              "\n",
              "    .colab-df-convert {\n",
              "      background-color: #E8F0FE;\n",
              "      border: none;\n",
              "      border-radius: 50%;\n",
              "      cursor: pointer;\n",
              "      display: none;\n",
              "      fill: #1967D2;\n",
              "      height: 32px;\n",
              "      padding: 0 0 0 0;\n",
              "      width: 32px;\n",
              "    }\n",
              "\n",
              "    .colab-df-convert:hover {\n",
              "      background-color: #E2EBFA;\n",
              "      box-shadow: 0px 1px 2px rgba(60, 64, 67, 0.3), 0px 1px 3px 1px rgba(60, 64, 67, 0.15);\n",
              "      fill: #174EA6;\n",
              "    }\n",
              "\n",
              "    [theme=dark] .colab-df-convert {\n",
              "      background-color: #3B4455;\n",
              "      fill: #D2E3FC;\n",
              "    }\n",
              "\n",
              "    [theme=dark] .colab-df-convert:hover {\n",
              "      background-color: #434B5C;\n",
              "      box-shadow: 0px 1px 3px 1px rgba(0, 0, 0, 0.15);\n",
              "      filter: drop-shadow(0px 1px 2px rgba(0, 0, 0, 0.3));\n",
              "      fill: #FFFFFF;\n",
              "    }\n",
              "  </style>\n",
              "\n",
              "      <script>\n",
              "        const buttonEl =\n",
              "          document.querySelector('#df-563b725a-5f79-45dd-8e3b-fcbab4fb2a34 button.colab-df-convert');\n",
              "        buttonEl.style.display =\n",
              "          google.colab.kernel.accessAllowed ? 'block' : 'none';\n",
              "\n",
              "        async function convertToInteractive(key) {\n",
              "          const element = document.querySelector('#df-563b725a-5f79-45dd-8e3b-fcbab4fb2a34');\n",
              "          const dataTable =\n",
              "            await google.colab.kernel.invokeFunction('convertToInteractive',\n",
              "                                                     [key], {});\n",
              "          if (!dataTable) return;\n",
              "\n",
              "          const docLinkHtml = 'Like what you see? Visit the ' +\n",
              "            '<a target=\"_blank\" href=https://colab.research.google.com/notebooks/data_table.ipynb>data table notebook</a>'\n",
              "            + ' to learn more about interactive tables.';\n",
              "          element.innerHTML = '';\n",
              "          dataTable['output_type'] = 'display_data';\n",
              "          await google.colab.output.renderOutput(dataTable, element);\n",
              "          const docLink = document.createElement('div');\n",
              "          docLink.innerHTML = docLinkHtml;\n",
              "          element.appendChild(docLink);\n",
              "        }\n",
              "      </script>\n",
              "    </div>\n",
              "  </div>\n",
              "  "
            ]
          },
          "metadata": {},
          "execution_count": 8
        }
      ]
    },
    {
      "cell_type": "markdown",
      "source": [
        "Após fazer um describe das variaveis selecionadas, verificamos em numero que possuem outliers.\n",
        "* Será que tem cientistas de dados que recebem **apenas 2.859 dolares por ano**, sendo que a média é 101.570?"
      ],
      "metadata": {
        "id": "JjCn_jZVHg69"
      }
    },
    {
      "cell_type": "markdown",
      "source": [
        "## **Boxplot salary_in_usd**\n",
        "* Verificamos também 10 com um percentual de **1.65%**, onde ganham mais de 300 mil dolares por ano.\n",
        "* Verificamos ao plotar o gráfico que existem poucos outliers cerca de 21 com um percentual de aproximadamente **1.98%**, onde ganham menos de 10 mil dolares por ano."
      ],
      "metadata": {
        "id": "J5Dg4P4tINNN"
      }
    },
    {
      "cell_type": "code",
      "source": [
        "# minimum_nights\n",
        "df.salary_in_usd.plot(kind=\"box\", vert=False, figsize=(15,3))\n",
        "plt.show()\n",
        "\n",
        "# ver quantidade de valores acima de 30 dias para minimum_nights\n",
        "print(\"salary_in_usd: Salários acima de 300 mil\")\n",
        "print(f\"Entradas: {len(df[df.salary_in_usd > 300000])}\")\n",
        "print(f\"Percentual: {round((len(df[df.salary_in_usd > 300000]) / df.shape[0]) * 100, 2)}%\")\n",
        "\n",
        "print(\"\\nsalary_in_usd: Salários abaixo de 10 mil\")\n",
        "print(f\"Entradas: {len(df[df.salary_in_usd < 10000])}\")\n",
        "print(f\"Percentual: {round((len(df[df.salary_in_usd < 10000]) / df.shape[0]) * 100, 2)}%\")"
      ],
      "metadata": {
        "colab": {
          "base_uri": "https://localhost:8080/",
          "height": 339
        },
        "id": "8DIy2TZKGbq_",
        "outputId": "d7405462-fd82-4b30-d47a-51145c6669c1"
      },
      "execution_count": 9,
      "outputs": [
        {
          "output_type": "display_data",
          "data": {
            "text/plain": [
              "<Figure size 1080x216 with 1 Axes>"
            ],
            "image/png": "[encoded data removed]"
          },
          "metadata": {
            "needs_background": "light"
          }
        },
        {
          "output_type": "stream",
          "name": "stdout",
          "text": [
            "salary_in_usd: Salários acima de 300 mil\n",
            "Entradas: 10\n",
            "Percentual: 1.65%\n",
            "\n",
            "salary_in_usd: Salários abaixo de 10 mil\n",
            "Entradas: 12\n",
            "Percentual: 1.98%\n"
          ]
        }
      ]
    },
    {
      "cell_type": "markdown",
      "source": [
        "## **Histrograma sem outliers**\n",
        "* Chegamos a um ponto onde iremos limpar os dados extremos para ter uma analise mais acertiva.\n",
        "* Logo após a limpeza vemos a distruição que anteriormente parecia não existir bem visivel.\n",
        "* Foi feito uma cópia do dataframe para evitar problemas futuros, nessa cópia foi retirada a coluna \"neighbourhood\" e também os outliers antes descobertos."
      ],
      "metadata": {
        "id": "KEbLOno3NAVw"
      }
    },
    {
      "cell_type": "code",
      "source": [
        "# Criando uma copia do dataframe e removendo os *outliers* em um novo DataFrame\n",
        "df_clean = df.copy()\n",
        "df_clean.drop(df_clean[(df_clean.salary_in_usd > 300000) | (df_clean.salary_in_usd < 10000)].index, axis=0, inplace=True)\n",
        "\n",
        "# Excluindo a coluna salary, visto que estamos trabalhando com a USD\n",
        "df_clean.drop(\"salary\", axis=1, inplace=True)\n",
        "\n",
        "# plotar o histograma das variáveis numéricas sem os outliers\n",
        "df_clean.salary_in_usd.hist(bins=15, figsize=(8, 8))\n",
        "\n",
        "plt.show()"
      ],
      "metadata": {
        "colab": {
          "base_uri": "https://localhost:8080/",
          "height": 483
        },
        "id": "PvjosOGMMkYV",
        "outputId": "8e1773e1-5306-4953-c378-38ebcf5d2504"
      },
      "execution_count": 10,
      "outputs": [
        {
          "output_type": "display_data",
          "data": {
            "text/plain": [
              "<Figure size 576x576 with 1 Axes>"
            ],
            "image/png": "[encoded data removed]"
          },
          "metadata": {
            "needs_background": "light"
          }
        }
      ]
    },
    {
      "cell_type": "markdown",
      "source": [
        "## **Q5. Qual a média dos salários?**"
      ],
      "metadata": {
        "id": "-diYdGc2QD0g"
      }
    },
    {
      "cell_type": "code",
      "source": [
        "# Ver a média pela coluna salary_in_usd\n",
        "print(f\"Média dos salários: {df_clean.salary_in_usd.mean()}\")"
      ],
      "metadata": {
        "colab": {
          "base_uri": "https://localhost:8080/"
        },
        "id": "XZmhsQ8wNygR",
        "outputId": "d36accdc-cb83-4c73-d07b-6b54a51ddf32"
      },
      "execution_count": 11,
      "outputs": [
        {
          "output_type": "stream",
          "name": "stdout",
          "text": [
            "Média dos salários: 109243.4\n"
          ]
        }
      ]
    },
    {
      "cell_type": "markdown",
      "source": [
        "## **Q6. Qual a média salarial por cargo**\n",
        "* O cargo de **Principal Data Engineer** está com o maior média salárial de **192500** logo atrás do **Principal Data Scientist** com **181782**"
      ],
      "metadata": {
        "id": "DoW8sdUBQ2eD"
      }
    },
    {
      "cell_type": "code",
      "source": [
        "# a média salarial por cargo em ordem do maior para o menor\n",
        "df_clean.groupby(\"job_title\")[\"salary_in_usd\"].mean().sort_values(ascending=False)"
      ],
      "metadata": {
        "colab": {
          "base_uri": "https://localhost:8080/"
        },
        "id": "NAXRFnOgSdL8",
        "outputId": "8ef3f296-c14c-4c73-f5e2-2553dacc5605"
      },
      "execution_count": 12,
      "outputs": [
        {
          "output_type": "execute_result",
          "data": {
            "text/plain": [
              "job_title\n",
              "Principal Data Engineer                     192500.000000\n",
              "Principal Data Scientist                    181782.833333\n",
              "Data Architect                              177873.909091\n",
              "Analytics Engineer                          175000.000000\n",
              "Director of Data Science                    173419.666667\n",
              "Data Specialist                             165000.000000\n",
              "Head of Data                                160162.600000\n",
              "Machine Learning Scientist                  158412.500000\n",
              "Data Science Manager                        158328.500000\n",
              "Director of Data Engineering                156738.000000\n",
              "Head of Data Science                        146718.750000\n",
              "Lead Data Engineer                          139724.500000\n",
              "Data Analytics Manager                      127134.285714\n",
              "Cloud Data Engineer                         124647.000000\n",
              "Applied Data Scientist                      124568.750000\n",
              "Data Engineering Manager                    123227.200000\n",
              "Principal Data Analyst                      122500.000000\n",
              "ML Engineer                                 117504.000000\n",
              "Machine Learning Manager                    117104.000000\n",
              "Lead Data Scientist                         115190.000000\n",
              "Data Engineer                               111936.153846\n",
              "Data Scientist                              108962.724638\n",
              "Computer Vision Software Engineer           105248.666667\n",
              "Staff Data Scientist                        105000.000000\n",
              "Machine Learning Engineer                   104880.146341\n",
              "Machine Learning Infrastructure Engineer    101145.000000\n",
              "Financial Data Analyst                      100000.000000\n",
              "Big Data Architect                           99703.000000\n",
              "Data Analyst                                 94700.578947\n",
              "Lead Data Analyst                            92203.000000\n",
              "Marketing Data Analyst                       88654.000000\n",
              "Lead Machine Learning Engineer               87932.000000\n",
              "BI Data Analyst                              87851.800000\n",
              "Research Scientist                           86287.466667\n",
              "Machine Learning Developer                   85860.666667\n",
              "Data Science Consultant                      80039.666667\n",
              "Head of Machine Learning                     79039.000000\n",
              "Business Data Analyst                        76691.200000\n",
              "Data Science Engineer                        75803.333333\n",
              "AI Scientist                                 66135.571429\n",
              "Data Analytics Engineer                      64799.250000\n",
              "Finance Data Analyst                         61896.000000\n",
              "Big Data Engineer                            58558.571429\n",
              "ETL Developer                                54957.000000\n",
              "Applied Machine Learning Scientist           48425.000000\n",
              "Computer Vision Engineer                     44419.333333\n",
              "NLP Engineer                                 37236.000000\n",
              "Product Data Analyst                         20000.000000\n",
              "Name: salary_in_usd, dtype: float64"
            ]
          },
          "metadata": {},
          "execution_count": 12
        }
      ]
    },
    {
      "cell_type": "markdown",
      "source": [
        "## **Q7. TOP 3 paises com as maiores médias de salário**\n",
        "* Vemos em 1º lugar o Estados Unidos pagando **276000**, em 2º está Japão pagando **260000** e em 3º Russia pagando **230000**"
      ],
      "metadata": {
        "id": "__obqNRVUeWB"
      }
    },
    {
      "cell_type": "code",
      "source": [
        "# tamanho do grafíco\n",
        "plt.figure(figsize=(12, 6))\n",
        "\n",
        "# titulo do gráfico\n",
        "plt.title(\"TOP 3 países com ass maiores médias de salário\")\n",
        "\n",
        "# agrupando por país e pegando os maiores salários.\n",
        "df_clean.groupby(\"company_location\")[\"salary_in_usd\"].max().sort_values(ascending=False)[0:3].plot(kind=\"barh\", rot=90)\n",
        "\n",
        "# Nome que vai para o eixo X\n",
        "plt.xlabel(\"Salários\")\n",
        "\n",
        "# Nome que vai para o eixo Y\n",
        "plt.ylabel(\"Paises\")\n",
        "plt.show()"
      ],
      "metadata": {
        "colab": {
          "base_uri": "https://localhost:8080/",
          "height": 404
        },
        "id": "DxULaxboUryR",
        "outputId": "074be5aa-6313-40ac-fb89-c17134274f3b"
      },
      "execution_count": 13,
      "outputs": [
        {
          "output_type": "display_data",
          "data": {
            "text/plain": [
              "<Figure size 864x432 with 1 Axes>"
            ],
            "image/png": "[encoded data removed]"
          },
          "metadata": {
            "needs_background": "light"
          }
        }
      ]
    },
    {
      "cell_type": "markdown",
      "source": [
        "## **Q8. A média salarial mais alta está relacionada ao nível do profissional?**\n",
        "Salários por nível com base na análise:\n",
        "* EX (Nível Executivo/Director) = **159963**\n",
        "* SE (Nível Sênior) = **135797**\n",
        "* MI (Nível Pleno) = **85609**\n",
        "* EN (Nível Junior) = **64984**\n",
        "\n",
        "<br>\n",
        "\n",
        "Sim, com base na analise vemos que, **quanto mais experiência** o profissional tem, maior serão os salários."
      ],
      "metadata": {
        "id": "u_jn4p58UhJI"
      }
    },
    {
      "cell_type": "code",
      "source": [
        "# agrupando por nível de experiencia e tirando a média salarial\n",
        "df_clean.groupby(\"experience_level\")[\"salary_in_usd\"].mean().sort_values(ascending=False)"
      ],
      "metadata": {
        "colab": {
          "base_uri": "https://localhost:8080/"
        },
        "id": "ajpvsh3tkWFv",
        "outputId": "ca8266fc-0429-4e6a-af1d-0e0682a0c6a5"
      },
      "execution_count": 14,
      "outputs": [
        {
          "output_type": "execute_result",
          "data": {
            "text/plain": [
              "experience_level\n",
              "EX    159963.318182\n",
              "SE    135797.263538\n",
              "MI     85609.236453\n",
              "EN     64984.084337\n",
              "Name: salary_in_usd, dtype: float64"
            ]
          },
          "metadata": {},
          "execution_count": 14
        }
      ]
    },
    {
      "cell_type": "markdown",
      "source": [
        "## **Q9. Qual a média salarial por ano?**\n",
        "* No **ano de 2022** até o momento foi registrado uma média salarial de **122187**\n",
        "* Vemos **um crescimento de mais de 39%** na média salarial do em 2 anos."
      ],
      "metadata": {
        "id": "aApFadZXnJgU"
      }
    },
    {
      "cell_type": "code",
      "source": [
        "# agrupando por ano e tirando a média dos salários\n",
        "df_clean.groupby([\"work_year\"])[\"salary_in_usd\"].mean().sort_values(ascending=False)"
      ],
      "metadata": {
        "colab": {
          "base_uri": "https://localhost:8080/"
        },
        "id": "cRy01itXkfVD",
        "outputId": "d3047c7f-45c1-4429-95e0-1fdd5c3a8606"
      },
      "execution_count": 15,
      "outputs": [
        {
          "output_type": "execute_result",
          "data": {
            "text/plain": [
              "work_year\n",
              "2022    122187.295238\n",
              "2021     96257.102439\n",
              "2020     87472.076923\n",
              "Name: salary_in_usd, dtype: float64"
            ]
          },
          "metadata": {},
          "execution_count": 15
        }
      ]
    },
    {
      "cell_type": "markdown",
      "source": [
        "## **Q10. Quem trabalha presencialmente recebe um salario maior do que quem trabalha remoto?**\n",
        "- 0 = Não trabalha remoto\n",
        "- 50 = Parcialmente remoto\n",
        "- 100 = Totalmente remoto\n",
        "\n",
        "<br>\n",
        "\n",
        "Nesse dataset que estamos trabalhando a média salarial para quem **trabalha remoto** está **9% acima** do que quem trabalha presencialmente e **47% acima** de quem trabalha híbrido."
      ],
      "metadata": {
        "id": "69DorBYxoYuz"
      }
    },
    {
      "cell_type": "code",
      "source": [
        "df_clean.groupby(\"remote_ratio\")[\"salary_in_usd\"].mean().sort_values(ascending=False)"
      ],
      "metadata": {
        "colab": {
          "base_uri": "https://localhost:8080/"
        },
        "id": "uRQL27SvnC7C",
        "outputId": "4c15ad1d-f82b-4e7a-c6be-0e07325b1970"
      },
      "execution_count": 16,
      "outputs": [
        {
          "output_type": "execute_result",
          "data": {
            "text/plain": [
              "remote_ratio\n",
              "100    117396.387534\n",
              "0      107675.685950\n",
              "50      79572.252632\n",
              "Name: salary_in_usd, dtype: float64"
            ]
          },
          "metadata": {},
          "execution_count": 16
        }
      ]
    },
    {
      "cell_type": "markdown",
      "source": [
        "## **Q11. Quanto ganha um Data Scientist que trabalha freelancer?**\n",
        "* No dataset **só tem 1 registro** de freelancer Data Scientist e o salário é de **100000**"
      ],
      "metadata": {
        "id": "sN_JCeJdsBkH"
      }
    },
    {
      "cell_type": "code",
      "source": [
        "# filtrando o dataset para quem trabalha como freelancer == FL\n",
        "# filtrando para quem trabalha como Data Scientist e puxando a média salarial\n",
        "df_clean[(df_clean[\"employment_type\"] == \"FL\") & (df_clean[\"job_title\"] == \"Data Scientist\")][\"salary_in_usd\"].mean()"
      ],
      "metadata": {
        "colab": {
          "base_uri": "https://localhost:8080/"
        },
        "id": "3xcToamypF9c",
        "outputId": "28de77ce-2a55-4c5f-bdad-1a9ab175ffe3"
      },
      "execution_count": 17,
      "outputs": [
        {
          "output_type": "execute_result",
          "data": {
            "text/plain": [
              "100000.0"
            ]
          },
          "metadata": {},
          "execution_count": 17
        }
      ]
    },
    {
      "cell_type": "markdown",
      "source": [
        "## **Q12. Qual tipo de contrato paga o maior salário para Data Scientist?**\n",
        "  - PT = Part-time \n",
        "  - FT = Full-time  \n",
        "  - FL = Freelance\n",
        "\n",
        "<br>\n",
        "\n",
        "O **contrato Full-time** para Cientistas de Dados ou areas afins, nesse dataset apresenta a **maior média salarial** pagando **115276**\n"
      ],
      "metadata": {
        "id": "gDtGNlPDuvZF"
      }
    },
    {
      "cell_type": "code",
      "source": [
        "# criando uma lista com os cargos relacionados a dados e cientista\n",
        "cargo_scientist = [\n",
        "    \"Director of Data Science\",\n",
        "    \"Princial Data Scientist\", \n",
        "    \"Data Scientist\",\n",
        "    \"Data Science Manager\",\n",
        "    \"Data Science Engineer\"\n",
        "]\n",
        "\n",
        "# criando um dataset filtrado apenas pelos cargos acima\n",
        "data_scientist = df_clean[df_clean[\"job_title\"].isin(cargo_scientist)]\n",
        "\n",
        "# agrupando por tipo de contrato e tirando a média salarial\n",
        "data_scientist.groupby(\"employment_type\")[\"salary_in_usd\"].mean().sort_values(ascending=False)"
      ],
      "metadata": {
        "colab": {
          "base_uri": "https://localhost:8080/"
        },
        "id": "cVSY5kgRu_NX",
        "outputId": "bdef457c-9759-4184-e04e-ce0e9bd8c78e"
      },
      "execution_count": 18,
      "outputs": [
        {
          "output_type": "execute_result",
          "data": {
            "text/plain": [
              "employment_type\n",
              "FT    115276.00641\n",
              "FL    100000.00000\n",
              "PT     60834.50000\n",
              "Name: salary_in_usd, dtype: float64"
            ]
          },
          "metadata": {},
          "execution_count": 18
        }
      ]
    },
    {
      "cell_type": "markdown",
      "source": [
        "## **Q13. Qual tipo de contrato paga o maior salário para Data Engineer?**\n",
        "  - PT = Part-time \n",
        "  - FT = Full-time  \n",
        "  - FL = Freelance\n",
        "\n",
        "<br>\n",
        "\n",
        "O **contrato Full-time** para Engenheiro de Dados ou areas afins, nesse dataset apresenta a **maior média salarial** pagando **108532**"
      ],
      "metadata": {
        "id": "SIxuCe7zyYfq"
      }
    },
    {
      "cell_type": "code",
      "source": [
        "# criando uma lista com os cargos relacionados a dados e engenharia\n",
        "cargo_engineer = [\n",
        "    \"Princial Data Engineer\", \n",
        "    \"Data Engineer\", \n",
        "    \"Data Science Engineer\", \n",
        "    \"Data Analytics Engineer\", \n",
        "    \"Big Data Engineer\", \n",
        "    \"Lead Machine Learning Engineer\",\n",
        "    \"Machine Learning Engineer\",\n",
        "    \"Data Engineering Manager\",\n",
        "    \"Director of Data Engineering\"\n",
        "]\n",
        "\n",
        "# criando um dataset filtrado apenas pelos cargos acima\n",
        "data_engineer = df_clean[df_clean[\"job_title\"].isin(cargo_engineer)]\n",
        "\n",
        "# agrupando por tipo de contrato e tirando a média salarial\n",
        "data_engineer.groupby(\"employment_type\")[\"salary_in_usd\"].mean().sort_values(ascending=False)"
      ],
      "metadata": {
        "colab": {
          "base_uri": "https://localhost:8080/"
        },
        "id": "iLE4j6F6wHEE",
        "outputId": "858a0656-ec24-4ee7-c3eb-f0a999e2c6eb"
      },
      "execution_count": 19,
      "outputs": [
        {
          "output_type": "execute_result",
          "data": {
            "text/plain": [
              "employment_type\n",
              "FT    108532.363158\n",
              "PT     62349.000000\n",
              "FL     20000.000000\n",
              "Name: salary_in_usd, dtype: float64"
            ]
          },
          "metadata": {},
          "execution_count": 19
        }
      ]
    },
    {
      "cell_type": "markdown",
      "source": [
        "## **Q14. Gráfico com o TOP 10 cargo com maior número de pessoas?**"
      ],
      "metadata": {
        "id": "mpcAJzTT3Dum"
      }
    },
    {
      "cell_type": "code",
      "source": [
        "# tamanho do grafíco\n",
        "plt.figure(figsize=(12, 6))\n",
        "\n",
        "# titulo do gráfico\n",
        "plt.title(\"TOP 10 cargos com maior número de pessoas trabalhando\")\n",
        "\n",
        "# Dados que vão para o gráfico\n",
        "df_clean.groupby(\"job_title\")[\"job_title\"].count().sort_values(ascending=False)[0:11].plot(kind=\"bar\", rot=90)\n",
        "\n",
        "# Nome que vai para o eixo X\n",
        "plt.xlabel(\"Cargos\")\n",
        "\n",
        "# Nome que vai para o eixo Y\n",
        "plt.ylabel(\"Nº de pessoas\")\n",
        "plt.show()"
      ],
      "metadata": {
        "colab": {
          "base_uri": "https://localhost:8080/",
          "height": 531
        },
        "id": "-RncYB_Nz1r9",
        "outputId": "a5b35ed0-2d54-4123-f0cb-4d1b8096d5f2"
      },
      "execution_count": 20,
      "outputs": [
        {
          "output_type": "display_data",
          "data": {
            "text/plain": [
              "<Figure size 864x432 with 1 Axes>"
            ],
            "image/png": "[encoded data removed]"
          },
          "metadata": {
            "needs_background": "light"
          }
        }
      ]
    },
    {
      "cell_type": "markdown",
      "source": [
        "# **Conclusão final**\n",
        "Chegamos ao final de mais uma análise, vimos nesse dataset algumas informações referente aos salários de várias áreas que envolve diretamente dados.\n",
        "\n",
        "Vale ressaltar que não podemos cravar que a área X paga melhor que a Y ou dizer que quem trabalha remoto é mais valorizado, pois para isso precisariamos primeiro avaliar se essa fonte de dados é realmente confiável, além de fazer validação dos dados batendo com outras fontes.\n",
        "\n",
        "Quero com essa analise mostrar alguns pontos que **achei interessante nesse dataset:**\n",
        "- Área de Engenheiro de dados ganhando acima da de Cientista.\n",
        "- Pessoas que trabalham remotamente ganhando acima do presencial.\n",
        "- Existem pessoas que fazem freelancer como Cientista de Dados e faturam alto.\n"
      ],
      "metadata": {
        "id": "I9JF_rIWFgKi"
      }
    }
  ]
}
