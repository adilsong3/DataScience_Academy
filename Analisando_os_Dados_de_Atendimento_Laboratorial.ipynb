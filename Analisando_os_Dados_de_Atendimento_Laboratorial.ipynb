{
  "nbformat": 4,
  "nbformat_minor": 0,
  "metadata": {
    "colab": {
      "name": "Analisando_os_Dados_de_Atendimento_Laboratorial.ipynb",
      "provenance": [],
      "include_colab_link": true
    },
    "kernelspec": {
      "name": "python3",
      "display_name": "Python 3"
    },
    "language_info": {
      "name": "python"
    }
  },
  "cells": [
    {
      "cell_type": "markdown",
      "metadata": {
        "id": "view-in-github",
        "colab_type": "text"
      },
      "source": [
        "<a href=\"https://colab.research.google.com/github/adilsong3/DataScience_Academy/blob/master/Analisando_os_Dados_de_Atendimento_Laboratorial.ipynb\" target=\"_parent\"><img src=\"https://colab.research.google.com/assets/colab-badge.svg\" alt=\"Open In Colab\"/></a>"
      ]
    },
    {
      "cell_type": "markdown",
      "source": [
        "# **Análise dos Dados de Atendimento**\n",
        "\n",
        "**Neste notebook, iremos analisar os dados referente aos atendimentos de um laboratório de analises clínicas com foco em CNPJ e os dados macros serão enviados por e-mail.** (Planilha utilizada é de demonstração)\n",
        "\n",
        "# Obtenção dos Dados\n",
        "\n",
        "Iremos trabalhar com os dados disponibilizados por um planilha em formato csv."
      ],
      "metadata": {
        "id": "MDnkyrBo4dpK"
      }
    },
    {
      "cell_type": "code",
      "execution_count": 1,
      "metadata": {
        "id": "RP6gDV5Fdx08"
      },
      "outputs": [],
      "source": [
        "# Importar dos pacotes necessários\n",
        "import pandas as pd\n",
        "from datetime import datetime\n",
        "import time\n",
        "import smtplib\n",
        "import email.message\n",
        "from email.mime.multipart import MIMEMultipart\n",
        "from email.mime.text import MIMEText\n",
        "from email.mime.base import MIMEBase\n",
        "from email import encoders\n",
        "from os import PathLike"
      ]
    },
    {
      "cell_type": "code",
      "source": [
        "# Importar o arquivo laboratorio.csv para um DataFrame\n",
        "caminho = \"laboratorio.csv\"\n",
        "df_cru = pd.read_csv(caminho, sep=\",\", error_bad_lines=False)"
      ],
      "metadata": {
        "id": "MDFoHbfUeL0u"
      },
      "execution_count": null,
      "outputs": []
    },
    {
      "cell_type": "markdown",
      "source": [
        "### VERIFICANDO AS COLUNAS DA TABELA DO INTERCOM"
      ],
      "metadata": {
        "id": "VGR-qqMugbOw"
      }
    },
    {
      "cell_type": "code",
      "source": [
        "# Conhecendo as colunas do DataFrame\n",
        "df_cru.columns"
      ],
      "metadata": {
        "colab": {
          "base_uri": "https://localhost:8080/"
        },
        "id": "3FOb12pBggzB",
        "outputId": "cee0a346-763b-4fb2-e9a9-6f866a6b80f6"
      },
      "execution_count": 3,
      "outputs": [
        {
          "output_type": "execute_result",
          "data": {
            "text/plain": [
              "Index(['Conversation ID', 'Conversation URL', 'Title', 'Conversation status',\n",
              "       'Conversation tags', 'Created at', 'Last updated at', 'Last closed at',\n",
              "       'Time Zone', 'Inbound/Outbound', 'Reopened', 'Closed',\n",
              "       'Conversation rating', 'Conversation rating requested',\n",
              "       'Conversation rating remark', 'Companies (ID)', 'Companies (name)',\n",
              "       'Company tags', 'Email', 'Location', 'Name', 'Type',\n",
              "       'Participated (ID)', 'Participated (name)', 'Participated (email)',\n",
              "       'People tags', 'User ID', 'Assigned to (ID)', 'Assigned to (name)',\n",
              "       'Team assigned to (ID)', 'Team assigned to (name)', 'Closed by (ID)',\n",
              "       'Closed by (name)', 'Teammates participated',\n",
              "       'Time to first reply (seconds)', 'Time to last close (seconds)',\n",
              "       'Teammate replies', 'Channel', 'Source'],\n",
              "      dtype='object')"
            ]
          },
          "metadata": {},
          "execution_count": 3
        }
      ]
    },
    {
      "cell_type": "markdown",
      "source": [
        "# **Análise dos Dados**\n",
        "\n",
        "Essa etapa tem como objetivo se relacionar com os dados, se você não sabe o tipo de dados que está lidando esse é o momento para fazer a exploração inicial e conhecer os dados brutos.\n",
        "\n",
        "* Primeiro vamos identificar cada coluna e \n",
        "colocar seu significado ao lado para uma melhor interpretação dos dados no futuro, seja para você ou para um terceiro se achar na sua analise.\n",
        "\n",
        "\n",
        "**Dicionário das variáveis**\n",
        "\n",
        "* **Conversation ID -** número de id gerado para identificar o atendimento\n",
        "* **Conversation URL -** link do atendimento \n",
        "* **Title -** titulo do atendimento \n",
        "* **Conversation status -** status do atendimento\n",
        "* **Conversation tags -** indentificadores de observações de cada atendimento\n",
        "* **Created at -** data da criação do atendimento \n",
        "* **Last updated at -** data da última atualização do atendimento \n",
        "* **Last closed at' -** data de fechamento do atendimento\n",
        "* **Time Zone -**  fuso horário\n",
        "* Inbound/Outbound - tipo do atendimento\n",
        "* **Reopened -** número de vezes que o atendimento foi reaberto \n",
        "* **Closed -** se o atendimento foi finalizado\n",
        "* **Conversation rating -** nota de avaliação do atendimento\n",
        "* **Conversation rating requested -** se foi solicitado avaliação\n",
        "* **Conversation rating remark -** comentário da avaliação\n",
        "* **Companies (ID) -** identificador do cliente (CNPJ/CPF)\n",
        "* **Companies (name) -** nome do cliente\n",
        "* **Company tags -** identificadores de observações de cada cliente\n",
        "* **Email -** email do cliente \n",
        "* **Location -**  localização\n",
        "* **Name -** nome da pessoa que entrou em contato\n",
        "* **Type -** tipo \n",
        "* **Participated (ID) -** número de id gerado para identificar o participante de cada atendimento\n",
        "* **Participated (name) -** nome de cada participante \n",
        "* **Participated (email) -** email do participante\n",
        "* **People tags -** identificadores de observações de cada pessoa\n",
        "* **User ID -** número de id gerado para identificar cada usuário\n",
        "* **Assigned to (ID) -** número de id gerado para identificar cada atendente que foi atribuido ao atendimento\n",
        "* **Assigned to (name) -** nome do atendente\n",
        "* **Team assigned to (ID) -** número de id gerado para identificar cada time que foi atribuido ao atendimento\n",
        "* **Team assigned to (name) -** nome do time\n",
        "* **Closed by (ID) -** id do atendente que fechou o atendimento\n",
        "* **Closed by (name) -** nome do atendente que fechou o atendimento\n",
        "* **Teammates participated -** nome dos atendentes que participaram do atendimento\n",
        "* **Time to first reply (seconds) -** tempo de primeira resposta do atendimento em segundos \n",
        "* **Time to last close (seconds) -** tempo de fechamento do atendimento em segundos\n",
        "* **Teammate replies -** número de resposta de colegas que participaram\n",
        "* **Channel -** por qual canal o cliente entrou em contato\n",
        "* **Source -** fonte\n",
        "\n",
        "***Agora que já conhecemos todas as colunas do nosso DataFrame, vamos duplica-lo para conseguir trabalhar sem editar o original.***"
      ],
      "metadata": {
        "id": "w6Ks9n366YAt"
      }
    },
    {
      "cell_type": "code",
      "source": [
        "# Criando uma cópia do DataFrame original para trabalhar\n",
        "df_editavel = df_cru.copy()"
      ],
      "metadata": {
        "id": "DKG4oEwtgtCg"
      },
      "execution_count": 4,
      "outputs": []
    },
    {
      "cell_type": "markdown",
      "source": [
        "O que eu quero responder ao final desta análise?\n",
        "\n",
        "\n",
        "1.   **Qual é o número de atendimento por cliente?**\n",
        "2.   **Qual é o tempo médio de primeira resposta do laboratório para esse cliente(em segundos)?**\n",
        "3.  **Qual é o tempo médio de fechamento dos atendimentos(em minutos)?**\n",
        "4.  **Quantas avaliações esse cliente deu para os atendimento do laboratório?**\n",
        "5.  **Qual é nota média de satisfação desse cliente para com o atendimento?**\n",
        "\n",
        "Ao analisar nosso DataFrame, vemos que temos muitas colunas que não serão utilizadas para conseguir responder essas 5 perguntas.\n",
        "\n",
        "Então vamos fazer a exclusão daquelas que não fazem sentido para nós nesse momento.\n",
        "\n",
        "**Obs :** *Essas exclussões não podem ser feitas no DataFrame Cru, sempre deve ser feita no de edição.*"
      ],
      "metadata": {
        "id": "17bYiOAYAYx0"
      }
    },
    {
      "cell_type": "code",
      "source": [
        "# Ecluindo colunas que não serão utilizadas para essa análise\n",
        "df_editavel = df_editavel.drop(columns=[\n",
        "    \"Conversation ID\", \"Title\", \"Conversation status\", \"Time Zone\", \"Closed\", \"Conversation rating requested\", \"Company tags\",\n",
        "    \"Conversation rating remark\", \"Participated (ID)\", \"User ID\", \"Closed by (ID)\", \"Closed by (name)\", \"Teammates participated\",\n",
        "    \"Source\", \"Teammate replies\", \"Last updated at\", \"People tags\", \"Participated (name)\", \"Participated (email)\",\n",
        "    \"Team assigned to (ID)\", \"Assigned to (ID)\", \"Reopened\", \"Email\", \"Location\"\n",
        "])"
      ],
      "metadata": {
        "id": "v63LJmcjjODo"
      },
      "execution_count": 5,
      "outputs": []
    },
    {
      "cell_type": "markdown",
      "source": [
        "Sabemos que para fazer a analise de dados utilizando python, por convenção não utilizamos colunas que o nome esteja com espaço.\n",
        "\n",
        "Então vamos renomear as colunas para arrumar os espações em branco e também para uma melhor compreenção dos dados."
      ],
      "metadata": {
        "id": "se5CauwTC-k-"
      }
    },
    {
      "cell_type": "code",
      "source": [
        "# Renomeando o nome das colunas, arrancando os espaços e deixando mais legível\n",
        "df_editavel = df_editavel.rename(columns={\n",
        "    \"Conversation URL\": \"url_conversa\",\n",
        "    \"Created at\" : \"data_criacao\",\n",
        "    \"Last closed at\" : \"data_fechamento\",\n",
        "    \"Assigned to (name)\" : \"atendente\",\n",
        "    \"Companies (ID)\" : \"CNPJs\",\n",
        "    \"Companies (name)\" : \"estabelecimento\", \n",
        "    \"Conversation tags\" : \"tags\",\n",
        "    \"Conversation rating\" : \"avaliacao\",\n",
        "    \"Time to first reply (seconds)\" : \"tp_resposta\",\n",
        "    \"Time to last close (seconds)\" : \"tf_resposta\",\n",
        "    \"Type\" : \"tipo\",\n",
        "    \"Name\" : \"operador\",\n",
        "    \"Channel\" : \"canal_contato\",\n",
        "    \"Team assigned to (name)\" : \"atendente\"\n",
        "})"
      ],
      "metadata": {
        "id": "7Il2Rn2LlBoU"
      },
      "execution_count": 6,
      "outputs": []
    },
    {
      "cell_type": "markdown",
      "source": [
        "Após fazer a renomeação das colunas que vamos trabalhar é importante verificar os tipos de dados de cada coluna antes de começar a fazer as transformações necessárias."
      ],
      "metadata": {
        "id": "qxGhLIarmUoY"
      }
    },
    {
      "cell_type": "code",
      "source": [
        "# verificando os tipos de dados que estamos trabalhando e a preenchimento de cada coluna\n",
        "df_editavel.info()"
      ],
      "metadata": {
        "colab": {
          "base_uri": "https://localhost:8080/"
        },
        "id": "gNrUftu8mL0R",
        "outputId": "b191340a-9ee6-43d6-a506-692388ab2383"
      },
      "execution_count": 7,
      "outputs": [
        {
          "output_type": "stream",
          "name": "stdout",
          "text": [
            "<class 'pandas.core.frame.DataFrame'>\n",
            "RangeIndex: 25159 entries, 0 to 25158\n",
            "Data columns (total 15 columns):\n",
            " #   Column            Non-Null Count  Dtype  \n",
            "---  ------            --------------  -----  \n",
            " 0   url_conversa      25159 non-null  object \n",
            " 1   tags              22260 non-null  object \n",
            " 2   data_criacao      25159 non-null  object \n",
            " 3   data_fechamento   25159 non-null  object \n",
            " 4   Inbound/Outbound  25159 non-null  object \n",
            " 5   avaliacao         7805 non-null   float64\n",
            " 6   CNPJs             22966 non-null  object \n",
            " 7   estabelecimento   16469 non-null  object \n",
            " 8   operador          25150 non-null  object \n",
            " 9   tipo              25159 non-null  object \n",
            " 10  atendente         24803 non-null  object \n",
            " 11  atendente         7971 non-null   object \n",
            " 12  tp_resposta       24451 non-null  float64\n",
            " 13  tf_resposta       25159 non-null  float64\n",
            " 14  canal_contato     25159 non-null  object \n",
            "dtypes: float64(3), object(12)\n",
            "memory usage: 2.9+ MB\n"
          ]
        }
      ]
    },
    {
      "cell_type": "markdown",
      "source": [
        "Vemos acima que os campos de data estão do tipo object(string), ou seja, dessa forma o python não entende que é uma data e sim um texto.\n",
        "\n",
        "Como primeira transformação vamos transformar o campo de ***objetic*** para ***datetime***"
      ],
      "metadata": {
        "id": "_xpMJDzQEIth"
      }
    },
    {
      "cell_type": "code",
      "source": [
        "# convertendo os campos de data de object(string) para datetime\n",
        "df_editavel[\"data_criacao\"] = pd.to_datetime(df_editavel[\"data_criacao\"], format=\"%Y-%m-%d %H:%M:%S\")\n",
        "df_editavel[\"data_fechamento\"] = pd.to_datetime(df_editavel[\"data_fechamento\"], format=\"%Y-%m-%d %H:%M:%S\")"
      ],
      "metadata": {
        "id": "JNu68w5_w-E5"
      },
      "execution_count": 8,
      "outputs": []
    },
    {
      "cell_type": "markdown",
      "source": [
        "Já que começamos pela data, vamos aproveitar e expandir essa coluna para várias outras só que separado.\n",
        "\n",
        "A ideia é criar outras colunas como ANO, MES, DIA, HORA, MINUTO E SEGUNDO."
      ],
      "metadata": {
        "id": "tUNeWdi3xrYR"
      }
    },
    {
      "cell_type": "code",
      "source": [
        "# criando novas colunas especificas de data\n",
        "df_editavel[\"ano\"] = df_editavel[\"data_criacao\"].dt.year\n",
        "df_editavel[\"mes\"] = df_editavel[\"data_criacao\"].dt.month\n",
        "df_editavel[\"dia\"] = df_editavel[\"data_criacao\"].dt.day\n",
        "df_editavel[\"hora\"] = df_editavel[\"data_criacao\"].dt.hour\n",
        "df_editavel[\"minutos\"] = df_editavel[\"data_criacao\"].dt.minute\n",
        "df_editavel[\"segundos\"] = df_editavel[\"data_criacao\"].dt.second"
      ],
      "metadata": {
        "id": "hwi2URoWxwQ7"
      },
      "execution_count": 9,
      "outputs": []
    },
    {
      "cell_type": "markdown",
      "source": [
        "Como um operador pode trabalhar em mais de um estabelecimento, precisamos usar uma regra para utilizar apenas o 1 CNPJ/CPF que o cliente estiver registrado.\n",
        "\n",
        "Para isso vai ser necessário fazer um split(dividir) a coluna CNPJ em uma lista e criar uma nova coluna pegando apenas o primeiro CNPJ/CPF da lista."
      ],
      "metadata": {
        "id": "TEsXnSyOKsm1"
      }
    },
    {
      "cell_type": "code",
      "source": [
        "# fazendo split da coluna CNPJ/CPF\n",
        "divisao_cnpj = df_editavel[\"CNPJs\"].str.split(\",\")\n",
        "\n",
        "# criando uma nova coluna e inserindo o primeiro CNPJ/CPF encontrado do split anterior\n",
        "cnpj = divisao_cnpj.str.get(0)\n",
        "df_editavel[\"CNPJ/CPF\"] = cnpj"
      ],
      "metadata": {
        "id": "XgfgT39mlMGJ"
      },
      "execution_count": 10,
      "outputs": []
    },
    {
      "cell_type": "markdown",
      "source": [
        "Após fazer isso, vamos excluir a coluna CNPJ antiga pois só trabalharemos com a nova coluna, visto que agora só tem 1 informação por operador"
      ],
      "metadata": {
        "id": "82I4irJuLMAT"
      }
    },
    {
      "cell_type": "code",
      "source": [
        "# removendo o campo CNPJ/CPF para trabalharmos apenas com a nova coluna\n",
        "df_editavel = df_editavel.drop(\n",
        "    columns=[\n",
        "        \"CNPJs\"\n",
        "    ]\n",
        ")"
      ],
      "metadata": {
        "id": "2fk8UC1Cl6Ep"
      },
      "execution_count": 11,
      "outputs": []
    },
    {
      "cell_type": "markdown",
      "source": [
        "### **Vamos resolver as 5 perguntas propostas com algumas funções**\n",
        "*  função para contar chamados do cliente escolhido\n",
        "*  função para calcular tempo médio de primeira resposta\n",
        "*  função para calcular tempo médio de fechamento de cada atendimento\n",
        "*  função para contar o número de avaliação e calcular a nota média de satisfação do cliente com o atendimento\n",
        "*  função para contar o chamadas de cada operador\n",
        "*  função para gerar um novo dataframe resumido apenas do CNPJ/CPF escolhido\n",
        "*  função para enviar e-mail com todos os dados gerados gerados das outras funções\n",
        "*  função main que vai chamar todas as funções e fazer a magia acontecer\n",
        "\n",
        "***Cada função será criada com o objetivo de ser utilizada individualmente, para que facilite em analises futuras!***"
      ],
      "metadata": {
        "id": "Ub4Rh2y5HYpj"
      }
    },
    {
      "cell_type": "markdown",
      "source": [
        "# **Qual é o número de atendimento por cliente?**"
      ],
      "metadata": {
        "id": "V9g0ZojDbFc9"
      }
    },
    {
      "cell_type": "code",
      "source": [
        "# função que recebe um CNPJ/CPF e faz a contagem de atendimento/chamados\n",
        "def count_chamado_cnpj(valor=[]):\n",
        "  cnpj_filter = df_editavel.copy()\n",
        "  cnpj_filter = cnpj_filter.loc[(cnpj_filter[\"CNPJ/CPF\"].isin(valor))]\n",
        "\n",
        "  if len(cnpj_filter) == 0:\n",
        "    return print(\"Sem chamado encontrado!\")\n",
        "  else:\n",
        "    if len(valor) == 1:\n",
        "      contador = cnpj_filter[\"CNPJ/CPF\"].count()\n",
        "    else:\n",
        "      contador = cnpj_filter.groupby(\"CNPJ/CPF\")[\"CNPJ/CPF\"].count().sort_values(ascending=False)\n",
        "\n",
        "  return contador"
      ],
      "metadata": {
        "id": "_fTSEvQamcR3"
      },
      "execution_count": 12,
      "outputs": []
    },
    {
      "cell_type": "code",
      "source": [
        "# chamando a função de contagem\n",
        "count_chamado_cnpj([\"21791666000185\"])"
      ],
      "metadata": {
        "colab": {
          "base_uri": "https://localhost:8080/"
        },
        "id": "GetY4u3Namul",
        "outputId": "ea24234d-542c-4640-cee2-5cdc16bc3ade"
      },
      "execution_count": 13,
      "outputs": [
        {
          "output_type": "execute_result",
          "data": {
            "text/plain": [
              "20"
            ]
          },
          "metadata": {},
          "execution_count": 13
        }
      ]
    },
    {
      "cell_type": "markdown",
      "source": [
        "# **Qual é o tempo médio de primeira resposta do laboratório para esse cliente(em segundos)?**"
      ],
      "metadata": {
        "id": "zX7VTmrobU-6"
      }
    },
    {
      "cell_type": "code",
      "source": [
        "# função que recebe um CNPJ/CPF e faz o calculo médio de tempo da primeira resposta\n",
        "def primeira_resposta_cnpj(valor=[]):\n",
        "  cnpj_filter = df_editavel.copy()\n",
        "  cnpj_filter = cnpj_filter.loc[(cnpj_filter[\"CNPJ/CPF\"].isin(valor))]\n",
        "\n",
        "  if len(cnpj_filter) == 0:\n",
        "    return print(\"Sem chamado encontrado!\")\n",
        "  else:\n",
        "    # PREENCHENDO OS CAMPOS NULLOS DA COLUNA TP_RESPOSTA COM A MÉDIA DÁ PRÓPRIA COLUNA\n",
        "    cnpj_filter[\"tp_resposta\"].fillna(cnpj_filter[\"tp_resposta\"].mean(), inplace=True)\n",
        "\n",
        "    if len(valor) == 1:\n",
        "      primeira = cnpj_filter[\"tp_resposta\"].mean()\n",
        "    else:\n",
        "      primeira = cnpj_filter.groupby([\"CNPJ/CPF\"])[\"tp_resposta\"].mean().sort_values(ascending=False)\n",
        "\n",
        "  return primeira"
      ],
      "metadata": {
        "id": "gEa-5EkwzGHH"
      },
      "execution_count": 14,
      "outputs": []
    },
    {
      "cell_type": "code",
      "source": [
        "# chamando a função de primeira resposta\n",
        "primeira_resposta_cnpj([\"21791666000185\"])"
      ],
      "metadata": {
        "colab": {
          "base_uri": "https://localhost:8080/"
        },
        "id": "J1NxSsXNbeOL",
        "outputId": "44e3355e-9c22-4ce2-9d4e-608ac2c213a0"
      },
      "execution_count": 16,
      "outputs": [
        {
          "output_type": "execute_result",
          "data": {
            "text/plain": [
              "75.5"
            ]
          },
          "metadata": {},
          "execution_count": 16
        }
      ]
    },
    {
      "cell_type": "markdown",
      "source": [
        "# **Qual é o tempo médio de fechamento dos atendimentos(em minutos)?**"
      ],
      "metadata": {
        "id": "t3eHO_u3blh4"
      }
    },
    {
      "cell_type": "code",
      "source": [
        "# função que recebe um CNPJ/CPF e faz o cálculo médio do tempo de fechamento dos atendimentos\n",
        "def tempo_fechamento_cnpj(valor=[]):\n",
        "  cnpj_filter = df_editavel.copy()\n",
        "  cnpj_filter = cnpj_filter.loc[(cnpj_filter[\"CNPJ/CPF\"].isin(valor))]\n",
        "\n",
        "  if len(cnpj_filter) == 0:\n",
        "    return print(\"Sem chamado encontrado!\")\n",
        "  else: \n",
        "    if len(valor) == 1:\n",
        "      fechamento = cnpj_filter[\"tf_resposta\"].mean()\n",
        "    else:\n",
        "      fechamento = cnpj_filter.groupby([\"CNPJ/CPF\"])[\"tf_resposta\"].mean().sort_values(ascending=False)\n",
        "\n",
        "  return fechamento"
      ],
      "metadata": {
        "id": "qbbuDKSUzaZ_"
      },
      "execution_count": 17,
      "outputs": []
    },
    {
      "cell_type": "code",
      "source": [
        "# chamando a função de tempo de fechamento em minutos\n",
        "round(tempo_fechamento_cnpj([\"21791666000185\"]) / 60)"
      ],
      "metadata": {
        "colab": {
          "base_uri": "https://localhost:8080/"
        },
        "id": "q5H-IzQ7brSO",
        "outputId": "4ff31d3f-d6e6-450d-cc18-5f4994f952d5"
      },
      "execution_count": 18,
      "outputs": [
        {
          "output_type": "execute_result",
          "data": {
            "text/plain": [
              "35"
            ]
          },
          "metadata": {},
          "execution_count": 18
        }
      ]
    },
    {
      "cell_type": "markdown",
      "source": [
        "# **Número de atendimentos por operador**"
      ],
      "metadata": {
        "id": "bmI7pSn_dVZO"
      }
    },
    {
      "cell_type": "code",
      "source": [
        "# função que recebe um CNPJ/CPF e faz a contagem de atendimento/chamados por operador\n",
        "def count_chamado_operador(valor=[]):\n",
        "  cnpj_filter = df_editavel.copy()\n",
        "  cnpj_filter = cnpj_filter.loc[(cnpj_filter[\"CNPJ/CPF\"].isin(valor))]\n",
        "  \n",
        "  if len(cnpj_filter) == 0:\n",
        "    return print(\"Sem chamado encontrado!\")\n",
        "  \n",
        "  contador = cnpj_filter.groupby(\"operador\")[\"CNPJ/CPF\"].count().sort_values(ascending=False)\n",
        "\n",
        "  return contador"
      ],
      "metadata": {
        "id": "IjmM0J29yaXq"
      },
      "execution_count": 19,
      "outputs": []
    },
    {
      "cell_type": "code",
      "source": [
        "# chamando a função de chamado por operador\n",
        "count_chamado_operador([\"21791666000185\"])"
      ],
      "metadata": {
        "colab": {
          "base_uri": "https://localhost:8080/"
        },
        "id": "mxPKfodHdoZj",
        "outputId": "c82fef75-b0ef-4eae-c7b5-05e7f9623447"
      },
      "execution_count": 20,
      "outputs": [
        {
          "output_type": "execute_result",
          "data": {
            "text/plain": [
              "operador\n",
              "Alini Maria dos Santos Lucena    20\n",
              "Name: CNPJ/CPF, dtype: int64"
            ]
          },
          "metadata": {},
          "execution_count": 20
        }
      ]
    },
    {
      "cell_type": "markdown",
      "source": [
        "# **Quantas avaliações esse cliente deu para os atendimento do laboratório?**\n",
        "\n",
        "# **Qual é nota média de satisfação desse cliente para com o atendimento?**"
      ],
      "metadata": {
        "id": "p3qkZU-3b_6C"
      }
    },
    {
      "cell_type": "code",
      "source": [
        "# função que recebe um CNPJ/CPF e faz a contagem de avaliações e determina a nota média de satisfação do cliente\n",
        "def avaliacao_cnpj(valor=[]):\n",
        "  cnpj_filter = df_editavel.copy()\n",
        "  cnpj_filter = cnpj_filter.loc[(cnpj_filter[\"CNPJ/CPF\"].isin(valor))]\n",
        "\n",
        "  if len(cnpj_filter) == 0:\n",
        "    return print(\"Sem chamado encontrado!\")\n",
        "  \n",
        "  avaliacao = cnpj_filter[\"avaliacao\"].count()\n",
        "  ava_media = cnpj_filter[\"avaliacao\"].mean()\n",
        "\n",
        "  return avaliacao, ava_media"
      ],
      "metadata": {
        "id": "S4giHuDNvCZ2"
      },
      "execution_count": 21,
      "outputs": []
    },
    {
      "cell_type": "code",
      "source": [
        "# chamando a função de avaliação por cliente\n",
        "print(\"Número de avaliações: \", avaliacao_cnpj([\"21791666000185\"])[0])\n",
        "print(\"Nota média de satisfação: \", avaliacao_cnpj([\"21791666000185\"])[1])"
      ],
      "metadata": {
        "colab": {
          "base_uri": "https://localhost:8080/"
        },
        "id": "Haxdjc2HcUQq",
        "outputId": "739c0c9b-1e7b-4066-95a5-9f5abb62a0f1"
      },
      "execution_count": 22,
      "outputs": [
        {
          "output_type": "stream",
          "name": "stdout",
          "text": [
            "Número de avaliações:  8\n",
            "Nota média de satisfação:  4.5\n"
          ]
        }
      ]
    },
    {
      "cell_type": "markdown",
      "source": [
        "# **Gerando uma nova planilha**"
      ],
      "metadata": {
        "id": "Nm7QW0-Xd5Ej"
      }
    },
    {
      "cell_type": "code",
      "source": [
        "# função que gera um novo csv com o dados mais importantes do cliente incluindo o link de cada atendimento\n",
        "# url, data da criação, tags, cnpj/cpf, operador, tp_resposta, tf_resposta, atendente\n",
        "def novo_csv_resumido(valor=[]):\n",
        "  cnpj_filter = df_editavel.copy()\n",
        "  cnpj_filter = cnpj_filter.loc[(cnpj_filter[\"CNPJ/CPF\"].isin(valor)), [\n",
        "      \"data_criacao\",\"url_conversa\", \"tags\", \n",
        "      \"CNPJ/CPF\", \"operador\", \"tp_resposta\",\n",
        "      \"tf_resposta\", \"atendente\"\n",
        "      ]\n",
        "    ]\n",
        "\n",
        "  if len(cnpj_filter) == 0:\n",
        "    return print(\"Sem chamado encontrado!\")\n",
        "  else:\n",
        "    if len(valor) == 1:\n",
        "      path = f\"novo_csv_resumido_{valor[0]}.csv\"\n",
        "      cnpj_filter.to_csv(path, index=False, encoding=\"UTF-8\", sep=\",\")\n",
        "      return path\n",
        "    else:\n",
        "      cnpj_filter.to_csv(f\"novo_csv_resumido_{len(valor)}.csv\", index=False, encoding=\"UTF-8\", sep=\",\")"
      ],
      "metadata": {
        "id": "9gX-8qYrzu8y"
      },
      "execution_count": 23,
      "outputs": []
    },
    {
      "cell_type": "markdown",
      "source": [
        "# **Enviando um e-mail com a resposta de cada pergunta**"
      ],
      "metadata": {
        "id": "PtAuBY4keFuE"
      }
    },
    {
      "cell_type": "code",
      "source": [
        "# função para enviar um e-mail com as 5 perguntas respondidas\n",
        "def enviar_email(contagem, primeira, fechamento, avaliacao, ava_media, cnpj, path): \n",
        "\n",
        "    # o envio de mensagens do e-mail aceita formatação HTML\n",
        "    corpo_email = f\"\"\"\n",
        "    <p>Olá, Tudo bem?</p>\n",
        "    <br>\n",
        "    <p>Conforme solicitado segue os dados abaixo: </p>\n",
        "    <br>\n",
        "    <p><b>- Número total de atendimentos:</b> {contagem}</p>\n",
        "    <p><b>- Tempo médio de primeira resposta:</b> {round(primeira)} <b>(s)</b></p>\n",
        "    <p><b>- Tempo médio de fechamento do chat:</b> {round((fechamento) / 60)} <b>(m)</b></p>\n",
        "    <p><b>- Número total de avaliações:</b> {avaliacao}</p>\n",
        "    <p><b>- Nota média de avaliação:</b> {ava_media}</p>\n",
        "    <br>\n",
        "    <p>Qualquer dúvida fico a disposição,</p>\n",
        "    <p>Att, </p>\n",
        "    <p>Adilson Gustavo </p>\n",
        "    <p><b>Ps:</b> E-mail enviado utilizando script em Python</p>\n",
        "    \"\"\"\n",
        "\n",
        "    # Para quem será enviado o e-mail\n",
        "    destinarios = [\"adilsons2tv@gmail.com\", \"adilson.barreto@hitechnologies.com.br\"]\n",
        "    ocultos = [\"adilsons2tv@gmail.com\"]\n",
        "\n",
        "    msg = MIMEMultipart()\n",
        "    msg[\"Subject\"] = f\"Dados referente ao CNPJ/CPF {cnpj[0]}\" #assunto\n",
        "    msg[\"From\"] = \"adilson.barreto@hitechnologies.com.br\" #remetente\n",
        "    msg[\"To\"] = \", \".join(destinarios) #destinatario\n",
        "    msg[\"Cc\"] = \", \".join(ocultos) #destinatario oculto\n",
        "    password = \"samsemkimelhceuu\" #senha gerada para uso e depois excluida\n",
        "    msg.attach(MIMEText(corpo_email, \"html\"))\n",
        "\n",
        "    # criando anexo\n",
        "    # Ler o arquivo em binário e codificamos para base64 para o e-mail aceitar\n",
        "    anexo = path\n",
        "    attchment = open(anexo, \"rb\")\n",
        "    att = MIMEBase(\"application\", \"octet-stream\")\n",
        "    att.set_payload(attchment.read())\n",
        "    encoders.encode_base64(att)\n",
        "\n",
        "    # Criando o cabeçalho do anexo\n",
        "    att.add_header(\"content-Disposition\", f\"attachment; filename={anexo}\")\n",
        "\n",
        "    # fechando o arquivo\n",
        "    attchment.close()\n",
        "\n",
        "    # anexando o arquivo\n",
        "    msg.attach(att)\n",
        "\n",
        "    s = smtplib.SMTP(\"smtp.gmail.com: 587\")\n",
        "    s.starttls()\n",
        "    # Login Credentials for sending the mail\n",
        "    s.login(msg[\"From\"], password)\n",
        "    s.sendmail(msg[\"From\"], (destinarios+ocultos), msg.as_string().encode(\"utf-8\"))"
      ],
      "metadata": {
        "id": "mUpZxs57_3MS"
      },
      "execution_count": 24,
      "outputs": []
    },
    {
      "cell_type": "markdown",
      "source": [
        "# **Criando a função de que executa todas as outras**"
      ],
      "metadata": {
        "id": "1F8oRWIJeSTi"
      }
    },
    {
      "cell_type": "code",
      "source": [
        "def main_cnpj_email(valor=[]):\n",
        "  count_geral = count_chamado_cnpj(valor)\n",
        "  if count_geral == None:\n",
        "    return None\n",
        "\n",
        "  primeira_resposta = primeira_resposta_cnpj(valor)\n",
        "  tempo_fechamento = tempo_fechamento_cnpj(valor)\n",
        "  avaliacao = avaliacao_cnpj(valor)[0]\n",
        "  avaliacao_media = avaliacao_cnpj(valor)[1]\n",
        "  path = novo_csv_resumido(valor)\n",
        "  time.sleep(10)\n",
        "  email = enviar_email(\n",
        "      count_geral, \n",
        "      primeira_resposta, \n",
        "      tempo_fechamento, \n",
        "      avaliacao, \n",
        "      avaliacao_media, \n",
        "      valor, \n",
        "      path\n",
        "  )\n",
        "\n",
        "  print(\"\\nNova planilha foi gerada com sucesso.\")\n",
        "  print(\"E-mail enviado com sucesso!\")"
      ],
      "metadata": {
        "id": "ZaJ5UxhdROjd"
      },
      "execution_count": 25,
      "outputs": []
    },
    {
      "cell_type": "code",
      "source": [
        "# chamando a função de execução main_cnpj_email( [ \"PASSAR O CNPJ/CPF SEM PONTO\" ] )\n",
        "main_cnpj_email([\"21791666000185\"])"
      ],
      "metadata": {
        "colab": {
          "base_uri": "https://localhost:8080/"
        },
        "id": "c98HE4qLscez",
        "outputId": "2336358a-7490-42e7-b129-5d1fa40bffb6"
      },
      "execution_count": 26,
      "outputs": [
        {
          "output_type": "stream",
          "name": "stdout",
          "text": [
            "\n",
            "Nova planilha foi gerada com sucesso.\n",
            "E-mail enviado com sucesso!\n"
          ]
        }
      ]
    },
    {
      "cell_type": "markdown",
      "source": [
        "# **Como o e-mail chegou**"
      ],
      "metadata": {
        "id": "RLcIgIVtW12j"
      }
    },
    {
      "cell_type": "markdown",
      "source": [
        "![email_dois.png](data:image/png;base64,iVBORw0KGgoAAAANSUhEUgAAAjYAAALuCAYAAAC921x3AAAAAXNSR0IArs4c6QAAAARnQU1BAACxjwv8YQUAAAAJcEhZcwAAEnQAABJ0Ad5mH3gAANh9SURBVHhe7L0HlFzVlbY961/f/898EzzOecZjxp7xOGfAIKLIUSJnLOOMbY1tDDaI5AAiJ9kGDAiwAcsEEwQmZxBB5CwyKKDQyq1A2H89t3s3W4dzK3RXq1u332ets+reE/YJ99bdb51zqurvTAghhBCiIkjYCCGEEKIySNgIIYQQojJI2AghhBCiMkjYCCGEEKIySNgIIYQQojJI2AghhBCiMkjYCCGEEKIySNgIIYQQojJI2AghhBCiMkjYCCGEEKIySNgIIYQQojJI2AghhBCiMkjYCCGEEKIySNgIIYQQojJI2AghhBCiMkjYCCGEEKIySNgIIYQQojJI2AghhBCiMkjYCCGEEKIySNiUMGXK07bW2uvaf3z0YyuE//7Ep2yHHXe2s8462zo6Orpz9y/Us+2I7exHP/pf6+zs7I6tDk8//Yx969vftY99/BP2uc9/yS6//IruFDHYeOONN+zJJ5+0X/7y17bh8I173hebbralnXDCSfbSSy9353wTfy996tOfs5tvvqU79q2U3edHjj1qhfegh698dU079rjjbdasWd0580yadFeR/88T/tIdsyL3Tp5ctO36G27sjnmTxYs77aKLLrY99/p6cW9ih9dvf+d7dsONN9qyZcu6c75Jq+2lr/Q5V8YD48c4CiEaI2FTgj+MeRhts+3InrDJplsUDpiHDWl/+ctF9tprr3WX6h+qLGwQNetvsFExpowtzrLMAYmBpaNjrv34J/v1OFsc/NZbjyiCO32E/2mn/2EFhx8/JOy62x42e/bs7pQVqSds/P6I78Vh66xX2MT23Xff0537rTQSNqeM+60N32gTe/HFl7pjugTcddddX7zHKUvg3qTeKOj4kPPkU091l+qi1fa6sGHstthy6xXKeEBYPf/8890l8ixZssTOOOOs4v1EPbT90MN+adOnT+/O8VZoO32IY172oS4N6Xgi2BBuPmb0t5HwnDHjFfve939QXPd6HxS5HgjMP/3p/KyYzEHfDjv8lw2Fr/PKKzNtzJhD7LnnnuuOyUP9l152uY3cbofiOnPd9thzb7vlllvt9ddf7871VkgjD3kpQ1lsYKtRn1544UX7+S8Oamlsqe+vl15WlMnd+369/L4kX5lN3hu8R/zap2Gw+SYJmxL8zc1DKmX58uXFp7v11tuwuDn/cMaZ/SpuqixscCqM4YS/XFg8vKC/hWJ/4fdMFa8TD/2ddt61eIgxu/bMM8+u8BDn+L777i+cMHlwsI6PC7MipJ144snZa1xP2FAeOxHq/Nvfri5EVT3BVE/YLFq0yL75re+sUCf3Ifcj96U7hcWLFxdpzoIFC+ykk04p8my+xVY2bdq07pTW20u91N/Iuddj3rx5hQ36SZu5DlFITZ58X3fOLhh/+uiCNPYfAYWQisIqBrcbxxOhRj3Ek04+d8Ibb7KZPfXUlO6cXTDGzN55mUZ9Z5aQvNtvv1MhhhrB9frBD0c3nCV0GI+jjjqmaMsFf57Q8yxKwe7++/+8yOdC1D/sEsrubeJI83yUoSw2sIXN9B5zbrv99p6xbGZsgQ8hBx40pshDSO/9+H5O7xeEcSrWH3nkUfvSl1fvqT8NzOAuXbq0O/fAI2FTQj1h4/jNwcOBh2d/UVVh4w90HMP0GTO6Y1ddqipseOAyU8MD+Zxz/5h9cDu8JxCr8SHt44IQwKHzfkEEpbQqbAAHdPIp44q2lb0H6wkbf2DHNBwJbcSJxlmcFOq+rPZp+4477uyO6aLV9vr7oLfCBpu//d3viz4ec+zxPZ/+o5BilmDu3HlFPJ/IfeaN2SfSm71nva2xf8+/8ELhYIljec4Fb1n9LO8xRozBGmuuVZSr13dEJGIaO1ybRjAe48efXfTvuONPqHu/OnxQpT2MS5nAwA72sItoiDMbCFsEMjbihzTg2IXyqFH7FLMvDmNyyCGHlbYVgYHQSMeWfBdffEkxJvgg3ndAXby3uB7Ux7MV2/H+puyvfvWbIv3sc87N3i8/+9kBK8wiMe7YyS3X9pVnnnmmJuz2bxgOPvhgu/rqq7tL1UfCpgR/GNcTNvDww4/Y6mt87S03QjupurDp7QN9sOH3TNWu08SJVxYPQab1m3ESKT4uOF0+PfMpGkeFw4r0RtgAD+304R2pJ2yIQ9ggcABHgxPmPc17uze02t6+vg+YQb7kkr8WzjYdU67XIYceXoz5/fc/UMThnP7nk5+xk08eVzjkVp4tLgAQUu68Ebv0B5GXEkWGO0V/ZtLeqVOn1u075V20NStScOypw6+HC7PcTEXE7ebuXWAmCTGMLWw6bp8Zmjiz5yCkmF3CdhT8+JNfHDimGO+coGBsmF1ibPx6MD68T7n/eK/l7n3ucdq5+x572fz587tju0B07vuDH71laZby8R5qN4ceeqhtvvnmtvfee2dFDWGfffYp8lx77bXdpcqRsCmhWWHDzYeoSR9kqN+4nsrNxQZLlq24eVK4KXnDf/e73+9Zf91l190LG0xZlz18sIXq3mqrbYs6KEud7A/ICa10rZZXzuOniBzx4csblY2ibiOOUW7dNrXvtkhPQ3zA+Zh8f98fFm960svGMF4v9u34OFLGPxn31l46ZjwAWWphTwO4QyYtDfGBkt4TXONm19gd8sX1/WZs0H6mitNrzvQ+Y1IPv79xRI8//kR3bGvEsfQHL+1Ip/x7I2wo39sZG+8bn7RZkgLfSMwn2t6IOGi1vfG91Rth0whmyui/10e/cMK0pWzMc8ycOdN23GmXtzjoev0FH39m8oB6Kc/7oVHfKct7Nc741INnZb1ZwRTq/+l++xfXAwFfBm1mqYp8N910c3fsW3GRF+81jokjrQxsYps6qAv8ffOd73yv9nzKzyJxHdnjxjNgzpw5RdzChQt7xip377uwYZzSMS0TNlzjddfbwJ599tnumPYyd+5c22GHHWyvvfbqea6m0K9ddtnFRo4cWdyL9ZCwKSE+jBtx/vkXrPDg4CZk0x5xa35tmB3+y18Vdlx8pJ8keNCcdtrpxY3NG3L0//6k+HTCtCWfrHjIMqWYPnxYW+WTADaxTR3U5ZsHeWDHfQeobZwaThVb1MEr58R7+3P4AwjbrL9jn2lsHnJHH31skcfX2bFH3djnUxl9IvCJjjctnzDZdM2bmPbjNH/9myOL/AgGnEwcE9p20EEH94wJcazrss/D8evFmxWbtIG20Ub61Vt7PDDoM2viPr5cU/rPA5Fxob20m42HOEXqp2/Yv+eerk2i8Z7AHnaOOea4YuNm7lrlIJ185I/t8eudTqMz1my4ZCziNeH+4nrQb8akngNniZB7j4ddTpA3Q/peip+QEaFOq8ImTp3HPSspuYc7+IZId7hw5pnji7zNLHmU0Wp7/b3VH8LGxVvqqJxmhQ33ks+8pOPImHEvlTl83veU4zmZUq/vvtTf7OwZ9zH3N3XRVhcIZZDuS0SNZiN9L1ajZXNmfHg+HPDzA4vnHDaZMYuzgjm4FxAocRaFWRr6wviWQR94dpbNpuTufcoww0O/06WoS/56aXF/RmHP3hmeLf4Big/clCUf/Wz0obhZrrnmmmJG5oQTTuiOeSuTax88yPOTn/yk7vWVsCkhfRjXwxW53zz+7ZHfHDF2BfXJjcOnVG4KPrX5hfHpXd44cWMc6Wz6c8cVHz68EXg44qRvvfW2FS4yNyo3LDaZyvQbl77wBrjrrruLc4dPNtysV171t6KNOfwBRDtoD+3yOnkD8AkMIUFa+smePn396/u85WFf76HmY4ITRqk71HnnnZOKh10cD79etI9pXV//Jj996os9RFAUDJTH0acPEy8T7QB1uFOIeyCAtrFWji3S6j1ccUy77bbnW/a5YI+y2I/LATzUePjwaTedAmd8GCfGpN4nVe8TD0+/3q3iNuJ7CcGV3p/1hA15m/2WUUqZsPF7gnSHunBM9ZYkGtFqe/194GI8lvFQ7xrVw/tYdm81K2xcjOZmTvz65vYk8SzgmcD9zWxYivc9fQbQVhcpiH/GhWNslc16+94ovtTBs5HxrOd8ff/KF7745eL5RF7KMNuLkIr3u49TI4Gf5vP+IVrKhDfk8rlfaSSy6+Uru/fjBy18CPeY35/phywXdaRxL/FhkGvj9yzj1pcPApEDDzywEC4ImDKOP/74Is9FF13UHfNWJGxKyD2My/AbK9487lBTeCjwpnNlzg3GVCN1UWcOfzjFh0+uzggPBj6FxAcKDhE7fHKq50Bz+BuPOnNr6W677AHsU/xR0JU91HxMeJDGtWqH8tiJffPrxYMqLdMXezin3Lo41yQdfy8TrxP4dHHZdDqOnU/VubancE/FB65DOcr7J0Uf23r3lYtR7sdcu8D71G5hwzVB/HPPMJZQ5mQpx1ingQdyo6+8Qu7hzv3PJ+k4hQ/tEjZpWwll7Y3vrbJQ9j6vhzv6entNysY8wlghjOK1inBf8ExwYYAtHB/OkHPaX7ac4n1PnwG+n4WyuVlv3kuxT9y/xJGWawNjH50v7zlENfnplztrn82kDOLb73m+Kcb7q944gY+n94d2Mf5p/1J8HOL7leV+2heFd456vqBM2NB/fpbBr48HxoIZ+Pjhj2cOQnz06B8X9uJzwIVr2bO1VRBU2267bbHkFNsQYbJg9913rz1Tt7aXXspv7pewKSH3MC4jXYoC1DqfLNjD4TcMsyI8AHiT+43OmiVrl+6QcnCxcYz+piIf+RtNi/JGpm6fyuTBwl4L2sIbnXYwFfvyyy83dFq5N57j7UEYsBzDAyIN1Mt0bHwwuM30Te9LBLxZfEknDZSjb/6G9esV7Tvttge5B0ZZGWZ1GJvttt8xWzdhr71HFfYaPcTSPUw8mPiEyRJHvEe8zzjvMhHLNUew1Jsm74+lKCf9Cq87hXT8KEe+9L5rlty1QswgatLx6c+lqDLoK31u5PxawZeFcTr1RFrZmEdcZNTLA8yK8BwgL/clIoT7nvOy/S65vnM9WArhOnB/xvsOJ+uz3nG2z/eocC+lv0OTc77EMUtLfJx9BgQ/YiS228epCjM2jC/PHMaL/Vf+oQb/wNjS73rfDkvxpcZYR2+h79ttt11DYcNeHIRN2W8OSdiUUPYwTvFP2/FB5mvDXGzf+xL3UxD8jdxMPenDJ/cwyJGzzRsYIXPBBX8uPuG4YudHspp548V+Op7mfasX4hpyWT+83bnyafD9EV7GxyjSbnvQirDxvM2EK6+8qrvUW/GpcxfJ3FNcW2aVvLzX7W1pdP/6Q7FMUPn9jRNIlxibpawt3Iu+RIfg5H0T73OHcpTHTm/IXSufQUxnIDy+vzYP56Cv9LnR+7lZoqhpdM3SZ0uKtw1nVyZOcrjzZNzr7XfJ9R1Hi0DBycelecfvybiZ1WeUGu3zYdkXeOW8bEOv3wfYhSrtsYl9S+/x+J6s9yyKeJ8bPWuaQUtR/UyzjoG1WB76vNH80wPOkRuDX8mMy1HcNOyHYbbE38grc8YmB+r33D/+qRA48RNQij+Acg9s31zWqD0puYca+JjUm21I8evlYxRptz1oRdiwgZiHbr3r0Ig4K3bjjTet4Ci4x5h54xp63e2asYF2fd07917yJQQcJ3+lkXOyzQgFxoBZmDgujjsId2rAezS3odbbw3u6mQ2rOQZS2DQ7U+M0EjaMXW+uPc8erin7uOp98s/1vVGbgDGmXb45v9GY+/vVhUojQe/3LM81nm/cV4jveuIJEErpc8HrKhNR0M5vRUVyzylvT9lMkJfx9ytfbWdTsYvIlHYJm1Y2D//4xz/OvtcdCZsS/Kaqd7F8ZoY3cHyD1HuTufL3NzI3LDduvTelP1ziG91vznjDRngIxT023ARMFeOk0gcUU6ZMndZ7sPoDqKydvscm/QTsYJd2xLpzDzXwMWH/R25/C7CMwTRk+hDIPQzbbQ9yD4yyMv7wKfv9C+DTcO7TqVM2Vo4vGXndnr/efdXMHhtg/Hw/DNe5noMjL/cdU9ou6n1cyt5LjCXvIfLwmo5fvfcT8AmXzZ+568v19P1T/onW34NpPY475dxm2BSEBP8bFett1N6URte2WWg3H5pYcsn9Gm0O6qPe3Fi4yGulL8B9zNg1I65yffc4yuf2bfAe4r0Uhak/D3P7/7gH0lkI7jnu57jnL+LP3PiNOV+SG8y/Y5OSe04xBsSxVSJXxme3/IOYj1W7ZnhytPJ17+23315f9+4t9R7GfHrmRiv7SwXeDMSnv0DJjfr7359WpMU3sr+JeNhG50bZdn0ryp07b55rrrl2hfz8cSFvutwPNjn+sCl7yLmTpK3pmjU3JL+uSXv47xIn91BzfEziN5wcHpbs4uer3P4pwq9XHKNIu+3lHhg+s8bDLb2O/uZP9wyQhi3q4htPuU9d4DM2XL/0k5aPb3qPYJf8OKf0gcoYNPOtKCcur/JgL/tLBV9uxdn7Na33XgLeO3xSpVzaB2gkFBhD/xE3xsHX5onnR8p8DFy8MTvFLFXZhwLK+deAeX+Rj/dPBMfG+5xZMuxfccXE7pSBETYuariP488WNIL6csKGMWjkNHNwLRG2jF36/MtR1nd/v7KpN36jifcO7yHaFf++wJ8/jHvZrx/zvPTldhdHxHN9faaa9vozlxB/joC6fHltsP7ycEruOeVCi/vl6quv6bEZ+x6Xnn2suNex422MY8vvGzUSG/XwH+j7+te/nv1xPoL/QN/111/fXaocCZsS/GHsDwsP7GfgBuVmIS33J5jsYWGjqN/I3LB8ZZj8bCbmDRjfyJQv+x0b4nAWtCV9+LT6Ozb+JsGm79Hw35nhpuXXS8vwB1C9BzafiFP73m/i0v9RqfdAJ5/PAsUxoU+0FZvRwfv1SsfIabe93APDP2H5vcF15psVwKcQvv7vaYwL48M40aZmPmXjkGkT7aVdtN+/xZG7R3hQ9fV3bCLN/AkmNnFsceOfj2WZsAF3TNhIx7wZoeCzSpSnr9hCqHKeXluuWaPlN8aumT/B5MMNP58QHdnKFjYuTmgPm8rj8yqGnID1sumYu/NLRXojfNnSf+OpEWV9j89EH3uuKdeW89x/K/kyHOlcN/rs1y/3/kIAkod0v5d9U356zzjUuSr8V5STe05BtMkrNuMXEuI3wiCOlef38ow5Y99bmv1LBcI555zTXao+EjYl+MOYCxcDFx0nctZZZ9d9CPm3V+LNwzlTp7k3MjcRa/rxF3P9V3GZUck9fIBPMK388rC3y29i3tD8Em/6uw0p/gBq9MCmT6eeenqPuKI99Ikb3z8ZOGUPNYf2sETkMxU+jny6Z0wifr1yY+S0017ZAwPnj7jEPn2PU+P0n3GI15hxYrzq3UuR+M0TL9/oHqFMb395OMXHEHvRwXPMOFJXatPHsp6wAXeKaR+aFQrc7/yAmL8XGCPGKn5CJg/74RB5LEk1gvcXD3l+lNLHnFfOmfnMTZsPpLCpF9J7FbxsOuY8JxDe/LZVKyCCDj740OwSUo56fec+is9E7g32kjDLkHu2Qfrc5TnHclPZuHJ9ef/484py/L5L+jyIUDdtoC20qd4zLkIav5nFB1bvDx9syp7VEdpDu7xfzT43yp5TgE3es+lzIb5fIrmxYqzjzNVgQcJGCCGEEJVBwkYIIYQQlUHCRgghhBCVQcJGCCGEEJVBwkYIIYQQlUHCRgghhBCVQcJGCCGEEJVBwkYIIYQQlUHCRgghhBCVQcJGCCGEEJVBwkYIIYQQlUHCRgghhBCVQcJGCCGEEJVBwkYIIYQQlUHCRgghhBCVQcJGCCGEEJVBwkYIIYQQlUHCRgghhBCVQcJGCCGEEJVBwkYIIYQQlUHCRgghhBCVQcJGCCGEEJVBwkYIIYQQlUHCRgghhBCVQcJGCCGEEJVBwkYIIYQQlUHCRgghhBCVQcJGCCGEEJVBwkYIIYQQlUHCRgghhBCVQcJGCCGEEJVBwkYIIYQQlUHCRgghhBCVQcJGCCGEEJVBwkYIIYQQlWGlCpsHH3rUxp97ge1/8OG25zf3tc1H7m7rbrK9rb/ZjrbFdnvYHvvsawcdfoT98bw/20MPP9JdSgghhBCiOfpd2Lz08lQ79Q9n2S57fsPWGLahrb/R1rbOBhva6mutY5/93JftM5/5iq2++rq27nob1dI2tY0229zWXn8TW2fDzWzHXfe2084426ZOm95tTQghhBCinH4TNnPmdNjxJ55ia6873NYfvpkNqwkXwn/9z2ftn//p/9o73v42e+8732Xvf+e77UPveZ/92wc+aB//2Gr25S99wTbadBvbaPNtbfhm23QJoY22shNO+b11zJ3bbV0IIYQQ4q30i7C57PKJttWInWzNdYbbBptsVcy+rDFsfXv/hz9ib3vne+wd73iHvedd77YPvvd99pEPfMhW+/C/2398+N/sPz+6mn3605+2L35pdVt72Hq24cZbFOJmg81G2PAttrOtd9jdJv7t2u5aBg8dHR227YjtisDxQw89ZJ/7/JfsxBNPttdee80mTbrL/uOjH7Mjxx7VXWLlQr1rrb2uTZnydHdMdXnkkUe7j4QQQgxF2i5sjjn+FFtzvU2LWZYNt9jBvrL28FrYwN73wY/YP/7Tv9j/+T//x/7+//sn+5d/epu961/fbu99+9vt/e98p33ofe+3//rYf9tXvrymffWLX7B1h61jm26ypW26xba28ebbFcIGgbP+ptvaCaec2l3b4OAtwubhh22NNdeyk08ZJ2ET6Ms4LFu2zC697HIbud0O9rGPf6IIHBNHmvPss891HwkhhBiKtFXY7H/QYfa19Tezr22wZRG+MmwT+9xX17F/ett77B//4Z/s7X//D/b+t/2z/ef73mdf/NhHba3/+bit8fF/t8988F320X/9J/vw2/7JPvqe99gW633NttxwHdt8441sk023XGHWZuOtdiiOD/nl2O5aB55U2KRI2HTR23GYPXu2ffNb37E99tzb7rxzUjHGhHsnT7Zvffu7tv/+P7fFixcXeZ944oniVQghxNCkbcLmZwceWszUIGy+ss5GtvaGW9inPreG/dM/v8Pe+S/vsPf84z/Yp97/Ttvos/9lO6/+CRu1zmft+xt93vbfanU7dMf1bL9tvma7rf7ftvHH32tbr/1522TNz9vwr61hGw/fyDbbckQhaBA2G24+sggbbbm9HfKr/hE3b7zxht188y221VbbFo74K19d0373u1NtyZIlPenXX3+Drfm1YcWS069/c2RNgG3RI2xSB56ed3TMtcN/+aui7H9/4lP2gx+OtpdffrlIg1mzZtlhh/+ySCMPeSkDLqKo77e/+31PG84446xidigH9ZLviCPHZvPH9jATgoBg1gk6OzvtRz/6X9t66xHFGNAm+uNi6fQ/nFGMz58n/KXITz+++93vF3biuJHOGHjAJraZbfnLXy4q2pXWDeT56X77249/sl+PeIkQR9r48WcX1+Xuu++xpc8/350qhBBiqNEWYXPUcSfbGutu0iNs1h2+ua2+9nr20dX+u1hyeuc//L2t8fGP2M5rf8G+sf5X7BebfNqO2PaLdsoua9q5397QrvzFjnb1wXvaeT8aYSftNdx+uOOmtuuma9sma3/VNlp/Pdt4s60LIUPYeKudeoQN4cRxp3W3on34Hpltth1pf730Mhv9vz8pnLE778cff8JWX+NrheM++OBDC6FBejPCBjHxq1/9xj716c/Zaaf/wc477/yiLhz63LnzbMGCBcUsBE6emYh9f/Cj4hjnjpN3YeP1UT/twN799z9Q1JdCveRfb70NCwHDKzYnTrzSli9fbmPGHFKcH330sXbuH/9UCJYdd9rFZs6c2SNsKO/BhU2MY2yYWdl1tz2K9hx62C+LPpGG6HjhhRftD2ecWZwj5BjjV199tUgjbpdddy/KUHb9DTayp59+pmj7TTfdXIiqadOmrSAoEVj0Zd68ecXMzU4772pz5syxR2pCy9ZYw2y6vkkn+kjJBwUhxOCmz8LmsiuustXX2bgQNGttsHm3sNnEvrT2+vZ3/9+/2jvf9X773H/8m+0x7Av2ww0/b99f62P2my2/bL/e6tN21rfWsov329Ru+OVudv2YXez2X+1uDxz7dbu+dj7hJzvYb7+9nQ37z3fa8HXXromZXWuiZg9bb9NNa4JmxyIM32KH4vWqa67vbk3/wIbUL3159WJmBud65pnjC2d82WWXF+nTZ8ywzbfYqilh40KBGRecNUIHJ88Sy8KFC4u8iAzED2kEhIcLFxc21Ee9cP75FxT2L774kuI8hXpp/4MPPlic88r5AT8/sBA2Eeo75NDDC/Hw5FNP9bSX/Pfdd393rjfF0t/+dnUxJnDllVetMC4INYTO7nvsZfPnz3/LuCBE2CeDcJkx45Ui7pprri3ynDLutz1tOeqoY4o6KI/oop477rizGEOW1xiTPff6etHeZ3+2f+2urt3Wb3+72ejRZoceqqDQeuDeOfro4p4UQqxa9EnY8JXu4ZuPKGZrorBZc531bNgGG9v/8//+o/3L3/+9Df/8/9h3hn/Z9l33k/bzzb5kP6u9nrz7MDv/B5vY1QeOtL8dsL3dcFCXsLnvuK/byxceaLMuP87m33SOPXT572ydz/+3bbXFzrbpFrvbFtt2iZoYRuy0t3XUnGi7wInGpSgPvnyCY44zJC42mhE22J7wlwsL8cJMDbNBN9x4Y88GWF+y8dkh8DiES1pXTI9lItQb99gws4KYYN/KokWLanbeXIrCjgfa7cIm3aODTc/jeFwaysYFe9j1cY1xLC/NnDWrEEXX33BjIcAQYggdBA+23C59oC/EPXHCCV3CRkGhr+Gss4p7UgixalF79/aeo48/uVh+IiBqXNiss/Fm9rkvr2Fv++d/sf9879tt57U/b9/d4PP2vXU/bQduO8yO22sLO+sH29tffjLSJh/3fbtn7Lft5kP2sPuP/64tvGKsLb7pKFtyw8n26u1nWee959l+u29sa39hdRu+4Xa22bbM3Oy0Qthk653tlN+d0d2qvsPMBE6eJZMXX3zJJk++r5jBaIewgddff72YNfnZzw4oll5I86WmlS1ssPGLA8cU/WUmhHOWhLBHu3sjbH7/+9Pstttu7wn33HNPIdzScWgkbKZPn170k3LeZu8jbfUxYGaIpTPqufuWW+2l//P/vtVJKSi0Ev7hH7ScKcQqSu0d3Dv4RWEXNT5b07MUtek29tH/+qS97R//r33ivf9suw/7lP1o06/at9b9rO385Y/ZDzf7qh220/p2xndH2DUHj7LHxu1vT562v00Zf4A9/+eDbdHNJ5lNPt+sJmrskQvs3MO/YV/8j3+3LTffyTbMiBrCptvsYlOndS3N9JVUKPhSlDvgvixFsW+FDbXs3WHmgdmG733/Bz3CgbzNLEXVEzbMCrF/xaHesqWoV155ZQV7vvyDPdrSirDxdrB0hB149NHH7Jlnni2O03FptBTlfaWcCx7vI8tvfj2ef+GFYskLEUreER/8sC36l395q7NSUGgmIGrOrz1/hBCrJLV3ce845fd/6BE2ccaG4zU22NI+/NH/Ln6fZvjn/9u+u+nqtuMX/t02/Mi/2maf+g9b89/+wbb55Ptsv42/aOP22sRuOeK79sL5h9vNR+9jp+y9hn3zy++2E/fYyG459gc27aqj7ZFLj67Z+bitv8EmtskOe2aFDeGM8TUh1AbYsIq4QKzghHGuOFt3pHHzMLMbbHwl3cVB6sDjOeWZnWGGhG8mXXTRxYXDxjG3snnY64IobBAUfPsJ+74nxkUIm4bZJ0S/sMnmYb5V9J3vfK+nvp//4qBiYy75aXcrwuaVV2YWm3ixRbt9MzB10i4XiLQDcceeonqbhxmP7bffqViKYo8Oy1KIsYcffqSIHzVqn6LOY449vvgWGXX4WB9/6GFmxx9vrx54oF21+hp2xr9/xOb84IdF4Jg40t44+GC7cb317aR3vtuu/OrqNvWb37Tlv/iFXb3m1+yEt7/TLv7c5+224RvZ+P/4qE38yldraQfavNGj7dz//Jid9qEP243rrmcXfOJ/ivJP7bqbLdl//+KcwLEdcog9ssMOhS1eG6Vz/sC22xbnF37ms3ZTrW3UM/6jq1nHD39YpNMe0l/eZ5+m8tMu2kcfbl5/g+KV/NjJ2Xtx1Cj73fs/UNjBHuNyynveay98fZR1/uxndlGtHsbwsR13svu23qbIe+1aa9trBx1ks/fdt0i7ftg6xfmS/Q8oxvDkd7/HrqvFcUxd92yxZVHXs3vtVbTtTx//L7tlw+FF27DnbaFtfu04T8cqvZ6Lfrqf/fl/PlnUQ91+/SnDmN+ywYZFfuqY/u1vv+X+4J7RTI0Qqza9FjZbb79bl4jp/jZUnLHh20r//pGP2Qff+a+264Zr2rc3/pKNWut/bN9N17Bff3s3O/aHu9qhe2xu31v3s/bjdT9pv917A1ty8+m29LY/2J0n72uXHPotu/Cg79jtJx9g1x3/TZt/7zn2nRHr2wbrb2wbbbd7draGsPuo73e3rm/gIBEdiAOWoPgFYZyt70nxPTg4aPIgJHDMzQgbSL/uzdej/VtAQHqjr3vXEzb8MCA/EOhLZdSLMOFbT/QHm/Hr3syoIKwQJCy/sTSFPQRFK8IG+Lo3AinXdm8baQgghAtxiDvaRf3x696kMXPls1e33X57IXzYNMxs2Te+8c2izH4/27+njnSs0/b7zI+LVHjqqSnFfipsMZMG2DvmmON6rlH6lXzaSFspw71BH2hjo+vTKB3qjQmkY98oP+nxfvZv+fkYpfa4vxnrHXbcuYiP/QPGgfHwa3zgQWN6ZtyeffZZ23iTzWqa47CefWMxP9cv/ekE3ktcU+riOnBOPNC2eO+lY5VeT5Ys99p7VHFvcH/59We8uY98DK64YmJRR9n9LYRYdemVsLn/wYd7ZmqisOG3a3gdPnxj++R/fdw+9LZ/sD2Hr27f2fDzdtB2w+yHm37JRnzm32ybT7zXvrX2Z233z37UvvOV1ezwrT5rc6460TpvONVO2WV1+9HaH7G/HvxtW3L7BHvjoT/ZnDtOt4NHbW/bbratbbjVLm8RNDE8/Ojj3a0UVYBZJ5wOjlb0DgQG38BzfLmPmS4hhKgavRI2Z57zp1JhQ9h+y81s/a9+0T7w939n39x0DTtg5Fp20Lar2z6r/4d9Z91P2b7suVn3C7bHp/7D9l3zv+yQzT9lD522n9md59qF39/KDtyoJmzG7G03HPsDe/2+8WYv/s2O+t4ets4X17Z1NtxxBVHDZuIYzvvzxd2tFFWAWYJzzv1jscfo2OOOL/bTMNPBV7uvu+76t3xdXbwVvpLP+LHM6Mt9zFzEr+8LIURV6JWw2f/AQ+xr625UEzW1sP6mtvr6mxcCh6WirYZvZD/f4st26Hbr2Gb//i/2481Wt0O239B+sUXtdYuv2JHbrmlHbPNlG7PxF+wXG3zBDtn4S7b/mqvZLYd/y+y2c2zpLX+w+0/+X+u4/Iia0DnLlt95gb3+0k121VHftefvm2AXnniwfWXDLW2DbXa2zUbsVoicLbbZ1bbcdrea0NnJDvu1fnuiarBkwL6a7+/7w8IhM9swbJ317OSTx/UsJ4lyFi/uLH6lGkHjS1VsIPflHiGEqBK9Eja77PXNLlEThA2zNhtusEkhbH48/Cv2i23WtW+s/Rk7sCZqxmy/gY3dZUP77Z6b2Fnf2Mx+u+t6duwO69gvt1zD9lv7f+zUvTaxh0//hdmjfzV77CJ79crf2bS/HGadk8+y11++zpZNu8EWPvRns8577Jk/nWKrD9/KhjNr0/3Vb4TN1iP3sC1G7mrf+eFPu1sphBBCiKFGr4TN8C136F6K2rhH2LBp2IXNmK02tG997XM2athnbL9t17HDd9nIxn1zazvj65vYuaM2tnO+uZn9bteN7LBNv2Knj9raDtnk0zb7qnE2/ZoTbf7dZ9mrl55idlftdd419uob95stn2wLHvuj2exr7PnjD7Z1N9vONh25e8+MDUtSW9TOETY77v6N7lYKIYQQYqjRK2GzxgZb2RrrdX+1uyZsOHZhs9mGG9ovt17P9vzMv9uoNf/bfrr1mnbk3pvYCXtuZKftOdyu/PEudvVBe9m53x1hB234OfvNlmvY6XttZNMvOc6evuAwm3HtSTbjvF+Z3XeevbbsFus0fnvlXnvssoNt2QPjbcqxP68Jq51s85F71MLuhbBhbw3CZvMRu9hW2+3W1UghhBBCDDl6JWy+ut6Wtsa6m3XP2tTC+l3fhuJ3ZjZcfwM7aPiX7Hurf8y+ucZ/2rfX/S87Yo/hdmxN1Jz1za3s2jH72MX77WTH7TjMfvTV1WyXD/9fO323DWziT3e0hVecbG/cerZNOfdgs3vOMVt2p71mD9nSpbfY5DN+YI+fcYDdc/oRtsGm29umW3dtFvbZmq2239O22W53G7nTXt2tFEIIIcRQo1fCZv1NtyuETc8GYmZsNtjShm2wqa23/kb2o42+YgeN3KD4teGdP/chG7PdWnbSqC1s/HdH2oTRO9tRO3zV9lv343bEtmvbSTttZOfts7U9cOyPbdaEY+yNG8fbY+ePsYVXn2g2/yZ74/XJtnTxTTbrymNswTVn22nHHGIbb76jbbbNbrb5iN0KcbPldnvY1jvsVQibXff8VncrhRBCCDHU6JWw2XmPb9ta625qa62zka2+znD76nqb2ZobbmVrDd+iEDfbb7Se/e+eO9n+u29nO6/+CfvpFmvaMbtvZH/41pZ24U93sTO/u7kdvPkX7ZDN17BjttvArhnzHeu4dJw9e+6v7eWLjrPFt51unVeeYK8vrAkbu99mv3iJvf7wX2z25Gtti223ty233q0mYvYqBA3iZsvt9yxmbLYasat9/0c/626lEEIIIYYavRI2Pz/olzZsvU1qwmZDW2PYhoWwWWOjrW2tWhg2fEtbe8PNbIMNhtt2Gw23rb/0Sdtv63Xt+L02s9/uPdwu+umO9pef7GyHb/ll23f1j9tRI9e32485wJ4+7yibd+NZdsmvRtmNY0fZa3872Za+eosts8k27/lLbPkzE+2XB+1rG2yxu221ze6FsGEJig3EWzFbs+Petu32e9iRR5/Y3UohhBBCDDV6JWzOOuc88x/m88DmYX6cD2Gz3kab2YYbb2PrbLZNTfisaV/fZE07Yo9N7Kg91rM/fm+knb7vSDtq5/Xt+J3Ws3O/uaVd+uPt7Jk/HWr29ESzF661N+493xY/fJXZ65fba3afXXr56faJ/1zTth05wrbc+htdszTb7VHM0iBuOC6EzU5ftz9fdGl3K6sP/xK+YMHC4lXw9wlLiiCEEGLo0ith88CDDxfCJv3VYUQNYZ2NtrB11+9amtp8y81s6y/+t+2/9Ro2du/hduo3t7KT9t7MTt5rMzvrmyPszD03slN3XNP+dtDONvfGU+21xy6xzicvMpt5q9mSq+2NV++zXx66v2268fY2cif21OzdI2YQNv7qwubRx5/sbmU14X+djj3h5MKBP//8C3bgwYfbtO4/7fvt7/9g99x7X3G8Mpk9Z479+shj7Ovf/J59Z9/RdtkVV/X8uzjt+dURR68UwXH6mWfbny6Y0H0mhBBiKNIrYQP8CWYUNi5qEDhrrL+xbbLZDrbh5tvb19ZY0/ZYbw3b+2sft/23W9OO3G24Hbnz+nbE9uvaCTttaKfusp5dPno7e/iU/7Xlt59ty+/7sy2be01N1NxutvBWmzvtdvvK579qW2+7u22/xyjbesev93wLygMbhxE1+3zvJ92tqy5R2KQMhLDhLw9OGneqXXjxXwsxg8ja/xeH2IMPPVKkr0xhI4QQQvRa2Iw79Yxi+cmXoqK4WW+Lbexr62xm62y0jY3caoTttd5atsPn/912W2s1+8lWX7X9tviSHbj1mnb0zhvaaXtvajcf/g177LSf2fI7zjJ7+BKzudeZzbnWOl++zo45/AAbsf0ettWO37Attt/FNt96lxUETfFtqO7ZmnP+1J5P64iHw3891o4+7sRiFuKnBxxkzz73fHeq2eT7H7Af/O/PbO99vmu//M1RxYwF4MQpd9ivjixEBpTlTamXj7Tv/fAn9s3v/tBO+d1pdszxJxVCgX+gRjT4P1tHYUN57GAPu9hwpjz9TCE+SDv0l0fY1Kldf5BIv8cefbz94cxzin6P/skB9nQtDvj5/auvub6YkSHtlN+eVvxUP39pcNEll9krM2cW+cDb8dfLrrC9vvGdIvx4v1/YjFdmFm130UMfjjjqOLv/AX6rKA92mA06stYu2svY3v/gQ/bzMYcV51wj2gHUR4BWygkhhKgOvRY2L708rRAziBpmbjheZ6OtirDWxpvaBsO3tfU3HWlfW2Mt23HNL9modT9tI7/8Ydtt9Y/atzb4pH1v+OfswBFr2imjNrEbj/y23X3KD23m1Sfaq/dfYEse+KN1PnqB3X/dSbbWl9azjbbb0Tbb5Tu2+fY72K47f7NH0ERRM2LnUTZ9xivdresbOPj/3e/ndt/9D9prr79ul1x6eeEYcYQ4Z5zj4088Wfxr8m9P/YOd/+cLi3I4Uxz4c8+/UJzXyxupl+/lmuhAhJDGjAgiAofdSNicevqZduHFlxbtv/ueyXbI4b+x+QsW2KxZs+3nBx1qt98xqUi79robCwFE3+j3D0bv15NGeWZjmJWhTwfXbDAjg5g56tgT7ZrrbijqisydN6+w98KLLxXntCfO2CA8vG8vvfRy0RfaVQblf7r/QUVexub4k35bnNMO2kxd3o5U2DRbroxTTz3VDjjggGwgTQghxOCj18IGjjlhXM+MDTM16268dZe42Xgz22ijbeyTX1jT/u7v/h/b/HOfsNFbfc32GPZfttPn/922/cz7bI+vfcx+tu2aduI3N7cJB+xg5/xwE7v8l7vZnaf/1O4/82f24g3H2ZN3n23D1trONt91V1tri11t+z12t5Fbd20UdmHjoubUM87tblXfwcGzd8UFA7MfnOPcERcLFy7q+QPBSXfd0zM7gzP1Y6iXN1IvH8c4ZcQF0DZfiqonbM46+4/FrApCI4I9RMmyZV3/ir1o0aLCyT/2+JMr2IYoShAICKx7J99ftDcH8aedMd4umHBRT1+iDaCO3xx1bFHvzbfeXrSzHumYIlzScxczqbBptlwZtPH73/++bb755isE4kgTQggx+OiTsJnT0WEbb7ld1/LTJtsUogaRs/Z6G9i/ffhj9nf/77/Y29/5Dvvse95m39zgc/bt4Z+1fdf5rO2z7qdtzzX/y/Za82M2ZsRX7fTvb2K/32dt+923htlpPxhuz0w8vmb8UrvhmlNs4433tG1q4mX73b9l22y/q+20y7cKMeOzNYia3UftW3Pg87tb1XdSYYNTxuETj/Nmc+z3f/STnmUWd5ipM62XN1IvX+qQmxU2zKr86fwJhc24FJXaww42KFdP2CBUHn3s8WLp6hvf3rdnKcoh/dLLJ9qJJ/9uhfhoA3iljiefmlLMBtVbhoJ0TOsJlHjcSrl6pOJGokYIIQY3fRI2cPmVVxczNetvum2xHPXFNde3v/+Hf7S3/cu77P++8332jve82z7zvn+2kZ/7sP1gky/azzb6qn1v/ZrIWefTts9a/20Hb/tVO+P7m9rVv9zdnvnzofbqPefa8pevNXttol1w4Vhbf4PtbcS2o2y77Xe07XYaZZuM2K0QNogaFzbX3XhLd2vaQyps4owNDnnMob8qloggOszUmdbLG6mXr7czNo4LEuwze5Paw0k3M2MTWbJkiY37/el2+cSrumPM7rzr7mImKIoayNmgf2eOP7fIn84opbQiUOJxK+Ua4eJGokYIIQY/fRY2cMABB9nb//U99i///E77p398u733bR+wd73rPfaPb3+bveO9H7APvuuDtvZ/fMQO2PxLdvyOn7LfbL+mHbbNl+3gTT9tv9zik3bbsfvYwltPtuWPnGuvPndJzZPcYAuXX2HnHf5T23bEN2z4iF1t1+33tC22/4aN2Pvbxcbhkbt8w7bbdZ+2LkE5OPh0j43va2HjK/tt5s+fXzvvLGYo3GGmzrRe3ki9fHH/DTM7zeyx8T0kN99yW/EbN5R1YdNoj02ZsLn19juLfPPmze/ZB+TCBrGE/ZkzZxXnEWaKKEe/HOr50Y/3t7PPPa9nyYo6Fi1eXBxHBoOwAQSNRI0QQgx+2iJsYLfd9rL3vudD9o63v9fe9faasHnn++zt73iXvbMmbN5bEzaf//CH7IcbfcH+8K0NbMJPRtoFo7exM7+xoZ397Q3s5mNGWee9p5m9XBM1C66z5YuuqVm81U7ZYVvbbKPtbaevf8822Xp723WPfW2L7fYoRA2zNUccfVJX5W3GhQ0OOf1WFOKCJR7/1tAZ48+134w91pYsXfoWZ1ovb6RRvt58K4r2ImD4BlAr34oqEza0kU2/tIF2vvmtqK6lLF9C8+DlEEKIHjbu+uwM8em3oVLh4QwWYSOEEGLVoG3CBr6+9z72nnd/0N717g/Ye971fnv/u95n737XB+ydteP//MD7bY9hn7fz99vTbv3Nrnbbr3e3Ww7bxe74zd726Dn72evPTDBbcr29/vqNtU/xt9jC5y60fd/xftt54+2L38bZePud7Os1YcPfJjBTc+SxJ3fX2n5w8HEpSvQ/iCYJDSGEEH2lrcIG9vvpAfbO933IPvieD9lH3/vv9u5/fa+9rSZwPvCBD9jGX/yUnTZ6H7vr6N3tgWP3tqdO/rY98ft9bd7NNZHyysRa6VttwetX22s1gXP9uP+14z7zVfvx1rvaBptsYeusv6ltvN6WNmKHPe20P7R/+SkiYbNyYZmKb1PllrKEEEKIVmi7sIFzzjvP/udjn7T/+sB/2nve9l7713e/3977wQ/Z5z76UfvRNtvaXcd/254966c29dyf2It/+pktf2C82Wz+G+omW27X2/KXL7N9PvV+O3LNde3kvb9rX/zqmrbn1rvZdlvvZJde8eaGVSGEEEKISL8IG+DT9+EHHmYffNeH7N3v+YC9/wMfso+890O2wWe+bBN+8Q17YcJYW3DV0dZ5ywn26uPnmnVcZzbvarNFV9vfjtvH1vm7v7NDN9zUTtvtG/b5z37JTj/u9zZ3rmZQhBBCCFFOvwkb57nnnrfDDz3cvvSFL9tH3v8R+9RHPmU/2nJjm3TmkfbqvWebPXWevfr0eWYzrrI3nr/YFt13hp2y59dsw7//v/bzTbe0JydeZVNfernbmhBCCCFEOf0ubCL33n2v/f6U0+ywH/7Erj7jRHvt8cvNnr3AltWEzdKnL7ZXn7zCpt3yR7v1/N/ZI3fc2V1KCCGEEKI5VqqwEUIIIYToTyRshBBCCFEZJGyEEEIIURkkbIQQQghRGSRshBBCCFEZJGyEEEIIURkkbIQQQghRGSRshBBCCFEZJGyEEEIIURkkbIQQQghRGSRshBBCCFEZJGyEEEIIURkkbIQQQghRGSRshBBCCFEZJGyEEEIIURkkbIQQQghRGSRshBBCCFEZJGyEEEIIURkkbIQQQghRGSRshBBCCFEZJGyEEEIIURkkbIQQQghRGSRshBBCCFEZJGyEEEIIURkkbIQQQghRGSRs6tDZ2WmjR4+21VZbrQjDhg2zKVOmdKdacTxixIgV4oBz8k6aNKk7phzyuP00jBw50jo6OrpzNsbbO2HChO6Y5ijrR7tJx5Nj4oQQQoh2IWFTAoICYRFFggsWjysTBGPHjm1K1KRQplUxExnswoZxITjpuRBCCNFXJGxKKHO6UXy0WxBUWdjQp1GjRq1QB8fE9ba/QgghRIqETQYcLQIjN+sS01JBwCszOr7U0upsRE7YpHH16kQkEKKwoQ2N2uM2x48f35M3FUdldjgeM2ZMzxITbX366aeLVz8vEy59FXJCCCFEioRNhlQ8ROKsSMzn8S6G6tkoo1Vhk87QkDeKEl5JJx/lsZMKFsAW4sjz+rn3JdpJ60TYkDe2x9vbTJ1ehxBCCNEOJGwy4HRbFTYpOGx3+M2SihhI42Kdaf2xbakAAY6JIy1C+VRkIFgIbiemcex2PJ8Tz3NtAK8vjRdCCCH6ioRNBp9piM7ciWmpsMCh+3IN8WWipwxstiJscvlpA4Ih14d6wiZtK3mx5Xa8Xx683ihkIJ6XCZu0jBBCCNEuJGxKKHO+UUxEQZCKg/S8GVoVNmkdUUjkREUrwsb773aiQIqk4xTP6wmbNE4IIYRoBxI2JfhMRXTAOP64hBIFgae5AMB5t2MpKrVL3W7XhYMLCc/r7ePVhUyuP46XS+3EOqMgIp+fc+zlIJ6XCRshhBCiv5CwqYM7Zl9+cUHhcBxnOnDonnfixImFkIjiIAqAHDlhA9HuuHHjVvjatAsW0nhNhUQsW1a/96PZb0XFNhIf7cbzMmFDusSOEEKI/kDCZiWBEDj77LO7z4QQQgjRH0jYrCSYjfHZGyGEEEL0DxI2QgghhKgMEjZCCCGEqAwSNkIIIYSoDBI2QgghhKgMEjZCCCGEqAwSNkIIIYSoDBI2QgghhKgMEjZCCCGEqAwSNkIIIYSoDBI2QgghhKgMEjZCCCGEqAwSNkIIIYSoDBI2QgghhKgMEjZCCCGEqAwSNkIIIYSoDBI2QgghhKgMEjZCCCGEqAwSNkIIIYSoDBI2QgghhKgMEjZCCCGEqAwSNkIIIYSoDBI2QgghhKgMEjZCCCGEqAwSNkIIIYSoDBI2QgghhKgMEjZCCCGEqAwSNkIIIYSoDBI2QgghhKgMEjZCCCGEqAwSNkIIIYSoDBI2QgghhKgMEjZCCCGEqAwSNkIIIYSoDBI2QgghhKgMEjZCCCGEqAwSNkIIIYSoDBI2QgghhKgMEjZCCCGEqAwSNkIIIYSoDBI2QgghhKgMEjZCCCGEqAwSNkIIIYSoDBI2QgghhKgMEjZCCCGEqAwSNkIIIYSoDBI2QgghhKgMEjZCCCGEqAwSNkIIIYSoDBI2QgghhKgMEjZCCCGEqAwSNkIIIYSoDBI2QgghhKgMEjZCCCGEqAwSNnXo6OiwkSNH2mqrrVYEjolrBxMmTGi7zYFg7NixRejs7LTRo0cX/arHpEmT2tLndtmpOn4PM16twrXkmnJt+5tm758cfg8KIQRI2JQwZcoUGzZs2AoPWo7b4Uz74mwGG30RNn1xnBI2zSFhI4QYakjYlJB7WPbl4RvB2YwaNaoQT6s6fXEqEjb9z1AQNkIIEZGwydCKM+BB7EtV0Qng7DnHDmnM/iBk3LaX8Qd5mR3agAgiYOP666+3ESNG2Pjx41ewEcu7TfCZJ+K9DTncsbiNVKxwnkvjmJBzTLkyLkiuu+66njTvb9oG8kXhktqL6c32M+YjxGucXpuYFttG+TFjxvS0m7Z4/4Ax8DRotm0Qr2O0kY5NrC+Fdkcb9Mn7kvY/2qnXR2hH28rqdxvjxo3ruQb16ojXHhsEt+33oJfxOupdX8rUa7cQYtVBwiYDD0jEQz0HBDwY/QGbPkR5jU6Mc39Q+wPWH6z17JAWH8L+8E7T/WHOq9uqV09KfLB7G7wcaWnbvT7KELxMbIeXiWmxDTGPl0nb4PZiOU/zc29TbK+nRbyc52MsEYzRpteX3gOxrV6fn/sYOLm8XmfsR0quj24Xm+nYuM1IWh/l/P5Jy7XSx3a0rV79nubvmWbqIA6I97RoM/YnLUMb4vtTCFEdJGwyxIdjPeIDFeLDP02LD9nU+dSzE48hbVt6npb1OsEf7l5vhPblHvSpQ4DYF297zJcr48T2RTspPkZuo5Ux8rJpP71duTrpt4sch/rK+hPbnrYtptGGWJ/bStsG9fqIzWYccbNjAcSlQqLZPvambSm5+svqiHifvK1p24hHzMU28RrfJ7n+CiGqgYRNhnrOwMk9GOODOPewdScR7Teykz7c0wd0eh7z+wM+DWUP85jfnUJsqxP74v2M/ciVcdL2uR1Pi/XTL/Lkxoi2uRBJ7dSr3215PV4u1h0DfWt2DJyYxnHObuwLeLtifBwriLbKhESsG9yut512ug3G1++dXB85pixp7WgblNWf63+8xtQX7fu9Aen4e1/qtTdXnxCiGkjYlJA+LJ0Yn+aJD880jQcoD1IeqP7gJT/Us5M+kHnYuzPInadlvc5WoT2UxU7qAGJfvO3RUdRzGrF90U5aJj1vZYx45Zz4eng+6ohONCXXn9j2tG0xrZVrUK+PKeTL2a03FvXunVb72Ju2tVq/1zFt2rQV0tK8ads4xm5ZXZCrTwhRDSRsSuAByCfD9EEbP43Gh7s/KP0Bmz5ssUM6+aKzgXp2YhqkD+j0POZP6yEP7ffzSK69fp5ru4+Ll0sdRSwDni+2L+bJ9ZtP526P8zj25CvrJ2U8LZLm8zo5T9vvef08ttXT/DzW53bSvF5nvWtAXGrHx8PHz6HOeO6k7cYm48hrWjfl45jW60c72lavfreZqyOtz/vkfSQ+prkN0r39biOOS+y7EKI6SNjUwZ2ET4H7AzPCg9LT/SEK8WEL8SHrdv0BD2V24oMaeBA3K2yAeB7gbtsf7Cn+4Pd8aV/pi6fFfnk/U8cBsYz3KbbP2+bnpMU6PDhxjPjGTpxhif2s57DS8Yj2sUVbcmlxfMjDt3e8T7EctvnGmqdBs9cAyu6DWD/BxyxHrI8xIvi9Rp/cxsSJEws7ngYxnePYhna0rax+t1H2rah694Yfex7vj9v0fOn1jf2mb55PCLFqI2EjRC+QIxRCiMGJhI0QTYCI8ZkW/+Tv50IIIQYPEjZCNEG9JSwhhBCDBwkbIYQQQlQGCRshhBBCVAYJGyGEEEJUBgkbIYQQQlQGCRshhBBCVAYJGyGEEEJUBgkbIYQQQlQGCRshhBBCVAYJGyGEEEJUBgkbIYQQQlQGCRshhBBCVAYJGyGEEEJUBgkbIYQQQlQGCRshhBBCVAYJGyGEEEJUBgkbIYQQQlQGCRshhBBCVAYJGyGEEEJUBgkbIYQQQlQGCRshhBBCVAYJGyGEEEJUBgkbIYQQQlQGCRshhBBCVAYJGyGEEEJUBgkbIYQQQlQGCRshhBBCVAYJGyGEEEJUBgkbIYQQQlQGCRshhBBCVAYJGyGEEEJUBgkbIYQQQlQGCRshhBBCVAYJGyGEEEJUBgkbIYQQQlQGCRshhBBCVAYJGyGEEEJUBgkbIYQQQlQGCRshhBBCVAYJGyGEEEJUhiEnbM663+yQGxUUFBQGX+D5tOTV7oeVEKJXDBlhw8PiE6fUOnyogoKCwuANbz/SbPrC7geXEKJlhoyw+d09b32AKCgoKAzGcMSt3Q8uIUTLDBlhwzRv7gGioKCgMNgCzyshRO8YssJmvfFvrmsrKCgoDGTgeRSfT8QJIXrHkBU2enAIIQYLej4J0T4kbIQQYoDR80mI9iFhI4QQA4yeT0K0DwkbIYQYYPR8EqJ9SNgIIcQAo+eTEO1DwkYIIQYYPZ+EaB8SNkIIMcDo+SRE+5CwEUKIAUbPJyHah4RNL+jo6LCRI0fasGHDbMqUKd2xZhMmTLDVVlvNJk2a1B3TBXnIO3bs2O6YoUfZ2OTw8R09erR1dnZ2xw5+0j5yvdN7pIp4vz2k15hxKEsTXUjYCNE+JGx6gTteHtRRrJQ5b+JXBSeNAx43blz3WWMYB/rfTL8Gi7BptY+tMJiEDW1ZGSKCOrhWXDM/j32O6Wle8SYSNkK0DwmbXuCOFycWHVkrznuwgSNqZVapVfExGIRNq31slcFy/QeyHX7tvG7G2seba8k1XRXfH/2NhI0Q7UPCphekwsYdcOpQ0k/sMT067zFjxvTYGj9+fBHn59EJcOzx0a7bGjVqVBE8raydKWk+jokrK+8OyuPL6nM70MjZejqBGRXKxvaW9T2l1baRRh6Pj+3z68c18fQoiqJNXml3tBGvv/cPW14fZSZOnFgcE2J/037EenO2vGwcp1gu7We0B5zHct4Hb4ePVyN8TCjvZWkvpOfiTSRshGgfEja9wB/ePKRdlPAgd4eTc2wQ092Gp0cnGdMJHBNHmjsFbHtaags8zh1eIwfljs8dXqPyZel+ntpLxyZSltdt1et7Sm5cytqUq5dz4oH4tN403c+9rtjHmO59inXFPvo5rz6W3g9vp7ejzJbXm557ec+fjouPL69p3el5I6g7LevtANrg/RBvImEjRPuQsOkF0TFMnTq1OCbU+8QO0eG4jdQJlJ2ntqIziu2hXJru5OKc1Pk1Kp+rEzyefAS3lzrbSJqW2q7X9xw+dt4Gt5P2Ma3X093xpvXmrl/sf2ovlvc0t+19yJ2n7fT+eF1pPamtNJ3z2A+IcV6e4HX2Brfj9Xq7/Ryw7+0UbyJhI0T7kLDpBalTc0fiwR/krThGdwLEkZaeYyvW4QGbzThZ4NjLpKTOtFH5svZ7ejP2nHScUtv1+p7ieXlN7ZS1KQ2ezmvZ9UttQdrHWD5Ni2OZnrttzmPwe6GRrTQ97QfEPPHaefAxaxZvg9cJbtfblZ6LN5GwEaJ9SNhk8Ic0IXUIkDpMP/cyZQ4lOpPUhj/03Xml5znn5KS2IOdocnGOO1N31I3Kp3Wm5dPz1NlG0rTUdr2+R9JyjdpYr02Q1lvv+qXpEMunabxyTnx6nrYzpZGtNJ3zdPxyceB1R3uNoJ6cLaAPbodxYry8XeJNJGyEaB8SNr0g59TcuaQOxc/9oe7nqQ1PJ4609Nztu5OITjPXnkb2Uzy/O9NG5f3c090h+jl2aK/bi2OR4mXTvG6rXt8j3mZvY2on7WNZvd7GtJ566W67LD0tm/YpnvvYej8atbPMlqen5b2tPi5l9nhN25Litr1sCvFeNh6LFZGwEaJ9SNj0gtQxgDuA6CA8H3G8xj04qY3UgeQcCuUo7yGtJ7YHYv2END0Fx0e+nLPOlXeHSKAt8dy/oeVlUueZEvvW6FtRzdpxG7z6GKZ9dMfsZVwcQBQmkPaBtmHf62rmW1Ge5u30+tLzaJsQx6KRrXjdvFzaTxc5jtv0kLYjjmEkLZeWBx9zgrdZrIiEjRDtQ8JGCCEGGD2fhGgfEjZCCDHA6PkkRPuQsBFCiAFGzych2oeEjRBCDDB6PgnRPiRshBBigNHzSYj2IWEjhBADjJ5PQrQPCRshhBhg9HwSon1I2AghxACj55MQ7UPCRgghBhg9n4RoHxI2QggxwOj5JET7kLARQogBRs8nIdqHhI0QQgwwej4J0T4kbIQQYoDR80mI9iFhI4QQA4yeT0K0DwkbIYQYYPR8EqJ9SNgIIcQAo+eTEO1DwkYIIQYYPZ+EaB8SNkIIMcDo+SRE+5CwEUKIAUbPJyHah4SNEEIMMHo+CdE+JGyEEGKA0fNJiPYhYSOEEAOMnk9CtA8JGyGEGGD0fBKifUjY9IKxY8faaqutlg2kVQ36NGzYMJsyZUp3zIp0dnba6NGjbeTIkdbR0VEEjokjrS+ktvubdrY9pdE4isZMmjSp4ftuwoQJPfH1rqPfW43es83m6wsSNkK0DwmbPtCfTnCw4H3EoZThD34XH+0cl9R2f9Of13QoCxvERr17qLcwliNGjOgZU+qIY8yYlwkSF0nNtIv29+e1k7ARon1I2PSB/nSCqxL9KT5WtrAR7cdnUNotbPzewL6DiInn9SBvs/cVggZh06ztVpGwEaJ9SNj0gTJh4w9Bnw73B3rMP2bMmJ708ePHF3Fpfrfjjp209EGc1lX26bTVuoFjj08/rcY07HkbqSc3Lu7cPMR6UurZhrLxTfF2jBo1qgjkjf1Ix5fw7LPP9rSd8p42bty4nvp8FsDPo7Or1zbKeP1p2zw+9p1Qdj1zbcdmLO82nfQaxHZ72+K9kTrx2OfUtrfH02kX176sP2VtaUXIYjvm8zGNY16G543jW9YH8Pwxrp1I2AjRPiRs+kDuYecPx/gAdyfg+dNzHqI8jP2cwLHb8nNP9/rSutL0iKc1W7c7JHc41OFpntfr8bxl6e7E3OGktiONbKd9juOb4rY8HXvYTW35eSxDPo559bZ7eW+7n7v9Rm0j3s/TtoGX93HhNY5bxPPGtqfjGq9Zaju2xc9j2bTuNH9M93EgxGtWZsvTc7bTa1SG5/M6gPyIxIkTJxb2qMPblJKOR6M+NNuu3iJhI0T7kLDpAzzgeNDFh2f6EI8PUM/vD8f0YZmee1ke/E50Atj0YycXB63WnTqy6IwaPfS9LuI45pVAvpg/xjmNbBNfNr4psR1eTyzvZeP45toexyEdl/R61GtbzJtrm+Nj4MHtRdx2bHvaNrcT+8p5rs60bLTvbY11xTi/RtiONpx0XByPLytXD/LGvTWQjqm3K7bb8bHxa9OoD5COUTuRsBGifUjY9IGcc4oP6xiig0gfvMSRlp7zAHXn4kQnkXvQljmRVuvGdmy/B+yndaRlY11Tp05dod5c/kgj256ehjhGTmyH1x0dWm58YxmO03amYx7PG7Ut5s21zduT2kuvJXje2HaO07oJ2Mml1+tXbN8jjzzylrrS9vu4xuDtTvvheb3+tO5mwEYcO/A2eT3Aceyn423wsQGPiyHa6k07m0XCRoj2IWGTIT7g6j3I0oc71HNGaX4Cx/7gTc/LnJe3ibrS9uXioNW66z3EU6eQlo11ccwrgXwxf4xzGtmuN74psR1eTyyfG99c271uSMclvR712hbzNmpb7jySa3vatjK8bmx7+bRstO/5Y125OIc4bPu4pf1I60rPm4Eyad1+r8Tx4jiOsUM8baJtOdI+eFyr7WwWCRsh2oeETR/wh3t8cEaHAPGhnub3B7E/PNNzt+UP07R8WleuPU6rdacP/vhQT215Xi+bpqeOrZ5TaWS73vimuC1PT/uY2oJYP8cxP8RxSM8btS3mjfXQLvD8vHp6Wd9ybfex8nGN9aVpXj7mJb2ZtkNMT/vi4+znXne05efeDredXqMcnsftRWhX2g7vYyTtf6M++Hm9dvUFCRsh2oeETR9IH4aOPzR5eBMaPTz9YZmeux3/ZhC20gdrWpc7ppRW6wZ3SB6iI4n1tvtbUfVsp+mEnOOC2A7/tg/lKA9uJ45ZLMNxWnfq4NPzem2LeWM9PkZ+DbwsbSZ/rn+5tkO9a5amxbLeNr4l5+lpveTxNO+H4/3x9DhmMY3++fKk53W7tC93H6a4vbJ7KN5r6fg4biOmx3YSYhs8LV6vdiJhI0T7kLAZxJQ5L9Ec/e2MqgT3WCpWqg59juKlHv5eLBPRfUXCRoj2IWEziJGw6RsSNs0zFIUNMz7N9hlB05/jI2EjRPuQsBnESNj0DQmb5hmKwsaXvRq9v5rN1xckbIRoHxI2QggxwOj5JET7kLARQogBRs8nIdqHhI0QQgwwej4J0T4kbIQQYoDR80mI9iFhI4QQA4yeT0K0DwkbIYQYYPR8EqJ9SNgIIcQAo+eTEO1DwkYIIQYYPZ+EaB8SNkIIMcDo+SRE+5CwEUKIAUbPp1WPF+aZXf9s94kYVEjYCCHEANNfz6d5S8xOm2x2zB1dgWOcMU5Z9A3GkWslBh8SNkIIMcD01/MJAYO9g65/U9xsdV5X3GVPdmeqCIg4+vfk7O6IfkbCZvAiYSOEEANMfwubdIYGoUM8YqAqeF9X1vKQhM3gRcJGCCEGmJUtbNwpp/HwyiKzO1/qylM2+4EgKstDmtuN+bBbRsz3wPTuyAxl9Xo8fTr/4a76c32jDGXJS5lW8LLePo6pL0cz9ZT1RfQdCRshhBhgVrawYRmqXjwzOj6rw2sEx078d67oWvrhGAftuMP3fDHkRIvXGQPLZWneevWydyiW9+B4Wex6WUKuPTliGQJt8DojzdZTry+i70jYCCHEALMyhQ2zAzjeMsESnTCzLMQhVhzK4tQj0b4LG/LFeJw48XEGw+tklsUhnbyUj3kb1et9jW11iEvFhdfRCO9PtEt7iSNEmq2nUV9E35CwEUKIAaa/hU0aopBwcMCp2AFmFEhzKJ865YgLgXTpKSecsBttO4gv8sZZjEb11hM2ObydjWBMcm2kLc2Uz9XTqC+ib0jYCCHEANPfwgaBgFiIS00pHo8jjgGnTprjNhA8ub0hOUcOOeHBeU5kQZrWqN5mhA15EFbk8SWgRpAnJ0LK+gmN6mnUF9E3JGyEEGKA6W9hw6uDyCEuXTIhDhGDs01D6tgp64KH1zg7U+bwc8IjPY+QRt2RevXm7Dvk83LeJz9vBHkQIim5frZST72+iL4hYdMLxo4da6uttlo2kFY16NOwYcNsypQp3TEr0tnZaaNHj7aRI0daR0dHETgmjrS+kNpulUmTJrXl2tB3xqCK17cePn4TJkzojmkfje6rdkMf/F5I76eYlkuP+P3d6pj4vZy7h1amsAH2eOBMI+RrdXkEu6mtVoVNrk721qR5I7l6c/Yd8qX9LWtnCnlSgQW58r2pJ9cX0TckbPpAOx34YMX7iIMrY7AKm76UTVmVhA0Ot971aoXBLGzGjRvXdFn6Ee8D6o73J+fN9pF8vW13WdmVLWx8KSTGswyFg20Vt+W4I09nhHJ14sxzdbqNess0ab3AOWVTcvG58jnKxoX4Zupvpp5m2yKaQ8KmD7TTga/KtFNApEjYtAaOEyFSdWHTV1EUhY7fJ82MmeclcNwqfh+l47myhY3PiMTZEkQEccxOkN8DS1cuUlguId0FB684/Tij4aKEeBy22yAu3dvjdRLPMXm9fLTZTL1AHGIJO1FYebwv93gdhEZgh3yMFXap2wVZWr6Zeprti+g9EjZ9oEzY+MPLp7X9gRnzjxkzpid9/PjxRVya3+2QRjnSUied1lXmeFutGzj2+NSJxDTseRupJzcu7nA9xHpS6tmGsvGNuAPyPJ4vjU/Hq6ydXueIESN66o5tSu3G8XKbjHUsO3HixJ78cayAduXSvB0+LqR7XXHcCN43vx4en9YVif3ALm3mODriVq5lvbpdnDCmnh7rKetPWj/nuXuuHtiK4zNq1Kie61UPH39vp7eR2SPvJ+lcW145J97vk7J2rmxhAzhS0iJx34cHzt0Jg5fzwLk7cnBnTly0Vea4qdNFgofchuJG9YKLEAI2Hfof60BIudhqBp9R8cC59zPSbD3N9EX0HgmbPpB7SPmDLz6EOSfe86fnPPx4QPo5gWO35eee7vWldaXpEU9rtm5/YPsDnDo8zfN6PZ63LN0dEfkgtR1pZDvtcxzfFMpjx8um527L25G2kzrctucta0e98XG7sc2cp+nejliv2/KyjdqR9iFtSzoGKbG8541tS+379fH0SFp3bsxi2dhvz1tWb8wLaV1leHtjWa+LeA9eT4qX93Q/93r93MfXz73PZePfX8Kmt+Bkc2IoQnr8nRkndfhl+VKaqROasVdmhzqaaUsZzbQPmq2n2bERrSFh0wdyD9P0ARwf0J7fH2rpQy4997L+UIT4QMdmfEBDLg5arTt1HP6A5tWPqQvSsl4XcRzzSiBfzB/jnEa2iS8b35S0rOdNnQzB2+l5U9Ky5PE+eh/cHu0jeJq32duY9jGe5+xSZ1kf0vxel4+P2/ZzyMWBtz+OgefFrqfHtuXinFg2R3qPpW0Ht+HB09KyrYIdLx+P07SUsvH160EZypadQ67tg03Y9IXcTIYQKxMJmz6Qc0L+4EsDD7M0vzsFdyTpee6hGB+suQdkzjlAq3VjO7bfA/bTOtKysa6pU6euUG8uf6SRbU9PQxwjJy3r45mWJf3ZZ599Szsj6bWIfSS/jxevaVraJ145Jz4997Kcx+DXuVE70rrSc0jrd1JbkGtbTOeVc+JJj+TqjtCHeP/G/N5PT09tpWVbxdudjgHUS0vbEccH0uuTnkOu7RI2QrQPCZsM/rAi1Ht45h706YMvkuZPnUJ63uihSF1p+3Jx0GrduYevkz7M07KxLo55JZAv5o9xTiPb9cY3JS2bG08nzZuSlo19TMVbTOM8bXPax3ielk2p1456dfk55OIgNwaeF7ueHtuWi3Ni2RzpPRbbnvYjPa93fzaDj5vbi3ifcmlpO3iNfUyvT3oOubZXSdiwvIK4EWKgkLDpAzknlD7I4oMwze8PUHck6bnb8odgWj6tK9cep9W60wd2fBintjyvl03TGzmDSCPb9cY3pVEfG9ni3Ptcb6xd2Lhdt9Ns/9PzemNdrx1xvLyuND0dg5TYVs8b29aoL5G0bj/3tsd+QrTtx7x6uVgv8bFsWlcK5WKfKe/nHMdyMS3F++vt8HPKQHp90vOy8a+SsBFioJGw6QNlD1N/mPHAiw+9NH/6kEvP3U78Bkz6QEzr8gdoSqt1gz+0PfjDHGK97f5WVD3baTrBxzcl1yeP87KxjVDWTq/TxzftYxwrj/d63abb8rze7vQcqCfaS/te1g4/p1wuLsaX4XVTz8r4VhR9gjhO5CGvl+M+IK+3I94D2EnHIUdsd6wX6qVFvF5vR3rtPN2vT3pe1k4JGyHah4TNICZ9KAohBhYXXPUEVD1SYeRI2AjRPiRsBjESNkIMPhAlzLow+9IqlOU9zXs7ImEjRPuQsBnESNgIMfjw5aR01qURPtuTez9L2AjRPiRshBBigNHzSYj2IWEjhBADjJ5Pqw58lV1/fzC4kbARQogBpr+eT/xcP3/eyH8REfgPJhyzfsa/d/AbPVwf/U7P4EbCRgghBpj+ej65I+bPGF3ceB3x369XdRBq9C3+WWd/IGGzaiBhI4QQA0x/CxteI/6v21WZuVlZgkPCZtVAwkYIIQaYlS1smK0h/s6XuiO6Ye8IcTju3OwHQsht8Uq+VBxhm3heyUPwPSmxfCQXH+M4pl2EtD5Poz8stXmdKfSHduVsOG6rrP/YpR7SxeBFwkYIIQaYlS1scNrERwd92ZNdcSxbEfw4Qn7iXRgRKAeIl63O6wosC/HqeTgHL5+Si8/V5SH2hz1EaTrB8fLeLk8nPuL5mM3yfIiciITNqoGEjRBCDDArW9gws0G8z6S4U4/OnjTiohN3sUHwGQ2f/UBgIAoiiAkXPpATMJCL9zhsePtdPKWCq57gIC4VMbQTOxHO6UMkHbd69YjBg4SNEEIMMP0tbJh54JjgosZnUQBHn4oFIE8UKy420pkMID6KGKB8rMfLp+TiPc7Fl+Ptj7QqOHL1cZ4KmxQJm1UDCRshhBhg+lvYpCEVIMQhbHDYMSBqSHOIi+cR8kYRA2lcWflcfCt5mxEc5GHmhjy0KbXhS3Gk5fbXgM9i5YSdGDxI2AghxADT38LGZ2zS2Q+HPC5C0hBnMcrEBnia/1aO732JIqGsfC6+lbz1hA19doHmfUoFm4Pw8TRec+NFGvWJwYuEjRBCDDD9LWwaOWLyNFqGgTKxAQgBbBBcEKUzH62IlVby1hM2tIsQKbPtYI89N2k5oF9l36oSgwMJGyGEGGAGWtiwDJVups1RJghw9MQ3WqLx8qngof7UblldZfHEkZaSi/dlp3o0k0cMTiRshBBigBloYYPQIB8zLeT1gFCJ3ygqExXg4oTATIcv++S+aUVe7FMveRFVqd1WhY3PsGA31unxvqzk5aMN0mirCy5eKUdcBLuUY7lNDF4kbIQQYoAZaGEDcX+JB87j7EojYUPADvkILNuQn2PHxYEHZkZydsvqKouPduPsE3134USgjQi21AYixvMQOE/32EjYrBpI2AghxAAzmJ5POPNmhFDEHX6uHPHpzAe0WkezlNmlX83sjaG89tCs2kjYCCHEAKPnkxDtQ8JGCCEGGD2fhGgfEjZCCDHA6PkkRPuQsBFCiAFGzych2oeETS/o6OiwkSNH2rBhw2zKlCndsWYTJkyw1VZbzSZNmtQd0wV5yDt27NjumKFH2djk8PEdPXq0dXZ2dscOLFw7v97tvp7Yob/0e9y4cSvcU/0J9XJNCEP53hwMSNgI0T4kbHqBO97UIZQ5b+IHk5MuA4eKY20WxoH+N9MvCZs89JV++li6wOlv4j3p402cGBgkbIRoHxI2vcAdgX/adWfdivMebLTqrH0MmhUfVRI2VYD+xGudnouVi4SNEO1DwqYXpMLGHXDqvFNnGNOj8x4zZkyPrfHjxxdxfh6FAMceH+26rVGjRhXB08ramZLm45i4svKE2May+twONBI2nk5g1oiysb1lfU8pa5vHR5vEk+4OPdZBSB2/20rLldXpeP6c3bIxdur1O44ZgXOnmfH2urwNZXlF/yNhI0T7kLDpBe4IcAwuSnAKqTOJzhBiutvw9OjgYjqBY+JIc+eFbU9LbYHHufNy5+tlUtz5utNtVL4s3c9Te/UcbVlet1Wv7ym5cXE7aRs49zHzNngdaV7spnm9vfXqTPPGvqR5CRy7rXr9Ttsb2wdp+3O4/VhODAwSNkK0DwmbXhAd0tSpU4tjAjMNZc4QorNxG+6oUqeWnqe23ClFW+4g03QnF+e4o0wdcFn5XJ3g8eQjuL16jjZNS23X63sOHztvg9uJffQ8afvdtgevI7YhHSsoq7Nev3P9iHH1+u1tiHW1Ara9nLedtoqBQcJGiPYhYdMLUsfrzsuDO6rUMUUnl9pw50Icaek5tmIdHrCZ2krrctwx5hxY6qwblS9rv6c3Y89Jxym1Xa/vKZ6X19y4EE8c7aBOt+Ht9Xak7Y1tTPtWr85YLiU3JnGM3W4avM1pOvVSfyO8jWm9zZYX7UfCRoj2IWGTwZ0LIeeUUufl517GHUbq1KIjS20QOHbnkp7Xc5CpLfA+eFsgF+ekzrpR+bTOtHx6nnPiTpqW2q7X90hart647L333ivYTNuQnsc2xL41qrNev70tMS3Gtdpvyvl418Pzp/USR5pY+UjYCNE+JGx6Qeq8wB1SdFTRqZGP/H6e2vB0dy7pudvHJkSnl2tPI/spnt8dY6Pyfu7p7uz9HDu01+3Vc/BRKIDndVv1+h7xNnsbUzsxT2wbeF5eYx5vb6wztrdRnWnf/DzW43kJHLutev1O06Jd8HbkxhuwldbrbRQrHwkbIdqHhE0vSB0SuHOIzsTzEcdr3IPTyKml5+DOzENaT2wPxPoJaXoKjo187jwblXfnSaAt8dy/oeVlGjna2LdG34pq1o7b4NXHELyf0Qb1kNfLsik8CoUoKlxEuBBoVKfn9zxRQDQa43r9TtOi3UbjnfY3lhUrHwkbIdqHhI0QKwEXGqlwEQL0fBKifUjYCLGSYOZmxIgRxasQET2fhGgfEjZC9DNxKUpLPiKHnk9CtA8JGyGEGGD0fBKifUjYCCHEAKPnkxDtQ8JGCCEGGD2fhGgfEjZCCDHA6PkkRPuQsBFCiAFGzych2oeEjRBCDDB6PgnRPiRshBBigNHzSYj2IWEjhBADjJ5PQrQPCRshhBhg9HwSon1I2AghxACj55MQ7UPCRgghBhg9n4RoHxI2QggxwOj5JET7kLARQogBRs8nIdqHhI0QQgwwej4J0T4kbIQQYoDR80mI9iFhI4QQA4yeT0K0DwkbIYQYYPR8EqJ9SNgIIcQAo+eTEO1DwkYIIQYYPZ+EaB8SNr2go6PDRo4cacOGDbMpU6Z0x5pNmDDBVlttNZs0aVJ3zOCjmTamecaOHfuWvvYG7GEX+4MBv46jR4+2zs7Oon/0k/72BWxhk0Ad2OO1P8B2vfb6tfRAf/urLaL3SNgI0T4kbHqBO0QcRXQqvRE248aN67NgaBZ3uI2EhYRN34QNdsaMGVPYd4GD/Xbj41mvvaQNlvEW5UjYCNE+JGx6QRQ2UQC0KmzaJRjaTav9aJbBLmxWJWgv4mnEiBGlwsaFbLuvo2g/EjZCtA8Jm16QCht3jDlBgNPxfFHEeF4PnLsjyuWPeD7awIyP56euWF8UED4b4WmxjbE/0abnSQVYru05Yn8oP378+Lfkj+31ccxRNjYeH8t6X7ENZe1NhU1aLr3OHBPnpHbjmJbVCWX3D3h/0rpSsEegrd7eFMqPGjWq57qJwYuEjRDtQ8KmF7hjwgHxqRnnhFNzZ9ZIEJSlc+4OLdbhTs9x5+e24jl1+LnbTh02edJ6/dzrLWsncfX6EIn9TdsIuXq9jSnEl41NOq6xf/Xam9ohjjTyeHtzaZDWGe22UqfX431Lz3MQTx5ese1tSvE20xYP3iYxuJCwEaJ9SNj0guicpk6dWhwT4kyH54lOJ42LDs9xx+aOiGPiIp4nlk1txfPUCbvDIz72xeup57Qdz0NI0yDnoLFH/rJ6qSfmT3GbXq+X9f5Q3vNEu5Brb9qGaMfxPF421lGvrZCr08fAxxZycfWgDZ6X49jeCHnitUnPxeBBwkaI9iFh0wtShxgdmDuoek7Sy5EWHQ3nlOc1zRvJOdacLT9P2+eBPLl2ev7oPN0WcaR53Wm9Tq79Xhb7nu5t8ZCzBdRDOq8528QT586bOqBee1M7cSx8jCmLrZiWqz9Sr850bCGOSyOwwSxh7DehGbxPzdQjVi4SNkK0DwmbDO5oCO6QIqlj83MvQ3mPi04njYsOr8xmznm6gyKdfBBtpec5Z+rk6knzR1v16onk2hgdeL3+paR5c2Xd9t577123ffE8tUMcaeSJxxDPc32L1KvT2xmvRS6uDL82aWhmHL3dzdQjVi4SNkK0DwmbXlDPsRLccaQOLhUMnHu623Rn6XlzDivnWOs5UwLHxEHajpjX21GWzrGnuV1PS4n1eJs5Jx5y9eb628zYxHZ7P6Fee9M6PZ0yfuxpbsdtp2PIudttpU4Cx9639LwR1OVtSqFNXo+fN2tXrFwkbIRoHxI2vSB1TuAOKTo7cCdHcOfmuNMjjXyU87xuP+eIcs6P8tF+eh7rIuDknNh2bNb7VpT33e14/2KfI55O+Ubfisr11WlmbHJtqddeT8MWY+BjRB6gnV6ObxcRPG+a7jah0Ril6dFm7trWA9veXi8b+x/bGO8HMbiQsBGifUjYCNFLXEggGqJYE6JV9HwSon1I2AjRRxA1cdZFiFbR80mI9iFhI0Qvics8cflHiFbR80mI9iFhI4QQA4yeT0K0DwkbIYQYYPR8EqJ9SNgIIcQAo+eTEO1DwkYIIQYYPZ+EaB9DVtisN74rTkFBQWGgA8+j+HwiTgjRO4assFFQUFAYrEHCRojeM2SEzRG3vvXhoaCgoDAYg4SNEL1nyAib6QvN/uFXb32AKCgoKAy2cOdL3Q8uIUTLDBlhA4/P6vokpKCgoDBYw1X6Oy8h+sSQEjZCCCGEqDYSNkIIIYSoDBI2QgghhKgMEjZCCCGEqAwSNkIIIYSoDBI2QgghhKgMEjZCCCGEqAwSNkIIIYSoDBI2QgghhKgMEjZCCCGEqAwSNkIIIYSoDBI2QgghhKgMEjZCCCGEqAwSNkIIIYSoDBI2QgghhKgMEjZCCCGEqAwSNkIIIYSoDBI2QgghhKgMEjZCCCGEqAwSNkIIIYSoDBI2QgghhKgMEjZCCCGEqAwSNkIIIYSoDBI2QgghhKgMEjZCCCGEqAwSNkIIIYSoDBI2QgghhKgMEjZCCCGEqAwSNkIIIYSoDBI2QgghhKgMEjZCCCGEqAwSNkIIIYSoDBI2QgghhKgMEjZCCCGEqAwSNkIIIYSoDBI2QgghhKgMEjZCCCGEqAwSNkIIIYSoDBI2QgghhKgMEjZCCCGEqAwSNkIIIYSoDBI2QgghhKgMEjZCCCGEqAwSNnXo6OiwkSNH2mqrrVYEjolrB2PHji3CYKGzs9NGjx5tEyZM6I7pwuObaeuUKVNsxIgRxWtKmf1mmDRpUjH+w4YNswMOOGDQjJvfH7SvXt/7k2bH1fMxhrSRMaTdQghRNSRsSuDhjxOIDsMdbDscwqoibOhrs+2s59x7K2zScoNp3FYlYePX0dvcTpEuhBCDCQmbDO4scg4UB0IaefrCYHLQ0Fvh0Sy9te/l2iEm200UNkIIIQYHEjYZ6n36jmlpvtTRuVPOLWWlwoZjX24ZP358T15sxXJldXodad1uNyeisEF9pI8aNaoICI+cCPH2pvVDWVqZfag3Nk6ax+shONjzdPJSBsrGJQdpno9QT3zFvNRHHcTFvufaDR4/bty4nrbFNkNZfxrZTK9Vmg/q9bOV8RJCiMGMhE2G1EFH3AGkzixNAxxHmQMi3tOIoxzlPZ+fY8uPIdaZ2sylEThOScu60+M8TQNvb5pWNh717AOvZWMTSdPiuKVjU9ZG8vnekhTKIrg8LbUZiX0F7LsIiH3P9Y08fuxt8fNcf9K0Rja9r7xyTnxMq9fP1AZpZeMlhBCDHQmbDNFJpUTnluZLHV/E09x54KQIqVOB6HTiMcQ6CTgrTwNsYitnN5K2PebPlfX2AvGkk4/yY8aM6TmObSuzn5KOTSQtF9sRjyOt1J1CnjjekfRaeLvTewEbOWHg7YhtjjbT/sS0RjZJ720/Y9uhFTtCCDHYkLDJkD7oIzEtzRcdHfDqU/s4JfK6s3AnlnMi0aHFY4h1RvsxlNmNpHaBcuTPlfX2AmX80z95PF/atjL7ENuejk0kbYu3o17/0rrr5fU0b8vee+/9lnY7lCcvZcDLUl/sO5A39o/4XDuIZyynTZv2lrS0H41sko/8lEup189WxksIIQY7EjYZ/MHujhzYF4Ej4WFPGnk4j84sOpbUOaTn9Rx0dDSp04l1EtIZGydnN5K2PebPlfX2OhyzF4jZGrcRbbZiv15b07TYjrRNTr26U9LxTc8jaRqvnBOf1hmhjdRPfl5jm6PNtD/12pLazI1rJLUVz1sZLyGEGOxI2JTAQ55Pxf5w93M+7eIUAKeAc/A8xHu6Owd3VJ7meaMTi07Gy0WnQ71eJ+XLZgBiexo5p7R9aX/dcZLP7Xpe8P7EOGy4g6xnP01LxyaS9oMysZyPE5CHvJzHMuTzMUuJaV5XtBmJ4wvebl5j32Mbgfycp/Zz41CW1simt4lXzokHL1evn6mNmFcIIVY1JGzq4I4M55UGHv6AM/A4Zi9wEJ7Gq6e5gyFAPIZoh3h3OsC5pzFzFDeBpm10m6mzyhHL8hrzYx/n5mnUG9vrZb2vQJn4yb+e/XpjE0n7keaL40YdPmbpuMR2Rtw+eejvxIkTS2deII4L14GA7dj3aJPg7fJ47hO3wTnxTuxPTGtk08cHGJ/URiyf62fZeHm5svETQojBhoRNL+Bh/9BDD3WftR+cSHTSohrkREh/QD2Im3bdP9yPEjZCiFUFCZtBiIRNNVlZwga4d6irHffQ2WefrXtRCLHKIGEzCJGwqSYrS9j4UlRcshNCiKGChI0QQgghKoOEjRBCCCEqg4SNEEIIISqDhI0QQgghKoOEjRBCCCEqg4SNEEIIISqDhI0QQgghKoOEjRBCCCEqg4SNEEIIISqDhI0QQgghKoOEjRBCCCEqg4SNEEIIISqDhI0QQgghKoOEjRBCCCEqg4SNEEIIISqDhI0QQgghKoOEjRBCCCEqg4SNEEIIISqDhI0QQgghKoOEjRBCCCEqg4RNAyZMmGDDhg2zKVOmdMcIIYQQYrAiYVOHzs5OGzNmTBEQOBGEzogRI3oEz9ixY4sghBBCiIFDwqYOkyZNstGjR9uNN95oI0eOtI6Oju4UCRshhBBiMCJhUweECjM1CBqEDUIH/Hy11VYrlqlOOeWU4pggcSOEEEIMHBI2JSBeRo0a1TMjg8CJokUzNkIIIcTgQ8KmBGZnUiGD0PHlKAkbIYQQYvAhYZOBTcPsrfHlpRh8E7GEjRBCCDH4kLDJkM7OOIgaBA/CR8JGCCGEGHxI2GRI99M4UcxI2AghhBCDDwmbDPEbUBFfokLAxOUq8hI4Jo6ZHl5zNoQQQgjRf0jY9BMudoQQQgix8pCw6SfOPvvst+zREUIIIUT/ImEjhBBCiMogYSOEEEKIyiBhI4QQQojKIGEjhBBCiMogYSOEEEKIyiBhI4QQQojKIGEjhBBCiMogYSOEEEKIyiBhI4QQQojKIGEjhBBCiMogYSOEEEKIyiBhI4QQQojKIGEjhBBCiMogYSOEEEKIyiBhI4QQQojKIGEjhBBCiMogYSOEEEKIyiBhI4QQQojKIGEjhBBCiMogYSOEEEKIyiBh04AJEybYsGHDbMqUKd0xeTo6OmzkyJE2adKkIu+IESOKV86JJ31lQrtXW221njB69Gjr7OzsThVCCCGqiYRNHRACY8aMKQJCoR6DSdiMHTv2LXXm4lol9lEIIYQYjEjY1AEHzkzHjTfe2FAUlDn9lS1sqC83w9QOUSJhI4QQYrAjYVMHZjmYqaknWuJSj+cpm7FhBoh8Xgb7Ec5zaRy7fdLqLY2RN7Wb4u2Is1CxHLapw9tCH9K2+1jEMSC4zbQdcUwgLpVhV8tkQggh2oGETQkIkVGjRq3giKOjTsWOO2rOoxPn3IVNtOFCIZZ3B++2iQPKRDHDeU4MuE0vV0YuHzYJabuok3GgTWmfOY9jFPsajyH2L6Z5fT4uQgghRF+QsCkB5xudbXTwkDpuXt3pk7dM2ORmW3JCIwoBFx1OTIvk7FC/z4wQoniJ+bwOT8vZj33MgT3va5oX2/GY4MQxEkIIIfqChE0Gd+5REHhwMZCKCy+Dky4TNkA5t+UiJycYov1UCKR1R9K8EU/ztnpfIJbzdG+n15W2M8239957v6Wv2OScfLzm6pawEUII0S4kbDIgNuLsjBMFReqMeXWnX0/YRHD67vBTZx/riqIDYloK9ZXtwXE7OXGR1uF4v8gb+whp39JzH8eJEyeuYDutq94YCSGEEK0gYZMBJ55z8lGwRIcPOGdmLXiN+aLTTh16rIdjFyup7Vy5MmED5E2FAmVon9vhNa2POD+m3eAiiPM0jVcXUZ4v1utxqdCKY+J5Yv+EEEKI3iJhkyE670jqhHHWOG0EAzMTBMqVCRsv70s3UQQAdj0tOnqO43kjYQPU67YIqbiIbacd48aNy/aLkLaFONoQ+0N+Zma8305ZW11oERr1RQghhGgWCRshhBBCVAYJGyGEEEJUBgkbIYQQQlQGCRshhBBCVAYJGyGEEEJUBgkbIYQQQlQGCRshhBBCVAYJGyGEEEJUBgkbIYQQQlQGCRshhBBCVAYJGyGEEEJUBgkbIYQQQlQGCRshhBBCVAYJGyGEEEJUBgkbIYQQQlQGCRshhBBCVAYJGyGEEEJUBgkbIYQQQlQGCRshhBBCVAYJGyGEEEJUBgkbIYQQQlQGCRshhBBCVAYJGyGEEEJUBgmbDB0dHTZy5EhbbbXVVgjEkdZXpkyZYsOGDXuLfcLYsWO7c/UP1D1ixIjiddKkSW3rUyM6Oztt9OjRNmHChO6Y5qEMZbHRH8S2xeM4ViuDvoxRXxnIupuB90X6XuE91Oq1WdnXVAix8pGwyeDCJjpTHoQ8SGNcbxnIh2useygLmzgOsW3xOOZZGfRljPpKK3X3x/VoBMImFf20o5n7N7Z3ZV9TIcTKR8ImQ07YAA/W3nxKTBksD9eVKWz6Qn840rJr0IqDbzcDWXcr9Mf1aERO2Pj7lPu4HhI2QgwtJGwyNCtsOI9T4/6AdQdVJhp683B1ETJu3LgV6ottiA94jj2e4M4y1u02y4RNtB2dCsfeP9J8THKO2euYNm3aCmme1+3HdsQ0bI8ZM6Y492uBDS8X41NoZ2y3O7ipU6eu0PZHHnmkiCc99iGOVawzV3ccq3iPeP/J6+nYcshHfuJHjRpVhJge7ca+pMR8sV0Q2+5p1Etd3q5bbrmlOCavjwH3mo+Tl4v3lcelxD7FseCV8Rw/fnyPDeqL7Yt9j9C/tP9R2JAWyxJH++iX2+aca522IbUbxzKmcYyNeO9434QQgwcJmww5YeMPa4/zBzyv7ggoQ9n0PCU++GOo96D0+vzh7c6AePCHLnVTJ07LbZHH20JcM8IG+27P++N1U1dsa6w7lvM0QmqDV+Ihl+Y2aFu8FrHNXs7tpHjdTrQbxyHWH49jnoi3yceeV7cLsV7S4nXj3Mcu1uVp6TV2u16np0Vy9Ueb8Rp726ifdni+2BY/TtvpfYrtSsmNjdfvdZaNDa+xrRFvdyTmrzcGsb1pG/zc2xvzel/cDmV8TPy8bByEEAOHhE0Gf6Dx0I0hPsT8oUxIH7iN4MGYc5j1iA4idx4fyCmked5Yd2rDwQa2/GEPHLt9+hv7nDqOKBiYbfFj8riTiPh4k5bLF+2ndZf1AVppp9cZj2MeJ9e+iKd7vWn7os3Uflk7HI6JIy1CHdyH8Xo56Rg4zdQdy8V+lLUDyBfT3BbxaZ3peawjhbb4+81DFBmUcTEfjyG2N62TvNRJ3d7WsjFPx7LeOAghBg4Jmwz+sKv30PKHYHzQNvuQSx+uKV6/2+UBmj700/P4kE3btvfee/fkjXWXOZK0fg+et9EDnjTiqANhE9tEPFC328VB0SbSvG7SHY4pS1q0AWV9gHrtjOMQ2xaPYx4ntQmk04fYF8+Tti/azLWdcmXjENufQj4fTwLn6ZhH0r6VjYFDPsQC7arXDtJiOzwQn9aZnufGw8mNe4qPHfb8voPY3rTOOM6NxjxtQ0wTQgweJGwy+AOu2YcWD0l3bDzsGpE+XJshfein5/EhWy9vrDvN52ADW6TnaPSApxzn7GPw8XCbnMfjRmnAMXGkpXWX9QHqtTOOQ1n9MU9aPpLWE8/T9kWbqf2ydjhl9aeQz+tM2+Y0U3csF/tRrx1+7XNpaZ3peSvXMofXHe87iO1N66Qu6qRsHAMnlk3bUG8chBADh4RNBn/Y1Xto8VBDyPBABF793B+QZQ/p9OHaDNiN9tLz+JAlzafp07bEulMbkfShzQPdzxs94LGH3Wjb20FeP3YbtCOKQl69rOd1+7HNqZ2UenbiOHhabBvHzY5VHBvyMvaxb7Fcrl7P62XjOLhdymPH0yIxH1Cnn6f1e17fREud4G0h3Y/TsfN2pvVFvJ3UC94nzmPfPS2ep22NULfXX4bXHd+XENub1pm2N+b1NOIgbUO9cRBCDBwSNhn8gdboocWDjYeoB38AUoayZQ9pHqo+w5OGsjrTh356Hh+yXj/2qGfixIk9D/P4YK/nSICHuLcr5mvmAZ/m8Tb5GFG32/a8MT/HMT3aj+Oe1huhvbSbfIwDn+Q9v7eHtNw3gjj2sfJvTXmdHnxM4vUkX6wnHeM4/hDbyKvX7aTjUEbMR1vcPsTxim2O7Yj99mOWc2K/iAfKEB/7FfF0r9P7k9aZnte7H+lfvf475ElteHuInzx5cnb8qduJYxnrTNtAv+K4CCEGBxI2QogViCJnVYM2R/EhhBh6SNgIIVZgVRU23u44+yKEGHpI2AghVmBVFDa+3KTZGiGEhI0QQgghKoOEjRBCCCEqg4SNEEIIISqDhI0QQgghKoOEjRBCCCEqg4SNEEIIISqDhI0QQgghKoOEjRBCCCEqg4SNEEIIISqDhI0QQgghKoOEjRBCCCEqg4SNEEIIISqDhI0QQgghKoOEjRBCCCEqg4SNEEIIISqDhI0QQgghKoOEjRBCCCEqg4SNEEIIISqDhI0QQgghKoOEjRBCCCEqg4SNEEIIISqDhI0QQgghKoOEjRBCCCEqg4SNEEIIISqDhI0QQgghKoOEjRBCCCEqg4SNEEIIISqDhI0QQgghKoOEjRBCCCEqg4SNEEIIISqDhE2GJ554ogh+rFe96lWvetWrXleNVwkbIYQQQlQGCRshhBBCVAYJGyGEEEJUBgkbIYQQQlSGISlszrrf7JAbFRQUYuB9seTV7jeJEEKsogwpYcND+xOn1Dp9qIKCQi68/Uiz6Qu73zBCCLEKMqSEze/ueeuDXEFBYcVwxK3dbxghhFgFGVLChun23INcQUHhzcD7RAghVlWGtLBZb/yb+wsUFIZq4H0Q3xfECSHEqsqQFjZ6gAuh94UQolpI2AgxxNH7QghRJSRshBji6H0hhKgSEjZCDHH0vhBCVAkJGyGGOHpfCCGqhISNEEMcvS+EEFVCwkaIIY7eF0KIKiFhk2Hq1KkKCpUJjZCwEUJUCQmbDDiDhQsXNgzz58+3mTNnZtP6GqZNm5aNz4UFCxZk43PhlVdeKdqdS8uFVmzPmjXL5s6dm01LQyt2sYntXFoasNuK7RkzZmTjc6G/7BJasc091+w1lLARQgw1JGwy9IewIR/OrlmH1KywmTNnjj3zzDNNO9JWhA1tfumll5p2us0Km3nz5tlTTz3V9Ni1Imyef/75IjTbx2bHjfqfffbZptvRrF3GlvvtxRdfbHqcmxU25JGwEUIMNSRsMvSHsHn00Uft9ttvbzp/s8IG4XHZZZfZAw88kE1PQyvCZvLkyfbII4803eZmhQ35rr32Wrvrrruy6WloRdjcfPPNds899xTiKZeehmYFCKKG9jJ+ufQ0NGu3o6PDbrrppsI2x7k8aWhW2DBmEjZCiKGGhE2G/hA2fCJ/7LHHihmWXHoamhU2s2fPLuy+/PLL2fQ0tCJsEE1Tpkxpus3NChvyPPjgg/bCCy9k09PQirBh9gq7zc5+tDJj06yoITRrl2vBGBOaGTtCs8IGexI2QoihhoRNBpwBgqFRwMEgKHJpfQ0451x8XwNihXbn0voaGDccei6tLwGbzV6TVgOCMxff19Bfdgncc81eQwkbIcRQQ8ImA86AT7uNAjMZOI8lS5a0PWA7F9/XwBJNZ2dnNq2vgVmERYsWZdP6ErCJ7VxaXwPLP7n4vob+skvgGi5evDiblgYJGyHEUEPCJgPOIJ3WZxkiXZJhuYOAo0HoAEsWr7/+enEcwTkvXbq0+6wxOC6HOnCU7YA2vPHGG8VSV7tZtmxZsRfl1ltvLQICij067Kd58skni/FjYy97jdhzdMUVV9jdd99td9xxRzELUcZrr71W2K4H48sYkbcVuI69KccsUj3oO/gSZDPQFvrRCK6h32PTp08vXh3uv2hDwkYIMdSQsMmQEzYPP/xw4ZRjHILj6aeftgkTJtjZZ59tZ511lv3xj3+0E0880W677bbCueG0L7zwQvvzn/9sf/jDH+y4446ziRMn2i233FIcX3zxxYXzT8E5sRGWfGeeeWaxJwVuvPFGO/fcc4ty2PvLX/5i11xzjf3+97+3ww8/vDj+9a9/bX/729/sd7/7XVEmglNENF1wwQV2/PHH20knnVS0+/zzzy+ccF9AfCBocLa075JLLinad8IJJxTtnjRpUlEvIgYx+Ktf/apIP++88xoKG8b5r3/9azG+2DjssMOKvp522mnFODLm48ePL9IYb5bymgGxxfXg+tx7773FLMfll19uRx11VDEm2GWcSaed2CaQxvix6TcH155x5tpdffXVxdgyJieffLKdcsopxYZvriN2sMu1oi9/+tOfinPGpwyu4VVXXWWnn356UeaQQw4p2kJZxgC7Ph4SNkKIoYaETYacsMFZs+wU4xA2iB0cF+IGh4gzxwneeeedhXPjm0XXX399IVBIQwCRj9kKHCTOma8+pyBs7rvvvsLxUxbHz6d0xAFxOPkbbrjB7r//fnvooYcKOxdddFGRD9unnnpq8ZriMza0BaeKIEIs4CjpS19A2NDfSy+9tGgPMxUIPIQbMzP0+7nnnrPrrruuEDrE4fyfeOKJbgt5EDYIFWZ+GD/6Rf8pxzeK3KHTJ9KYEVq+fHl36fqwxMWYIgYQj4zP448/XghDxvbKK68sRA52EUD0h+uNSOE6098cPmNDX5mdYk8M31yjPAFbiBLGib5wL3D9GDvGifurDNpI+2gbAom2YAeRxRj4/cb4StgIIYYaEjYZcAY4vEaBT9UEBEcaEBg4SBxULr1RQNj4MY6dpSPsxfjeBBwu9jh+9dVXi83ECKs0X28CDhdBkUvrS8AmtjlmhsWP2xF8rwpLiSzjIELiNaVuX15sJWCXV8YYUcaMk8d54JrG82YD7fVr2ChI2AghhhoSNhlwBnzCjoE9FeyziXGcE9ijwWwOztG/EswMD46MWR3y4hw5JnBMfsQRQoM4HDbnHJOGzQWL2AC61BYtXlLLt7Rw6DHMW9BZi1/ylnjK8bqkFhYn6djHMeK8OaeNtJk20ZaYtyzQNvqKHY4ZGxd69IM0jnnFeXt+xsWPKcM5Y8M59ZPm4+hjR9uwReCcNOqibgLHbpt0byPxfky/EIR+7nGIOuqM8b0NtIW20x8fg1y+VgPjhC3GEdt+jzAeiGfqpS/0n/z0k3PiySdhI4QYakjYZMAZ4Cg84CD4fRScSxqPs2HJheUP9mgQ2CjLK2WYZSGNpQHyEjhn2YA0nCBLScwUsPGWutlb8/TTz9hjL3baky8vsfufXlQcvzxrmb0wc6nNnLfcFna+Zvc8tdCmzVlmz81Yai/W4p+dvtRembvcnn9lqb08e5k9W4t/9Plaudox5Yh/YcZCe/W114slHMBRsqTFshdLUThSlouYYaAfOH/6QRx9BvLRP2YN6DvLMfQBEcJeEmyx1ISjZ4mEdJZ16C/xLNOxhIJ9lnhYmiGOwLIQ5amPmSSWVijPuLBUxI/vsQSFLdrK778wltinnP/2Dnl5xdnTfs5JY4xpF0KKJSDqaQcIMdpG/7h+XNe+wowL48z+Luxy3zD7g3hhvNm/xTnXwK8fY0N/OWZ8JWyEEEMNCZsMqbDh0zEOF0eLmPF4jnEg7E9hjw17X9gDgoNmzwfOCMdMIB1nxOZa9mawpwJBgVhizwYCgDpwwNi47vrr7br759lV98y1s6+dZX+8YZZdfleHXXTbHPvbvXMLscMrcWdc/YpdfPscO/+mWXbzQ/Pt6snz7PoHusr+qVbu/Jtm28S759oVd3fYtffOtM6lrxX7avhkT19pN+3C0dPW3/72t8Uxez5o97hx44oNtOzZYGmFtrJ3BIGAE6ef5ENsIOBIxz57btgHQl5eSWOj8jnnnFNslkXUsJGW+mgDe2UYF/aZ4KwZHzY3YxvhQhobZhFFBOzSbjYMs0mXgH36QJuPPvroYnzZg0Kd9Il2sQcFIUn/aH87YFYFu7SFsUJ09RVmXdj7g7DjHmNfDiIHMcox/acu9gAxLvSPcaav7J/iukjYCCGGGhI2GVJhg4Bh2p9P+Wm8z1IgcPj0zEZZnBwihtkZ4kknkNfz8YrzY0aBfKT7EhWzCqQ//Nxiu+3RBXZNTahcckdHIU6unjzXrr1vnt3y8AK77ZEFhXiZcMvsWvocu/C22XZ9TQx1pc8vAmWvqImfGx+cX4RbHpxtS5a9ViyVsX+EmQZmMmgD7eLTPs4TQUDgnD4hWmgXYoXZHNpJWfrA2DDzQf/8FfvMOJCObcaUcaFf5MEG5ZhVYWaBOALptAenjg3q97EjHnFJOzmnPK+kkw+btJN202ZmMZjdIL+PKfWRH7GKPdLaAYKPtmCPdiA++go26Qf3GWNBv1g6c0FKf0hnU7L3i3yMJ23wcW+EhI0QokpI2GTAGeCkGgWcNmIEJ9zOgONCBMxbsNhmdSwqwozZi+yVOV3HaSCe9OmzF9pM8sztDpm8M2ayf6V3P9AX92/kAg4YsZNLS4PbqWfPAzYRkrm0eiFnO8ZxjMCJ6e0K/WWXwDjT9mbGTsJGCDHUkLDJgDPAeTQKfCrHgTGLgRNhBgRnw0wFIoCvVbMPhVkZ8nBMnH/LJ347icA5AVvYXvbq60X+119/o3hNA0tK7JdJ470cIS2LbeqkDZxTH31BOBAf85YF2u7lsUd5n/2h/xwT6DNxfkxdXpbxoT7y03cfI+xxThrnbs/H1/NRt+chjjKkexs9j+cj3c89MOuE/TS+t4H6vR30O5en1UD7fNzi/UHwPPQv9p1j4jiWsBFCDDUkbDLgDOKSEyKD/SVM78d4HDrT/76nhL0g/AaJ74dgDwRp7HngN0tYRmGpgL0d7MXgd1lYfmFfBPnYm8OyAvtEXnjhxWJJ6cp75tp5N80u9tLc/8wimzxlkT3wzGKbNf9Vu+Dm2fbAs4vs9scW2L21+FsfmW9Tpi6xh55bbA89u7h2vsAuuX2OPVjLc/eTC+3OxxfY/VPm2tLlr9kxxxxT9JWZJ/b8sDGV/T0sbXDM/gz2/tAe9sbQNneSbGhlvwvigXy0n/4yFthgjwv7W1jqYY8M5+RhXNhbQ338iCCbX4844oiiv+wl8b0h7InBLpuKyccP1rHExN4bjtlXwziz/MS+JOKog2vABl72utAe6kMYYId09unQD5ZqWG4744wziva2A5aIuKbUSf/asceG+44x8d/MoZ8scSJy6CPXiTFkXLin6B/Xi3uJa8dSlYSNEGKoIWGTISdscObsY/DZDRc27PPwb8P4D/Xh1HBE7uRxdjglnDBLVzhmnA9OiW/P4KDY+IljYo8GjmzRosV200Pzi3DhrXPsr3d02GV3dm0eZlPx7Y8usJsfnl/EnXn1K0U8IuYqNhRP6ig2Fl9977xiU/GZV8+0K+6aW4ubZ9dNnlXM9PCtKD7Zsw+DH3tjMy1tYFMum3ARZQT6wQZVxAdOlRkJ2usbqRkX2k05hB9jwcZft88rYgJHzHhQB2PBxmHEEYEfCWTs/If9qJd2IagQC4giBBfOGwFEXYgVxpW2UA4BQLxvDmZDMu3m+viP2ZGf+hl/RBE2EJftgPZii/4wVu0QNszOIPQQcYwFY0l/EDb0m/uETcP0k83XjAPjxT1HO+i3hI0QYqghYZMBZ8Aelxj891fSODZ04uRx6r5plZkKnD2ihaUqPjmThhjCWRGHg8IGToplGZYuEFA4SGY+yPvkS4vszsfm2fX31wTNrTPtyrtn2zWTO4rzWx+e25V2X4ddfNssu/SOWfbnm2fazQ/NtetqcaTd8WhNyNSOb6jlv/2ReUXabQ/NtMWdy4q6XZzh5P3r08wosdHW+0t7mFWiT/SRttJf8tA/0omnHAFbBMojbOgr+bBNWfJQBhuckxexR5/JQz2cMy6MB2ISW5RhjMjDsdv1V5aVuG7YIT/HfPXZyxDPNaDdlMc+m4sp60s8fQkIPvqGPcaUkMvXamB2CVuMC+PFDBSBa0Nf6Bd5EMTUT7+ZhWN8fUwaIWEjhKgSEjYZcAY412YCzoMlmXYHnHouvq8BMYNTz6X1NeB42fuRS+tLwCa2c2l9DYiGXHxfQ3/ZJbRyDSVshBBDDQmbDDgDnEcMfNpHxMQ4nBefjpmxYCmHT868+tdwscMnafZzMPNAGfKTxiwIMwcIGM75tM0MA7MN5J87d569OHOZzehYXuybeWlWzVl2vmbzFr1mi5awafgNe/zFTpu/+DXrWPhqkcbrkmWvF6+dS1+32fNftednLC3yL6jlm7voVeuY32nLX+36GjF1MqPhPw7oMw4ICdpGoC/E0U7igdkDZlrYoEo6S0+8MovADAKzBSy70Rd+PI++E+gzM0O8sizFWLC8Rf30mTRsMZ7kYfyYVWFcsUUbyUM7mYXBufNKHPX7UiHtxTb52EDLOdeB8ccOMx5cS+qkL+2AttA++s7vzlBPX6Ht/sN7XC/Ghj7Rfl6pD8FHPDOAjBf1Ese1Y8ZMwkYIMdSQsMmQChucBfsxcLAxHieKg2FfCfsgfBMtjpZXyrDvgT0PbFRlPwpOnDSEAY4VJ86eE+L5QTr2kbDBdvbsOT2/PXPpnR3FRmL21dxUO2ej8DPTltg1k+cWv3PD79uw34Yf57vnqUV25+MLu/LWzq+spRE45ndt7n685tiXvlq01UUL+zdoG/uE2LfBXhTaTfvZt0Kb2MOBIwVeScdxsn+GjdWUQTzgZP0fzVkmoix7Q9hDw74QfnyQ/TDsDWGfDftrGBvGhDqIwxYCgR/PI504xodxYg8NttwegTpIozx2SGMvDj/4h4Bhzw02sMc+GIQHfaCvCK92wOwI9wGCjvqYzesrCEn6TzvpC2POOCBsGCP2QnHtGGvfX0M89xFjQHskbIQQQw0JmwypsGG2AqfNLECMR9gQjwDAweBk2ZyKsMHZIF74lgqOhkBe9t4gICjL7AZ1sWGWMmxq5RWRwQwRoobNv3/42yt2/CXT7NSJM+z0q16xs66ZaRezWfiOOcWvDo+dMNVOvHS6HfWXqXbejbNqcTPtL7fOLn64j43Dv6+VI55fL77gxmk2e+6iQgQgHnDAtJ8ZFAQJ/aB9OEWcI+cIMxcBzAYwe8AxsyWIMy/nMzW03zcak05gHOg/4oKAIyYe4cRmYeIYP9qC8EAUMRbkQzhh2//NGzFFWfKRh3TqxwYbZonnOtBmZi6wy/hj24UNgtSFQjvgfnCR5/up+grCkfGhvS6cEdfMsjGe1MU94yIP8ebXjHSugYSNEGKoIWGTAWeA42sm4NxxwgQEELM7iBZeXQB5GqKAV85xTpwTOKcMr5xThpmUOfP48b2FNn3WQnth+gJ76ZUFxTFhxuyFPWkvzqgJrOnz7flp821a7Zwwo5ZGnpif8PL0WvsWLuppZ6yftnngnKUljnn1Y9rt6bTT2+35sOvpzCzw6sH773nj2Pirl6Ue0slHGq+xvNftrx7vfSF/LBPr8baQzjjTzr4GH0fq8ONcvlYDbYz94djroe9p32IaeSVshBBDDQmbDOmMjTuJXBxOhL0Q/oNo6Wt67OdpnAfgFcfefdrzmlIa3/0KaRb2gmDf64fYFsePY1wjWI7xH8Jzm2k/03hePcR4D5xjE9sx3vE8ufhI7pxyiId24Tbbadf75nY55hryjamUtI8gYSOEGGpI2GTICRuWPFg6inH+iZhlG5ZvWIZhqYMlE5YEWD5hiYc9FyyDsETBnhpfmmJZgaUglgw4ZgMoNlnmeeqpKfb4S53FP3k/9kLXP3vzj95sHl689HVbuvwNu/OJBTZnwas9m4fZSEya5yX+6WlLilfKFRuN2Ty8/NViyYb6+IRP21nuYPMtbaQN/pVtlmqK2aNawKEiuHzWhv0r5PHZBOLI73tuGBuWsegPgSUs6mLpiiUW9uOwfML4MB4sq7CcxHgyhgSWi9hAS7toI+NIO2kP9TGevpTGOHpbiGcZCgHArBrXgn7RXtpPGrZpQzvAJktR9I9+0L6+QttZpmRZievl9xSiiaU4n6HhHmKs6TN9pP+eJmEjhBhqSNhkSIUNDoJ9I/6tmyhscJo4cpyk73HAEeGQcHLEI3b4oTscNALJfwgPB8++HRw5Th9xw7k7xxsemF/88N6518+yc66bWeyp4d+62TTMrwtfe9/cYuPw7ybOsD/fMtvOqeXjX739n735wT721Zx5zcxiv81FtfNr75lpizqXFyKMgFNkfwZ7fxAjbOTlRwZ9Qy7Hxx9/vJ1wwgmFcEB40D5+OG7s2LHFj9GxsZV/M6cf9IE87G9hloXxID+Omf6ycRi7bB5mjE499dRioy91UxebfznGSTMG/Ps3Y0jdbI5l8zDjTBnGlTyMJ3ZpCxtqycOm28MOO6xYLqQtxPFKvbSHjdPsg0IstQOEjLeDa4vo6yvMVLH/iPvJ9y4hHBFRjDHjyLj/5je/KerlOnDdGBvieZWwEUIMNSRsMqTChpkBHCEiJsYjbPi6MI4Hh4M48V+H9V/P5ds3zCaQhoggH4GZAtL49E08Mwk4Q2ZF2GQ7ZcrT9sjzi+3epxYV/9h92Z0dxT9787cJ/PLwpCcW1tIWFseX3jmn+AdvNhrzj9/kv6uWPumJBcUG5OLbUk8uLL5BdetDs2vCZlnRZsQDog3RwDFtpG04UAQYTp+241QRJYgEvobNrAFpiAr6wOyOizIEEufEM+NAfsaIPjEe9Jt6EEHk4ZX6fAyZicAW+1QYc9Iogw2uC/kojz3awStt9Rkb7FE/14FZIvqHXS+HfWaCmAEiDrHaDhAbtNvbQb19BWGICPP7iH4wDtwzjA3ixmfD/Fr5+Pm5hI0QYqghYZMBZ4DIaBQQJHxS59sr7Q6IqZkdnfbctEVFePrlhfbM1IU95zEQT/qUOnk8PPvyXOtc0vVHlO0OOHe+opxL60vAJrZzaX0NiNNcfF9Df9klIPoQwLm0NEjYCCGGGhI2GXAGzKDEwKdmxEyMQ9QQz6d/Zg58LweihFkEHBD5+LTNJ2z2PrC8gB1mdRBGOG3iY5184uZ17sJltmz5q7Zw8TJbsrTrn6NjeKVjSTa+Y0HXJl5+iG/xkhXTXSB4+zj29vvm3zTQH/oW02k7ZfyYWRX6hS1mdhgXZnCYJfFvkOHs6SfHPk7MrnDO+FCWfUyUo52+V4ZxZgaEMSGNemg37eGYtpHu40ugjB8zxtTt5x7HrAblY3xvA+2hH8yo0Afak8vXbKB92GBc6TPj44KbsaE/Pg6MP4HrmdqRsBFCDDUkbDLgDOKSE06SDao44xiPc/HlF/aQsPzE0gmbSFnmYImAY/aC8Dsk7pTZLMseCMpRFxtnWepBBLCEwvnk++4rlo5YamIZ6prJ84p/9maJ6YmXOu2VucuLP7rk14f5d2/+vZt/8yaNuPueXlSUp9z9tWOWrvjhPv7de/GSZcUyBW1EDODgERW80gf2vtA22s+yCm2jfyyLkI9v5yDMyOfjxb4SBBnH5OOH+HC07IehP/y2CoF9IeRlLwx22dPDvhD/ET3qL/pfawuBP7P0HzQkD/tvWG6iPSwp0Q//YUTKk+abkXnlOlEP5bg2LJ9hiyUy9vQg8NoBIo02cP3oP9e5LyBouAb+56P8OzxjxZiwFOX9JA97haiTPrJsSBrXhmU2CRshxFBDwiZDKmyYKcBhIGwQMx7PMXE4SBw2m1vZyMkm4UMPPbRngyeOhx/Ew6nyqR6ng2NH8DCzQTxOik28HLMJFMfNJuAbH5rftXm4Fi68bU7xQ3tsBEbE8GvCxPPjfeffNMvGXzfTrrlvXi19TvFLxVfXhM8fa+lsLr78ro4iXHlXTVzNXWiHHHJIsWfD24Nj5BtMv/rVr4rz4447rti4i1gYN26cHXjggcU54oTZBDb00iccOE74pJNOKkQGcYgThBzLJWweZhxw+jhc32jMP1Jjg02+J554YrG5l8CmZNrBzAftYLMvm34pyzhTD3kYO8ojYDjH8ZP32GOPLYQT/TjggAOKmQ42blMn1wdxgH32olCecW4HiFY2D9MONvJyXfsCMzDcD/Sd9tJv+obYRETRF66H95377Oijjy7y+f3D2EvYCCGGGhI2GVJhUxYQNjgZ4DdEcr8jkv4GicPG2nju6QTSWG54dvoSu+OxBXbHowuKbzkhVm57dH4xQ3N7TdgUoZZG/MRaOhuIb3pwnt1ZS/dAOgE7vN712BxbsmzF30Dx9sU2ejv82NNZHvH4FJaGcmleHtwOyyTg4+DxBG8DkE7AdiNiWV69LdE+cbwCbWjX781ArL9ddtPx4RjB6H3wNODV8zsSNkKIoYaETQacAfs2GgVmO/hkjhNDiORe02M/95DLwzGzRH5eFhYvzsfXCwixWBfBz3mNxzGPB5aXytJ8NivGpXlT+2WvHjinTmzn0svimgm0FaGWS+tr6KvddDxiH7mGjImf1wsSNkKIoYaETYZ0xganiohh2SWNZ/8NyxBspKWcbwrmlTSOWQ4hHWeEYGFzKfbIj8MiL3HYZ88LeQu7c5fbrPmv2vQ5y4sf6uNH+Aj8+N7yV9+wF15ZWvzoHj++Rzz/3s2/evNKnrkLXytsLFzS9eN85Jszb7G9Vvtkz6ZcYFmJ+mkLcbSDummzpyPigD6zEZo+4Vxx3rSX/BzTF/rAPhxskZ+lOt9QzDj5v3azfEVZ9sn418Gpm0B+HzvSaR95sUE68QhKr4840sjHNWGMaTNpzGJwTjpp3k7aRhuop69gjz4RGDfaQ119gbZjj/7TF/bLMHbE+zWhLwTGgjHz+5Jzz4eNRkjYCCGqhIRNBpyBOwkCTpx9M2w6xWF5PMc4ZTaMso+GTbDsieAH+9gXwX4U9nuwd4Q9JWwOZt8De0XYG4JNyrM3g70slGNzKOczZrxSbBxmmenPN8+2K+6eWywn3fJw10bh52YstcsmdRRxbCK+5ZEFxQ/6FRuFH19YbDLmN2z+esecWvy8Wvr8Is9dj8+xpcteK/aj4PRxkOzXYF8IezZ4ZcMz/SAdMcL+H5Y32BzMXhleKUO/2adCn9jzglOnT+SnvwgQNr+yuZdAn9njwg/HURebXdlfw7+Zsw+GcWKPDv1nHLDPjwNSF/uBSGOvDPVhj303bOpmfwn7Sngljb05nDPOiBraw/Vg/xL7f2gj14JrxsbivsC4cA1pm/84HvunXAz2FvZ0+fhgm03UXDM2QCOQ6RP95P6i34wfe5mIJ45APyVshBBDDQmbDKmwIfCJGEcd4xA2zBLghBEDbOzE4eLo2DzLp2zicKhszuWcb7GQl422CAfsMKvB7IH/SB7OdtGixYVoQdywWZgNxAgcwuU1QUM8gV8mPvXKGUX6+GtnFmnEXXVPh115z9ziX7751WLi2Tz8t7tn2uKlrxXftOETPZ/4aQ9Okc2qCAXayDGihtkIZlPY18FMBPH0A0FDGZwvfcHhkk5ZRAj22cPCJl36xhgx40B5/+YQQg6hgRihDfQbh45Dpl3YIY2yjA1CBnFEHmz6j/cxxtjDNgKLb3shFBFIXDPSSaMcddNe+obwpL19BaFBP2kPfaANzJj0BdpMOxEvjBP9o72MIfUxNowF95tvoqaPcRxoj4SNEGKoIWGTAWeAQ2wUmPLnkznLHLyyrIHQwanh5JnpQfyQl5kDHBJChnTi2RCLuCCOsuTBJjbmzZtv02cvtmenLrAnX5hvDzxdc/TPzbfHa8ecP/3ygp60B2tpDz0zz+57aq5NeWmBPVGLI+2ZWuD4yRe78j9VS3vyhTm2aHHX77rQHoQL7YwBp08baDft83yUQeDRV/LRb9pLPIE40ijPMWLI4+kbNnj1ZSXskhcR42PE2HDO/hDGBXucp+VJw66/Enz5yo9pq5chnjjqozz9QrCRxnXoS/Ax8vZTD22m/7n8zQTGh7b6Epq3H7veZ9KJJ4+PH3l8fMkjYSOEGGpI2GTAGeBAGgUcCIGZl3YHnFcuvq8BwcBMSi6trwEHzw/G5dL6ErCJ7VxaXwLfIEL45NL6GrDr38Bqd2jlGkrYCCGGGhI2GXAGCAsPfPJliYhZmBjPJ2lmNpj6Z8mEpRmWDlgC4JwyLKuwXMMSD5+qmeEgH0swLJkwq+DLDezhoS6WF1jKuf+ZxcUP7vFDew8+t7jYQDy9Y5nNXrDcli573a57YF5x/tKsZcUm4Rdrr2wifmnmMpu38FV7/pWlxX9NzZ6/vEifOnuZzZizqOZwXy/2swBtoj0sBbF8Q1tYamJJA5iBIJ0ZAMQcfSUvS0OIOpbdGAcfM5ZPWHrDPmns/+Cc/rO8wh4QlpSoCxvs2WHZhDEijWPqYDwYP/atUJ5x8vJsqGWfD7MkvDKWjDl1MIvBdWJ5j3w4d2ZmuA70hTYxxuwHok6WstoBY0A7GSvGjpmTvkB/sMc+IJafGCf2zdBfRBPLalwr+sMyGP1jdotrR98YB+IlbIQQQw0JmwypsMFJ4TwRGzgwj+cYoUI8jgdnjbPEsfADaex7wLGz1+OYY44pzhEIOG/y4wARFuyRIB8On42i/DjeX2oOjY3DV9zVtU+GjcJd+2dmF39yySZhXok765qZxR9gXnpnR7GRmHL8Ezhl+Efv0696xS68tXZeS7/u3pnWufS1QjwBfeNH3tjAS738YjCO33+4DvGCkEHU0E+EHGKAto8ePbrYlMsGYQJCBMeKU8Y+SyqMBw4ae+w/4Qf5+Kdw36hMnSeffHIhBBkDH0cfJ35wjvFhnw1tZFMyzp6Nwf6LxWycZXMt9thgy8Zh/nmcH7TD8cf8/uN+iAU2SCOi2gHXEfsIG64hIqMvIMpoGzZpL4F/QmePENeM8WR/EGNCPxl/6qWvjAWbtLlGEjZCiKGGhE0GnAHOPQbEiu9b8ICzJx7HjyhhBgZHzqdqPl2THwfKp2tmMpgx4Fs0lMEpkcanb5wvooFyCCbSX355qt35+AKbeNccO/f6mXbSpdPsjL/NsLOve8XOqYVLagLnCtJqxydcMs1+e/l0O/aiqfaXW9hE/EpN8CB05tgfb5hZlL+4lp+0C2+eZgsXLy++tu1LafytAKKEGRRECzMhpONcGQufMaG/CAz6gtOkX8RTFtHisyqkM/vEEhJ2EDsEnD/9JD8Omn5jm9kGZmh85oF6GQdmXtgwS5sYE8ozxpRnFoZZGV7JT1nSfDaJcrSRfSfUSbs8nf5iixkP8nJN+hpYHqIN3AcIO+rN5Ws20H7sMU600We8GDPqIg6hTBz9RASRn3Fn/Lm/GBsJGyHEUEPCJgPOgKn8ZgIOkk2i7Q6IiMWdS2oipCvMW9Bp8xd29pzHMK8WP7eWPnd+eR4P8+bzA3pLsnX2NSBGEGq5tL4EbGI7l9aXwL4dBGoura8Bu9jPpfU1MFOIuMmlpUHCRggx1JCwyYAzwJHGwJITn8JjHA6GWRjEDUsPHFMWp8Yna2Y+OGbpgLzuSMlLYLYE5+M2yI9dBBPOnP0yr73+hi1a8pote/XNn8l3+PE+0lOWLPOf2zfr7D7uDfywH7z62hu2dHneDvVTB+kLF3f1xceB/jDT4nGINcaRY5a0GBPyMRbMbjEG9J3xIi/p5OOccSHOx8lnNjjGJuNKfgfH77DRlvGMMO7MCGGvr2CLa0n9tIVAe9sB/advzIYxNn4fYZ86GQPGhXPiUyRsxMrkhXlm1z/bfSLEACFhkyEVNjgQlkhYTsGxeDzHOBvS2PPAkgBLB77UwvIKey5YpmGPDksgLD+xXMXyCEsWlGf/BEsKLKmwvMM5ywj8EN89Ty2yGx+YX/zo3mMvdtq9UxYV/yHFRuIbH5xnj73QWfxz98PPL7YHnl1sz0xbYo/W4viH7weeWWw3P7ygSOffvh96brE9WMtD+r1TFha2npu+tPhF4odraY/UbHSlLSoCcdilDJuQ+eNNbGKLvPc8uajYsHz/M13/JP748wuKJRL6y94bBAn7i3xZiPEgnv037HWhr+yrYQ8N48O48Ep+xopxZd8MY8kSC+nswcEOZVmKYnmJ/TmMmW/cZjmIMsQjfLCDTX77hXJcA4QUe2xYvukLCAuuIUt0XD/aj13ETV/hW1X0n3sDm+w9YlkOkUY//Jxx4T6jbvpPnxgjlgEHk7CZV9Ndp002O79kyEk/5o6uV7FqgqjhHhJiIJGwyZAKGz4R+4/EpcIGAcJeBxwuDptfyWWPAw6bMjgbnC7OG4eDQyIve3B83w1OCceLk8YWDuuJJ54s/vySXxPmB/f+dMOsYnMwG4LZIIy44E8tJ97dYWde80rxI3780zf/+H3N5HnF63Xdm4gvrpXnmHITbp1tl9w+p4i/evLcQjw99XJnsfmYevgjzb/dM7eWNq8mqhbaBd0/CMhGZf5FnB8CPOvamfbXWluwQz3YoOwTLywo9nqwH4Q+s3mYvtFn+kd/cdCIGxw2afySMCKHPjNGjA1jxkwF+2HYFIvjZuzYKMwmYMbZN2djm3PiCfzyLzbYpMymZGY6+LFE0hhzrg8iC5FKOxBBfQUBh5hFfNHPdgkbZmDYzI1IY4M0fUAQc+8xFohGxo1voNE3NgxzTDxjwnUYTMLmhdqnea8jJ248nVexaiJhIwYDEjYZUmFDQIAwcxPjEDYsZRBwbgQcMrMEvsnTl6JYxuI85uOTN8sk2HLbiCivC8HBXyPc8nCXWOGvERAznLOxmJkYjvkWFAHhcit/ndCdTuD8tkdqeWvHlEWI3FwLxJOOfYQJcaR5vNvnbxlurtnjV5ARPdRz5d1zizjsUhfl+cuGF2Z0/eAefSYwm8Grj1Xsv+fjFRHgY+h9Z+Oxz4gRx7gwrp6PNPLxytiSh+B2GV+WuFgmIn9q320R+gozK77nxduD/b7CV9UZG/rOKwG7CB76QKBPxFMnfffxoh2Mw2AUNt+5ouv1lWSIJGxWfSRsxGBAwiYDzsD3wdQLLGfgVHBq7Q6F01642ObO7wod8xZZx/xFPecxEF+k10IuPYaZs+c1lS8XvA2l5ec1/6/TrQRs4qhzaX0NiIZcfF9Df9klIFgQxbm0NAxGYfPA9K5Xlp0i9YQNy1N3vtTlOCmfgkgqE0TEpyKqkb1GYI+y2Khn+8nwzxqttjEHbfU2UyZXjvNc/Q7t83bwSr50+Y9y3r80LeL5fAw55hrm6M8xh2bsx75z7PYiPia9aaMYHEjYZEhnbHAkPpPCscfjbBE2LEGw14FlKfY4IEpYRsEhk+5fcfbZAZZH/CvHvnmY/RDkBWYbsFFsDn7tDVuw+DVbltm8yw/x5Tb1Ug7YV7x4yYrp1MdMCnUAzo8lM5Z6WDpqBvpLX5lR8K+zI/SYPeC86+vqXf9YznITcQTGkLKkswREH1l+45zxYQwYF8rhuBkf9scwLuTllTQEJXUz28Ux5X02xmHmwqHPXLcIfWU5y8e8rzBrQx/Z98MyV1pfK9AP9utghyUnbHJfsUeI/tIf7iGW7BgDZreYsQHqJZ32kH8wChteL3vyzWMnpkc8bwxbnbei4/E8qcPDeRFPutOMvXqwjJaWd/vY4JxZKYQbx+44W2ljCmVoIwG7vFKGEAWi13HQ9V3BjyM4beK9rYS0/V6Pp+fGJqYT6DN7qDhO8XbF0K4xh2bt5/ruebkOaT3p2IlVAwmbDKmwwcmwLwMnjcOMwgZHg4jxvSP8Lovv/cApsaGVPR7skcDZk5+9JOwrYV8EAsH3UeDE2SjKvpK//vXSYvnpwtvm2PhrZtp5N80q/vSSP7ZkWem56UuKfTEsGbFf5qp75xavLC2x0ffGh+YXS0fn3zS7Z5lq4t1z7ZYHZ9uSZa8V+08QB/SHH3Zjwy9tpf30xX/MDufPvhTiECWIIl7pA0si9B1x4n3BubO/gx/WQzyQz/fEsFeGvS/sAyGdzb38ezd7Qxgj9iVhh2P26rBf5cgjjyzicdKML23iWhDHWBEYW/bWsG+HuugPgTgED3tu+NE++kc/GGcEFP1C1LUDBCLtpQ19+XdvBByChd+hYey4HrSVHzSkPy4I6RN56C/3C/cQcZwzfoz1QQcdNGiFDeBMcIZOmg7ugOKeHBwQ5dwZeVyaDxAVxLuYaNZeGe4Y46d8bLo9bODcI96fZtuYA5txrIC6onP3vvHqYJM42u14Hwg+o+P9Ji2WBx+biNuIdumX243095i3Yt9tEe/XxcsTh5Dx/N6f3KyXGNxI2GRIhQ1Oik/PzGrwaToKG2YZfIMwrzhpNhnzi7D+jR0cMQGHiqPl07f/uBqzGDhXHDnOmzI45XvuubfY18Kel7/cOqcQKAiZC2+dXfyasO+HIf63V8woNvmee8PMQgyRfv0DXf/+Tdkza8II4UO4+p6uXx5GeNEHhA1tw0m6COPXfRE6BM5x1AgJNqMyG8DmVNrKuNAXRBnCBQdMf+kP9plJwBGzaRhbzDwwRjhdNr3itHHebIqlPGVpAwKBceKbPeTjnPoYM/KShzoQmrxiEzuIIkQTY0mbEQM+s0GdXCPy0F+uG/0hbztghonry3gR4uxRqzCOCDj6zDgiZGgzYpOxZCaQ8UQ4I2r4pWEEG+OD0OT+4Rqddtppg1rYuJNxR5qmA84pdeiAsyFvdHY4pdQBExfLt2IvB2XrfYrHRipsIs20MQd2o4gBZkzibE1Z28gT7eeEQj08f6SszbkZG/Ll8rZrzFux731JRWTORk4UilUDCZsMOAOm9hsFnC+vLAfUCzh4QoxjNiOep+mIpmmzO+3xFxbaY7Uw+Sn+4XuBPfp81/ljvHaH+2vx99bS73lynj387IKijAfP48dPPD+3JmxWrDuGtB0eR0AIIWzSdM+Dc0/7FdP9leD5/NXjPZ8Hz8uMSIzPhbRsbIvbJs7zcYxI8Dx9DV4HgbHK5eltcLscM84cx7FL8/rxYBY2gDNxR59L5zx+Eo+kaTgw4vwTNp+8OY+OqRV7ORrl8SURxIS3I9JMG3MwTlHEQBqHHQQAtmIgH2kOcfE8B9cAwUle6kjzc54TcDnbnPfnmLdiv6zv9DEdXyAvZcSqhYRNBpwBn7gbBfaAIG5YksHx4vTdubvz8TgCx6SRlzTKce7xHkhnr8SSmgDpcmBvOswYOpfUytbyp/FejpCWxX48rxdi/bl6etJq+bC7aNGb/aRvhHgeX4mnTJrfx5E0P+cVARLzddX9Zh7SCN4uz+P5YpoHZssQIGl8q8Hte1voE8I0l7fV4OOEbe8jY8G599GPyZeWH+zCxpcBcB5lwqbMsZAWnZGLBHdkLiLiUkQr9nLUK+/QJxcTvMbZgWbamIM6vRzHPjMSxZPX5046hihC3FYO2upt97KpMALO0xkkyNnmvGzMvJ561CsPrdgv67v3NaVR3WJwImGTAWeAw/PAV7fZO8ISE0LG43FeLMewOdj/y4elEZYLWJZgQzGbYolj6QC7/B8Ux9gjjc2rLAOxj4dNsMSzRIMNfhyPH9Xja9f8+N6LM5faCzOX1V5rImLJa8VSFXFPT1tS/JP3U1O7friPuJdnLSvO75uyqDh+bsZSe2b6Enuulu+Jl5bYi7OWFj/4N71jec3W6z3lp81Zbk/W0kmbUjvvqnNpLa6zqOfJl7vqer5mj1fK86OARRumLyzaz/IT+z0QfiwBsVzFEht9YlmIcWK/DOPp+0gYPwJjQ3nGjrFiSYXlFfYnMaakE4897LNESJyPMWPIUg51Mb44d/LQBjYesz+Ia4Y9lrTI3xf8B/poI8tG1MvSHMK3r2Cb8WEs6BtLciyhIWJY1mM86Af1cQ9yHzGm3K8smzKbONiFDeBQmLXxpYNU2ORmBspmOsjrM0DMXqRLGK3aSykrn4N+0BaEQaRRG3Ngg3IExovXdEao2baVOXegnrS9ufyc54RAWd5cu9o15q3YL+u7hE21kLDJkAobnAkOA2eBEInCBieC02EvCM6ajaw4T15xdOwJYS8ITgmnxx4P9kP4PgicLHtJcEyUwxnj/C+77PLiR/H4HRn2yfDbMZxfdc/c4ld+ETzsoSHw43xX3zuv2F/DrwNf/0DXb9KQ9tc7OuwvtXQ2EPuP/SGUzrtxll1z31ybXBM+U2cvK36Ej7rYYMxeHPLf8dhCu6J2zo8CYuvUK2cUadTHD/7RJjYv8/s6/EjgA0/PK0QJgX+ZZozYF0J/2NTKfhbfXMtGWMaI/TxsIGbs2MfDmODMGW/K8Y/W/sN07J/h37vJ4/txcOqUww6bgdmbQl3sr2G/E5u1EVnYZx8PthFQiAXKE/oKwgb72GafC9cbAdxXmJmhD/SVPjFmCDruO+pjbw19YhzpO3mJ514knnasCsLG43EsaTpO1kVAxB1U6tx9BshnQnz/jtOqvZSy8mUzLr40FWnUxhR30OSvBwIp17aUMucOxKeOPNeHsrqIT/P295i3Yr+s7xI21ULCJkMqbFiyILCJE6fi8RyTl0/OfFrmUzTOBCHExk7SED7MIFCWT9o4Ws5ZaiKdpQXSOMcZksan/+nTZxR/p3DVPR12wU2zbNzlM2z8tTOLXyBGWCBEutJm2ymXTS9Ex4l/nVZsMCY/v0jc9a2oWYWIQZyQRtmzaiLkr3cilmo2im9Lddifb55t51w3syaiZhfnpPENLAQLG5P5leGjL5xqv5s4w066dHrxr+Fn1/ITz0bli26fbU+8WBNc3V9tZyaBrxyzeZdjRBszCMy2MIOCmGMsmGlh3NgoSzz9ZxaFJR3SyccYYgMBwcwWtkjjW1j+SpzP1JDfZ9G4RtjFPnVznbDPEg+iCLt9hSUg2oYYoy7qxH5f4VtrzG5xnzCm9I9j7iNmn+i3z15xz/HKvch4+riTvxEDLWyAT9xef0zHKRGHw+SYNHdOOUcEODkCeVJ6Yy/iYoT2UpbAMWVZxuHVHSmvtCNnt14bc7hgIODIsUmIosj7Rry3jUCbY74y5w60Cfu+fOZ50/wuznwcqNsFRprX29UfYw6t2C/rO/lybSEvZcSqhYRNBpwBjqGZgEPjkzUBZ5a+thrcFiJgUXHeFRZ2v+YCaR5y6TEsQJQVdeTT64VG9SDOcOrN9L3ZcSIdEYntXHq9kLMd4zhGVMb0doV22fX2xnYjstN+5I4Jq4qw4dO3O8W4JwVwop7moWyzKJBGHpxfjlbtpURnT8Ch41AB5xjTOE/7A43amILTJtB26idQFhvR8ZJOe2IbYvvA25+DaxPHhjpdWKT4TI4Hzsts9+eYQ7P2y9onYVMtJGwy4Ax8VsadKo6KkM7Y4GR846i/+mZP9ndw7BtgmcEgzvPwrRXiPC+vnoaD4h+9l3f/s/by2vHrr79R/Js2r2+80fUv3pzHQHyRp/bKv3Jjw8sROjuXFDMBXmc8pi0E//E7Avs8vJ28kub5CLSVV/B++wZX4nnlnODpvDIm2POx8VcvTx7a5A7ay/FKPIG28epplKNObztpwDHp3nbvH3VyDdsBbfH28Uqb+wJ9iX3zV9rt48NrvH6E2D/aNJiETV9BIOREUW/pqz3Kli1B1UtrFZw21yXXVuJzDrmvfaN8s+1vpZ7+HHNo9z0iVk0kbDKkwoZpfvbX+IbVKGyY7mf/DPsr2CjLHho2qnLOXhOWO9j3wJ4alilYZvI8LC2wnMB+FOyzl4L9IOz7mDVrdrHHhR/bY/8MG4XZzMu/drMReM6CV4uloidf7iw2FrOpl3/cZqOw52EfDvtmnqids/mX+GdeXmBLli4v2kf9bHL1trLcwVIPyxwsabBMRPt8U7Qvc5CPpR7azD4Y4gohVnO2LPXwmyv8vgrjyA/HsSzHb8j4j/+x/4MfzKNO9s2wh8b31vAbMOQljWUo7DAubEqmHGNJPMHbSTnKsA+FJSeWo1iGoj6cPucsETL+tJulKpaN/Mf62gEiiT1EXFuuX1/32DBm7NHinqIvvneGe5A+cU24V+gH/aevvomYftIvlumqJGyGKj7LkDpsnDjxzJQIId5EwiZDKmwQL+4UU2HDchRO2H+gD+eDs8FBI158kysbXBEHOH3ystSEiEA0scEWkYFAIi8iiE3KbBbmH73ZV3PO9TOL/TIc8wvDN9UECxuJ2RvD/hv2u5x1zcxiszAbhAnkY3/NaVe+UuTjx/0uv2OGzV+0tGgfooV6aDNtwkFSt4srRAdigh96I7hw8x/Uo7+IA/KyGReHyxjRbxwtMwi8IkLoG2mUZSwQPNjwH//DkdMObDJGjDMikH//Jg4RRToikHLkJx4Hz7mLIzbR0k7ay4ZinDvp9Jd48tAmxA1igba2Axd11MGY9PWvGug7/XWBRv8YK4QNIoox977SJ64LG7O5l1wcMuYSNtXAl5d8yYTAOUtFQogVkbDJgDPgE7cHnBTiBhHCnhqPZ7YDB8kGTsQMswo4HvIiYsjDt55IpyxLWdhioytLFYgb4pjxoE7EE/l4ncFG2RcX2r1PzrObH+qwK++aZdfdN7smaDrs5lqY9NjcrrTa8cRJs+yqu2fbZXfMtNsfmVvkueeJeXZ3LdxSK0t58t/x6Fy7/aGZ1jGvZrfm0KmTpTTqo018yqf9iBRED9/woX+ICvL4DADHvseIY/ITz5IdfWUcyMtSiZch0Fc27mKbmRXGAkFH3dghjWPqZAaIsfa2YIfy2OacNGzyyngTRxr10y7KUQdtwi72SWessY8tn73xZZy+BK4nbeA+IHBtc/maDT5O9IP+YJPxQkwzNowH9xb3CwKZvLz6vUaaj30jJGxWDeL+GkLcYyKEeBMJmww4AxxTo4Bw4ZX9DO0OOLDly9kb0hVYPiL4eQye1lkLS5fl83hYsHCRLas5zlydzDr4Pg4CwiSmNwrMJLRappmATWzn0voamHnLxfc19JddAiIqXqd6QcJGCDHUkLDJgDPw5SYCMzN8+mVPB5/0PR7xwSdjPikzq8FsADMhzCCw/MJsAjMCLFGQh9kRlmv4VM1sAfmYUaAccT4LwUzDCy+8aNPm1ITGq2/YK3O7fkQvhf01y159a/y8RV2bedks3LGw65++HUQCm0p9bwlOkj0ozGbgCJuB9jIDwiZVxiVuHmbGhXTs0x+WUjw/48cMBOcs3zETwcwWY8dMEWPE/h1mJxg30slH2xCQzEowTsxc+EZg6vCvQZPfIb+DKEp/MI9xZ7mHmZF2wCwL7ab9BK51X6GP9J82cg8xTtwz3EOcs6fHN1BzXxJP4L70ayJhI4QYakjYZEiFjS+34GQQMlHY4DARBuxPYfMqjhwnjdNkHwT7H9jjwZ4PNoPinNkbwr4S9kUgDNjrQX7EDs6ZH5l7pea8i9+HuY19MuyPmVP8AB97ZXwjMb9jw+bgc67nd2vm2l/v7LDba2lsOr72/vl2We2cP8k8t5bOv4RffldHz797sz8D2MvCnhD2qrAfiP0t7E3xf8xmb4f/AzcCAhAd7HHBobpAof8u6tioSx8QTfSR/R7sFyGezcD0nR/aY3z4t2//523qYgwZL+piLPkXcPaMIPbYl0NZ2knb2EPiG2uxwR4T2k0ezseOHVtcH+rGNvtRyMN14BqzX4dr1Q6wxxiwJ4h9SoxrX0HYcF8wbuydOfbYY4txYCmK8aUuxA1/uMp+KPrOWJCX+47+SdgIIYYaEjYZUmGDmGEmgk/MOMoobJhBwPHijAk4GQQKDhlBhGPC2ZAHG4gBBADfYGFWg0/2vHKOk2WmB6c0adJdxa8C3//0ouIXfvkhPn6Uj03D/Hje3U/y55eLih/TY0MxG4MRMPzyMJuKSb/riQWFGGITMt+uuuXh+XbjfbN6/t2bT/mIEhw+9SMAaCvCgF9TJrg4w1niYN2pMmPADAz9Ix0hwfggZIgj0FcEE/1iZoYZDUQJ9SGsaAOviA7KMX4IG9rCOCOaSENE+TexXCgyhrQHuwhFytN+nDvtdmfPtaRORAf1sjEa8YZQJY72tQOuI+2mfdhth7BBGI4bN64YV8YBwcQx14CxYYaM+4rrgXhkk7GLOOIYEwkbIcRQQ8ImA84A0dIosJxBYDmg3QHn9fyMJTWBsqAItz863+58rOs4DcSTflstTHo8n8fD5Cc7ihmbXJ2Ngu/ryKURfH9NLq0vAZu+hNbuwDJVLr6vob/sElhuYqkpl5YGCRshxFBDwiYDzoC9Gx6YsfGQxvPKp3X2dPDKTAOihE/sfOJmZodNxqQR73sgyE8aDpB4gudnJqVIX9RpnbX8ixbXXju79k/EMH9hPp5yfrx48Ypp1E2dCLKu9MVFm6mP+Ji3LNAXL097Pd7b7ukE9sNw7v33Yx8nHxsfP14p52NBPs5J45xj+kB9tJdjT4tt8Tyez8c+xrEMSH0xvi+BdlAv7eA4l6fVQP+xyStj5f33vpOH17R/HiRshBBDDQmbDDgDd5QEHCB7R9jEWQiO7ngcin9lmWUVllxYImHJiaUC9tOwHEUaeyHIi7NhWYXlEsohBMhDXoQSx5R9mk24U5cUP7T36AudxT9os4mYf9PuWPCqLV76uj3wzKIibursZUX8y7VXfriPf/8mnvMpL79Zjs3I02Ytsldf69q7AfSBJR2Wlug3DpRXlpnoL21iTw1xiA0gnr4ya8AxTpa+MTaUY88R/SOOJRLysoxE3xgH+seyEOPEMhHLQSzBEU8gL3WSztIR51wDlo9oJ5uP+Uoz4pE8LOUxpizT0F7fpMyYshzGOWNNGtcR0YFIYKmGPO2A68q1px6WJ6mjrzBLxfjQX5bbsO/jzf4b+ks//McKEdm80kde9a2oLl6oXYp2/yx+f9gUQrQHCZsMqbDBeeKc2cOAg43CBsfIPhT2P7BZkz0jOG9e2cvBfgv2PPAv1ThgyuOsSWc/BHVh178dhCPDDmKIf9hmU/DZ3X9+yTF/Okn8Q88uLn55mP00pP/1jjnFxuJb+Hfv++cXG49J5wf6in8Hrx3zT93XT+7aY8NGXJwxe2xoO5twcfTs2WCjM3ttaAeBDb5sVKX9OEuEEH1GyHCMY2VPB46XdtMH7LN0RV8RN76Phx+ZYwMv/0xN2sknn1zsh6Ee9umwl4cxYyz4HZ0TTzyx2DeDWCKNTcy+F4jxpd2MJZuSCWwqZjM0fTjhhBOK8WbfC/H0j/1DtINNuNRJ+XaAyMIe48GeoHbssWF8uW8QNbTf9zYxO4Owo1/06Te/+U0x5owfY8XYs+EboSNh0yVA6Fc76Q+bQxn/3yl+TblV+lJWVBMJmwypsOFTMQ4yN2NDPDMRfKom4OSZ9WBGBNHAp3dmDwh8kmbWg9kI8iKKEBfY9yUcPmnztedp06bbg88ustse7doMfPFtc4p/6+b4b/fOtVseXlBsFL7irrl2/o2zi3/u/ssts+26++fZ1ZPn2s0Pz7ebH+r6dWJEzw01oUO46YFZxR4b6mZGgH6wqZc+0yYcPjMo9JXAOX1C1NAXyjA7wuwH/ae99B9hhk3aTj85ZkbHv7bNV7Zx9tTBrAZ2cc4IGEQj5QjUgZBknLBNPm8frwgcbFAH5XmlfvLRLtpBu2kzgpGlG68T2+TBDmNOPRy3A2ZRaA9igv4yNn0FYegzT7QdUcP9xj1DHxlTxgMxSR/pO2PhIpw2SNhI2KwKSNiIdiJhkwFnwDJKo4ATw1nj7Ak4HD+Ogfg0rSwvgTRETsf8Tps+e1ERXnplob08c2HPeQzEv1hLf3HGwmKpaUYtjpDLO3UG/zrd9UN6uVDWVgIzBTjwmBbzIJIQJGXp/uqhLN7jPN7323hcWYjl4rnbjMHjET6xTF9CtN0uu7GtHodg8esQ43PHEjYSNkIMNSRsMuAMcEyNAuKDmRY+WeNI2M/h+x8QAbyydEOaf6OIOPIRxzmzGrySTrznp/yy5V3/1FwWOpfy67Jvja9XjvZRJ/VxTn04SoQD8Wn+XMBh0laO3Y7HY584D4gS8nJMXV6W/lEf+Tknnjw+jt5GtxfzEaiPPBx7GYK3hTJ+TL6Y5oFZG9qXxrcasO/XkECb/Pr3NdBubLt9zr2/Xp/nJY8LQI8bjMKGf2e+86UuccDfBJQR87Xy9wHkjbbriRDPSz31/jW6FZv93T9mJhqVa2S7mbob1YMN9hr5MXkJHJeBTeyRL86wRFsp1O1lcrbLynqb6vVRVBMJmww4AxyEB6b52QzL9D5LMB6PIGCphT0Q7H9gD4j/wBx7HtgjQmDvA3tLWPqgPPtDiGMvBksK7J+gHMsnLCewB+XGG28q9slcPXmeTbhldrFHhn/r5p+8eWWTMPEPP7/Y7npiod3/zKLix/menb7EHq3FEW5/bKFdNqmjOJ48ZaHx2zYPPVMTYstft+OOO67oKzNP7A2hfyzTsBzEUhQ/fke/iCON/TMssQDLUvQVp0peZq1YEmHJhKUl9n5gn2WiU045pdgHwngQ2PtC2SOOOKIoe9RRRxW/N8PeFwJ7RCjP/hnqPfLII4s9SizFsCeHY+IZL19yogx7g9hrw3INe2jYA0T7EQEsC9IGNiGTn+Ua+sWeHF77Al+pZgmKurnu7CXiXmA2rx1w39B39jhxn3AdEHn0ifHgnGvly3SMHWNB/7m/Bpuw8WWDGLY6760CgHPS+PNH/8NHnFQjPK8Hyp82ues44vapO5bJCZFmbUJ/98/t8+eXBD+ONLLdTN3N1INgIN7txZATGuc//NZ81ANuK+J2G12jemVbHV9RDSRsMqTCBoeN02CjaU7Y8E0enAjOFgeHWMBJ42RxxGx2ZUMn5XF4OG3icLbsx8EBI5p8fwllLrzwouJXhdknc9Gtc+yKSXOLPTbstbnhga7ftLnlkfnFj/bxr95sKub4b/fOK/bdsM8GUXTJHR12xtUzi7jix/q6Nw9TJ5/6aQ/tZi8HAoeNt2xYdSeNM2VzL4IEYcDsBP1AHNB/xAnCD3HBOCAcsIV9hA+v5MfRIoioAyfNBmHEHePFBmHaQBp1EmgXohDR45uJGVM2DyOMEC+MH5t1KccvGdN2xAptZ/Ms7eb6MNY4e169LG1mkzd19RX2XdFPBAaCgzq4B/oK9wYCkTYiABG8CDFmC6kD0UhfETj0D8HHvcU4MDZck8EkbNzZ4OAcPlXjfHBe8dM454iHyAsln+gdd3C8OtGZRsiTOkhvR6QVm/3dP7cf282sR9q+RrYbpTdbj48N9rw8+TgvE0GpwPKx8vQIcbENUO8aRRr1UVQbCZsMOAOWmdLgG3zjObMYbEzFUVKOjZsIIZw8jok8fKInDSHA8gBxbPzEBs4fkYQdNobi0D3tsRf4tWC++TTH/nTDKzXxMqsmUObYVXcjbthAXEurHZ9340z7880zbfy1M+y6+zrsylocaTc/NLc4/lut/I0PzrVra2k33j/TFi9Z3rMJmjb5DAb1007OWaYhD+1hNsA3sLLEQn+Jo38IPfpM/8nLK4HyLI3QD/Jhm7L0kzLY4Jy6EAHMvpCHejhnOYWy1Ek7iGPZyMfI7fJKXcwaIWKwwznHbCimDHUSzwwS7aY89hFh5PVlm94GriHjSNvY8ExAfOTythq4Rsw68cq1oZ/M2NBu6qAv9JWZPuIZT/rLPcY1pUwjVpawwSkRUlgmoN7o9DhPHVMjcKY5+9jBXiNyDrIVm/3dP2ynggGYkYj1NrLdKL3Zeny84pISuPCLlNl0cmOfI5cvF8d5q+MrqoOETQacAY60mYBzxUm2O+Cwc/F9DThgHGUura8BoYJzzaX1JWAT27m0vgbEQS6+r6G/7BJc7OTS0jCYhA2242xGJE3zpRCcabP7I8ifc2b1nCaf4pkVII8vWURascl5f/cPcUDdMSAaYlsa2W6U3mw9xMVzJxfPednYQJktaHSNcmV7M76iOkjYZMAZ4Dw88KmYT/vEIzg8HpGAuGGWgU/KzLQwI0A+zinHp2dmMIgnPw6afMwgkI84jsnHp3CcEfnnzZtv0+Yst/+/vTNtkurIzvBX/wb/Af8Nf3HYE7bDHo8ddvibI/wDHOEIrWgJSYhFEtpACwiBRhqBNLaWgWHfEQIaBBJbQ7N1Q1PdTTe90hIMgnQ92X1w6nKq6t6q6qaoet+IN6puZp6TSxWctzJP3zs8cSf0Dd0Kg6MzT/ie/PHneHO+Oz/fCxcHykGufD0x/XO57ucwXn69/ad78eneP92+G8am7sSb99Ge+sly/fjkTHIzffCrnrEzF+ZFMGaHgx0mxsHYIPWWZMuY2UGhnPwS3rNDYcLDdkfYxcEfR3hc0w87Cxy1sZbk8jBfdmRYG8Zjf35NW9qwfuy6sF6M1ezZtUBQslPCe8oYF3aMw3ZzqGOM2DIu5mCCgzL6pLwR4B+fjIH++T4wXsoaAWvK2PgesRasE36ZF6KGetaKftgBoy2fE2vK3FgHjkJZl1qYT2FDEPJAHUEoBcHMgimv2Z2BLGhHQMvCC3z4Mt/0C7OBGxTxyfVcz492Nt6UWfFVy3e1+rz9eGsAiq4N8GzyfkaVxlF0fYX2gYSNA4KBiRdIQCF3wnJkrJzgzvEDeSbkOJAnQh4HwZi8B3I4LL+DvBKOC2hPvgn+7Jr7kCAACFQcYZEvgrAhvwaSO0MiMUnC3NeGOw73Dt6KeTQ8G2rbsfH4xO+ZuumYJHy4TLsHDve2OVB+T5tj8VlRd2IeDbkb5K+Ql2G5QOSfkL9hCcTkuVDPWMmx4WZ7JD+TCEyODrkl5LgwbgIsxx/Mm/wORA83/8Mn7Vk/SxQmV4b8EHJ3WBv6xg+vlCN8yDtinKwlR1f4xJY+IUdJ5JWQU8L4GTfjI9+JtpQxBvJw+GwsB4W1Rohgh49GgLDhM2SMrBfj5+norEUjSPONSBDmms+KzwDRYjk9ltdF0jDrxefF9436hQsXtpyw8XY/yD2hrlLg4xc7ORMEp2rAB8EvCy/w4Svrz2tXxCfXcz0/z3811PLt1eftx1sDUGRtDJ5N3s+o0jgMeddXaB9I2DjIChvEDIGQoM0v5lTY8MuZQE7wJnATYAjKBFl2BAhKBBvEDD7YLSARluBNsDYf/OLmlzkiCn83b07H5GFuvPfh1uvh7T8MhFWbB8PqrUPhtzuuh68PjpZ5I6zZfj288j+lsHzDYFj2RSk+BXxtuez3+0ciqX9/02BYt3s43oX48z0DoTQ0GhN5GTOBk7EhGAj6BEeCM2ILgYDAoR1jsqRggimBHGGDkGAuiAV2VBAKzJndAnJs2LmhDmHE3PCJD0QFY+AVe/ogUEN8sOvAelPPWNixwA/2rDP+aUcbRCJrDBkXY0YIIKrYQWFOJgQQWIyP9eaz4rNoFHwXGAdzhIwXQdUIEGN8HoyR7wlrxFqzDuw8MX9LWEfAMW/mydyYK0TwtJKwIbAQYLKwwFTtyMCOFqqB4xPPP+VZW67pN4XXRxGfD2t+tVDLd7Y+bz+VBIVXXmltLKHas+E6z2dUaRwp8qyv0D6QsHFAMOAXt5Ff5ARCynmfrUPscAQAKSMoU45o4ajA6gmAHCPY8QFHJgSpVCjZcQk+hm7M3JivtzQZzpV/dly4OhEul9/DK4OTsY73566Mx/ru3vHYljLqaNM7UOZs+77y+0tXb4TxiZnjJYKvHesgALimX8p4pZwxUs74GR91vKeO3BderR025odr6nk1Wp+Qdswz9Wf94MfWweoh9rzSjjp82lqZrY0FO/qwPim3etpTjmClHZ9JI0w/M15ZJ957bfPS5mPfE8bJ2PFvfTE/ynilHhvami1lrSRsCOz4J3Dynl/SFpTSXRGODLg2IcArQdHbOUnB0QO+2BnAN3YWUClPQRl1djxh48i2K+KTOsrman7mn3b4NpKUzDhBLd95+s7TD6gkKLxybCmzdYS8t349m7yfUda23vUV2gcSNg4IBgSnWrQgw3FEs8lxQ/rXMXNNbwwePVsju1Hs0nh19ZI+7WZ92bGk9GzzEFHildeiN4aUiDqvvBlknfOMAbaSsAEERoJM2p+XVEoQSttwbQGuGuyXuZFrL2gSWNNxIEYs+GaR1yeY6/nhn2Cf2nJtQRzU8p2n7zz9VFqDWuWev0Y+I882zxyF9oWEjQOCAb/ojfxqJgGW/AZ+BVs54oa2HInYwyA51uG4gCMejp7It+GYhWMDfJBHwxEDxyYcMfCLGztyVKgnWZQjk56e8+Fc/48xAfh8+XVo7Ha49ae74cfbJAiTPHw3HDpbFlfTd+J9aW7dvhufAUXdwI2ZtiQM9w39FOupI6GYV/MTfd3hzrmUc8fie+Xre+Gncj28NPhTue29MFoeA8nL0/f9zPSHX/roH74VSiO3w7XrN+/fBI+jE47YLF+H+bEWzI2jGo67OLLjKIW1YH047qKe4xTWhqM82nEExWeAb46dONJCkCAeSHTGDt8clVEGLZEYUcTuBTYIAuoQSexykLOCjScI8jAFfjmG4jiI7wJ9NgOsDWPl+8Sa8v2gL97TB98tmzPzY242T0RmqwkbA0GGwFULtEnv/5IXeXwDxpHXf16fYK7nl8d/Ld95+s47jyIoOucin1EWRfsS2gMSNg6ywsb+aocgmBU2BB0CMbkQBGFyG8h/QLxYoi15JgR38jDwQxn5DwRWAjavBGfsyJXg5mr9/dfC9mNjYf2e4bB2+1BYu20o/O835M8MhW3fjYYTl26GLUdH4037VvxhILb7aMf1sKNss/P4eNhQLv/9Pmyvh5WbBsPvdl8Pn5evf7drJv9mTdnfb3cMhb0nxuPditfvoX7mYZof7xwOn+waDge7p8L6vSPhq2/J5xkNSz7vj/2T5/P53uGwestQTF6mT8bX1T0a14pgS94HARbhwpqwNogW7qTLTf8seZmnfHPzQt6zJiS+sgasEwKBJ3SztogbEo+xpQ1+EJH4RDxxYz6Sdkm85j0351uwYEE8EiTXhpvbkXdDOWIBEUk5YsQTLXmYAkFBzhCiDdHB96QZ4LvB8RJryrj5LvHdI+Ga+cAlS5bEG/ix5qwNidMrVqyIY2lVYSMIgjBXkLBxkBU27KqQj4GI4ejJyhE27AywQ4EogQQ1ygjkBFV2bwh42JM7QRuCEzsM7Daw88ArooddBXYxEErUI16O9kyVhcxY+PLASNh8ZDQKEYQNguLIucn4HsFDIjFP995/ciJsKwsNdnMOdU/EG/nt+WE8dJXb7j81Hv7YxQ3+RuOTvmnDoxaOX5iKIonHNsyUzzx+4Wi5jkcy8FdX3OkYUUNf68uihr/Iwi/ii7/S4rVvcCoGU+bAvEkuRqAwPwQPeUrMn/VgZ4M2vCLqEH6UM3fWgnVmd4JEYUQNQoQdINrhA5+sEbti1PMZYEt7+kco2c4J7bGz5F52fsxXs3Zs+D7QD4KWcSBGmgHmx/eG9WNejJvvDOXMlfkgeJgr9YyB3TFeWUcJG0EQOg0SNg4IBgTEWkTwkKjJln8ziSAgsA+MTIeeq5OR3b2T4WzfzPssKaf+DG2u+G2MZ3vHw7kKbc73T1Vl9F/u6/TlCdd+YHgiBmHG30ymRysePZs8ZJcFcerV5aE3FiNCp1abeskRG2P36rKUsBEEodMgYeOAYPAwyZ99Pwx6Y0np2VSj5wN6bavR85HSs5kPemNpRdaChI0gCO0ECRsHBAO2+x8W+UX+MOiNJaVnU4mVbBrxVYmeTT0s6i8dQ6tSwkYQhE6DhI2DR1HYNMOP5yOlZ1OJ1drX46saPZuirMdn1qYVKWEjCEKnQcLGgYSNT8/GY6329fqrRM+mCM1HUb/Z9q1ICRtBEDoNEjYOJGx8ejZZem3zllWita1EzyYvs36y19WYtm1VStgIgtBpkLBxIGHj07PJMtuuko/sdTWm9h49mzys5MteazFr24qUsBEEodMgYeNAwsanZ5PSa5deV6urRvNbiZ5NLXp+jF57j55tq1HCRhCEToOEjQMJG5+eTcpsm6xdXj9Zml0lejbV6Pkweu0r0bNvNUrYCILQaZCwcfCoCBvPthI9+yw9u5SejdFrU4+NR2tXiZ5NJXr2Rq99NXo+Wo0SNoIgdBokbBwUETaL/zgW/vy/Byty8cYx164avSBaiZ59lp6dR882pWdjzNbntanVBlq7SvRsPHq2Rq99LXp+Wo0SNoIgdBokbBwUETaemDH+x5oZ0VNU3HhBtBab4cfzkdKzMWbrs7ZpvVcHU/uUXtuUnk2Wnp3Ra5+Hnq9Wo4SNIAidBgkbB80SNt9euB1e2zoV3xcRN14QzcNGfaT2Hj0bY542xtRnSq8t9Nqm9Gyy9Ox4nhNPDufJ3zz7y7OrRs9nq1HCRhCEToOEjYNmChtQVNx4QTQvG7HPjiNLzyZl3nbGon4r0bPJ0rPjCdyrV68Oy5Yti09uT9vz5PFnnnkmfPTRR78oT+n5bDVK2AiC0GmQsHHQbGEDTNws315b3HhBdD7ojSWlZ5PSs8nSa5+WeUztPXo2WRa1kbARBEF4NCFh46BZwubZrybDZ10/3udfvXYj/Hr5iOsnJUHzyJEj4cknnwxr1qyJAfbpp58OO3bsiMcnk5OTYfv27bH8iSeeCMuXL49jPnbsWLTZtWtX9MEr15QPDw9HX7TH1xdffBEmJiYqBurBwcHw4YcfRvtnn302+qLvkZGR+36o++yzz8LQ0FB49913w9KlS+N7dj9eeeWV8N5774WxsbFf9AE59nn77bdj+zfeeCOKB3zv3LkzPPfcc9E3OykDAwOxPeN/4YUXwuOPPx5tTp48Gcf38ssvx2Mk2rBejz32WNi0adP9tVu/fn30x3w3b94cPv744+h7yZIl4cKFC/fHsXDhwtjXpUuX4rhp89Zbb0W7+RY2Fy9eDH/94pXwq5cHGubfLSqFg93js9/qypCwEQShnSBh46BZwsZjEWFDoEYc7NmzJwZxSEDv6uqKgfuDDz6IYofg/f7774e+vr4YpClHtCBAuO7v7w+ffvpptNmwYUMM+ARvhIQXqBEZa9euDc8//3xsg8hARJ05cyYKB94zBvrGJ6KHcoTAqVOnwtmzZ2MbylL/RhMUCJVXX301bNu2LRw/fvyBOa1bty5+FswbkYUYefPNN6P4QIRUEza2drt3745rQF/Mm/mb6EmFzdWrV8OqVaviuLds2RL9YjOfwobP7+DBg+FvFl5zhUoxlsLW4xPh7t27s9/qypCwEQShnSBh46CVhA2vXBNgCbockbDzwA7GlStXYh27L+yqnD9/PgZkdjUI/LxyzW4EIgDRwG4PuzfklaxYsSKMjo4+EKhLpVIM9p988km8ph92ZhAt9MU4GBe2CC0Egh3dIHKgjdV8pzRBwa4I7ylL54SwQpQxfkTSiy++GIUNu0G055Ux1hI26doxH9YB8p6yVNj09PSEl156KfZL//N9FNXb2xsF7KFDh8KvFpYcoZKff7uoFHafnAj37t2b/UZXh4SNIAjtBAkbB/UKmzSnJgXHUM0SNqdPnw7vvPPO/UBNne2iEIwPHDgQFixYEHcdKPvmm2/iTgc7IBakLaBDExbQ+ifII5Q4vsmOiz7pn90Mdn0QAggljqg4VkI8UYZwotx8p/T6Z2zMN6XNkTkwHvpE/Bw9ejSWN1PYsGPEetku03wKGxM1+/fvD4cPH25ox4bjpz0FRA2QsBEEoZ0gYeOgXmGTzakx/te6iULCBlYSNgRcdjfYXWCc1KU7Nux4EPwJ+rYDYvkothvh7dikfWd3bBAtjIOjEvJnID62bt0aj3UQUek4IO8p8+gJG+bE0RfHXYgPxsArOTqMn1fyT15//fWwaNGi+N6ETbpe9Qob1o7XvDs26Xo1wsuXL4e9e/dGQYqAY8emXmGDqNl/erKQqAESNoIgtBMkbBw87KMoyK4EOxS8ck0ARzCwm0LAfuqpp2LuCzkwCIKVK1fGP18mt4Z8G2x55ZpATb4KNhs3bozHSpYbk+0X0t7Lsenu7o65KZSfOHEiBmHKbWfnhx9+iH1A3mf9GhFTJDxD3lP2/fffRzvGTJ4JQoe+2G2iP0QWIo16BA3ChlwbRA7CwObMWLy1wwaBZCKPMhsH1+QhsdvEGiPY6J8dKdqxHl9//XU8DkNwsR6so+X8fPfdd7+YX14iatipQdRAdmzqFTZ/v7gUvu0uLmqAhI0gCO0ECRsH9Qqblfum43FUlvan3s0SNuwYIEq4RqCw80LANVsSZrElCdfK2J1ArNCeo6ovv/wy5ttYfZYIgOxfRdFvWo4QISkZ39jYX0ORG0MeTNan0RM2+EbQsMuEoMAPf/2UljOnxYsXRxGEDQKPsTEfdlZ4X6+woRxxw04Wc2MnB3+0QxwyZ3aLEDPMj/4Qb7TZt2/f/bnlJcIMQcYuje3W1CtsEDUHz9YnaoCEjSAI7QQJGwf1CptVe31h89xXk4WFzXyRwI0ISEmZ17YoTURk/Zvg6FQiatKdGkRNvcLmH5aUwuFz9YsaIGEjCEI7QcLGQSscRc0X+asjElZTUua1LUqOxrgHTdY/eS5e+04gOz6eqKlH2Pzj0lI4cn6qIVEDJGwEQWgnSNg46CRhI84fq4maosIGUXO0p7GdGoOEjSAI7QQJGwdFhM2ijaOugPH4F08Pha+Ojrt+xPYmuVHVRE0RYfPrpdfC8YuN79QYJGwEQWgnSNg4KCJsRLEWETUkdFcTNTCPsPmnV0vh+0s3Z7+pzYGEjSAI7QQJGwcSNmKzyP1wau3UGGsJm9+URc2Jy80VNUDCRhCEdoKEjQMJG7EZJAk7z06NsZqw+eeyqDnV23xRAyRsBEFoJ0jYOJCwERslNzPMu1NjrCRs/uW1UjhzZW5EDZCwEQShnSBh40DCRmyE7NQUFTXQEzb/uqwUuq9ONy1R2IOEjSAI7QQJGwcSNmK95FlX9YgamBU2//Z6KfT0T89+K+cOEjaCILQTJGwcSNiI9bARUQMRNjw+AlHz728OhvPX5l7UAAkbQRDaCRI2DiRsxCLkmVuNihqIsOH5U//5Tin0Dd2a/TbOPSRsBEFoJ0jYOEDYiGJeIki6urriU755Dla95OGe/Hn4ycsTs9/E+YGEjSAI7QQJG0HocOjfhSAI7QQJG0HocOjfhSAI7YSOFjZ/uXamTBQ7mfw7SP9dUCYIgvCooqOFjSiKD1LCRhCERxkdJWwW7X/wP3FRFH9JCRtBEB5ldJSwGZgK4c9eevA/clEU/58Hr87+gxEEQXgE0VHCBnQPz/wiFUXxQW4+P/sPRRAE4RFFxwkbQRAEQRDaFxI2giAIgiC0DSRsBEEQBEFoG0jYCIIgCILQJgjh/wAUebTx+Veb0AAAAABJRU5ErkJggg==)"
      ],
      "metadata": {
        "id": "hSTK1OXGWxe_"
      }
    },
    {
      "cell_type": "markdown",
      "source": [
        "# **Respostas para todas as perguntas**"
      ],
      "metadata": {
        "id": "AjKCj3eVefiF"
      }
    },
    {
      "cell_type": "code",
      "source": [
        "print(\"Cliente selecionado: 21791666000185\")\n",
        "print(f\"Qual é o número de atendimento desse cliente?: {count_chamado_cnpj(['21791666000185'])}\")\n",
        "print(\"===================================\")\n",
        "print(f\"Qual é o tempo médio de primeira resposta do laboratório para esse cliente(em segundos)?: {primeira_resposta_cnpj(['21791666000185'])}s\")\n",
        "print(f\"Qual é o tempo médio de fechamento dos atendimentos(em minutos)?: {round(tempo_fechamento_cnpj(['21791666000185']) / 60)}m\")\n",
        "print(\"===================================\")\n",
        "print(f\"Quantas avaliações esse cliente deu para os atendimento do laboratório?: {avaliacao_cnpj(['21791666000185'])[0]}\")\n",
        "print(f\"Qual é nota média de satisfação desse cliente para com o atendimento?: {avaliacao_cnpj(['21791666000185'])[1]}\")"
      ],
      "metadata": {
        "colab": {
          "base_uri": "https://localhost:8080/"
        },
        "id": "9z7iw8SNeyTs",
        "outputId": "8183a15c-581d-4149-a7a1-a7d05898b52d"
      },
      "execution_count": 27,
      "outputs": [
        {
          "output_type": "stream",
          "name": "stdout",
          "text": [
            "Cliente selecionado: 21791666000185\n",
            "Qual é o número de atendimento desse cliente?: 20\n",
            "===================================\n",
            "Qual é o tempo médio de primeira resposta do laboratório para esse cliente(em segundos)?: 75.5s\n",
            "Qual é o tempo médio de fechamento dos atendimentos(em minutos)?: 35m\n",
            "===================================\n",
            "Quantas avaliações esse cliente deu para os atendimento do laboratório?: 8\n",
            "Qual é nota média de satisfação desse cliente para com o atendimento?: 4.5\n"
          ]
        }
      ]
    }
  ]
}