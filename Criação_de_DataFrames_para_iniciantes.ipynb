{
  "nbformat": 4,
  "nbformat_minor": 0,
  "metadata": {
    "colab": {
      "name": "Criação de DataFrames para iniciantes.ipynb",
      "provenance": [],
      "toc_visible": true,
      "authorship_tag": "ABX9TyOtjFkEpsJJxHeHXXns6Wta",
      "include_colab_link": true
    },
    "kernelspec": {
      "name": "python3",
      "display_name": "Python 3"
    }
  },
  "cells": [
    {
      "cell_type": "markdown",
      "metadata": {
        "id": "view-in-github",
        "colab_type": "text"
      },
      "source": [
        "<a href=\"https://colab.research.google.com/github/adilsong3/DataScience_Junior/blob/master/Cria%C3%A7%C3%A3o_de_DataFrames_para_iniciantes.ipynb\" target=\"_parent\"><img src=\"https://colab.research.google.com/assets/colab-badge.svg\" alt=\"Open In Colab\"/></a>"
      ]
    },
    {
      "cell_type": "markdown",
      "metadata": {
        "id": "CxIzGryHzGCi",
        "colab_type": "text"
      },
      "source": [
        "# Criação de DataFrames para iniciantes\n",
        "\n",
        "####**Primeiro você sabe o que é um DataFrame?**\n",
        "* Espero que o nome não te assuste. Vamos entender o que é antes de colocar a mão no código.\n",
        "* Um DataFrame nada mas é do que um conjunto de colunas e linhas como se fosse um excell da vida. Veja a semelhança entre os dois:\n",
        "\n",
        "![alt text](https://i.imgur.com/zzJwG4h.png)\n",
        "\n",
        "**Ambos são idênticos em aparência**. Há então já que são iguais vou usar o excell pois já aprendi isso em um curso de informatica e também sempre escutei as pessoas falando crie uma planilha X, ou Y. \n",
        "****\n",
        "\n",
        "* Confesso que durante muito tempo **utilizei o excell e ainda utilizo** em algumas coisas, mas depois que comecei a aprender as estruturas do python de manipulação de dados utilizando a biblioteca pandas, verifiquei que o excell só serve para estruturas super simples. \n",
        "\n",
        "* Se você utiliza o excell agora em casa ou na sua empresa não se culpe todos nós já usamos muito e não quero que deixe de usar, apenas quero que **se permita abrir o seu conhecimento ainda mais aprendendo um pouco sobre outra forma de enxergar os dados.**\n",
        "****\n",
        "\n",
        "####**Qual é objetivo principal desse notebook?**\n",
        "\n",
        "Objetivo principal aqui é criar uma conexão sua e minha com a biblioteca pandas fazendo criações e manipulação de dataframes (um excell com infinitas possibilidades). \n",
        "\n",
        "* Se nunca viu algo parecido, pode ficar tranquilo o objetivo aqui  é justamente para você aqui vou mostrar formas básicas de criação e manipulação de DataFrame.\n",
        "* Nesse notebook utilizaremos dicionarios e listas de formas super simples.\n",
        "* Aprender isso pode fazer com que se enconomize muito tempo de pesquisa em projetos e analises futuras."
      ]
    },
    {
      "cell_type": "markdown",
      "metadata": {
        "id": "uHX9ctzw2IXz",
        "colab_type": "text"
      },
      "source": [
        "## Trabalhando com **DataFrames** a partir de **Dicionários**\n",
        "\n",
        "* Após estudar um pouco, vemos quão facil é criar um dataframe com dicionário simples.\n",
        "* Primeiro vamos importar a biblioteca pandas que citei no começo.\n",
        "* Depois vamos criar um dicionario, o mesmo é definido por chaves `{}`, dentro da chave é divido por chave e valor **ex: `dicionario_1 = {'nome'  :  'Adilson Gustavo'}`**. Um ponto importante, sempre que for escrever algo precisa ser entre aspas simples ou duplas. No caso de inserir numeros segue o **ex: `dicionario_2 = {'idade' : 23}`**."
      ]
    },
    {
      "cell_type": "code",
      "metadata": {
        "id": "BulpvrbdzCJq",
        "colab_type": "code",
        "colab": {}
      },
      "source": [
        "# importando pacote pandas\n",
        "import pandas as pd"
      ],
      "execution_count": 0,
      "outputs": []
    },
    {
      "cell_type": "code",
      "metadata": {
        "id": "B5SbgAdGxd6b",
        "colab_type": "code",
        "colab": {}
      },
      "source": [
        "# Criando um dicionario com valores reais\n",
        "dicionario = {\n",
        "    \"Nome\": ['Adilson','Viviane','Matheus','Andre','Fernando','Vinicius','Lucas','Graciele','Laura','Carlos'],\n",
        "    \"Idade\": [23, 25, 16, 17, 13, 10, 5, 38, 59, 41],\n",
        "    \"Cargo\": ['Suporte', 'Autonoma','Estudante','Estudante','Estudante','Estudante','Estudante','Desempregada','Desempregada','Porteiro'],\n",
        "    \"Escolaridade\": ['Cursando graduação','Técnico Administrativo','Ensino Médio','Ensino Médio', 'Fundamental', 'Fundamental','Primário','Fundamental','Primario','Primário']\n",
        "}"
      ],
      "execution_count": 0,
      "outputs": []
    },
    {
      "cell_type": "code",
      "metadata": {
        "id": "hoTWTJAyy-mT",
        "colab_type": "code",
        "colab": {}
      },
      "source": [
        "# Criando o dataframa utilizando o dicionario anterior\n",
        "df_dic = pd.DataFrame(dicionario)"
      ],
      "execution_count": 0,
      "outputs": []
    },
    {
      "cell_type": "code",
      "metadata": {
        "id": "rVHfq8jt0RN7",
        "colab_type": "code",
        "colab": {
          "base_uri": "https://localhost:8080/",
          "height": 197
        },
        "outputId": "e4b94aaa-9a40-424d-901c-33812b1cb0bb"
      },
      "source": [
        "# Mostrando somente a cabeça do dataframe por isso função head() como padrão já puxa os 5 primeiros.\n",
        "df_dic.head()"
      ],
      "execution_count": 53,
      "outputs": [
        {
          "output_type": "execute_result",
          "data": {
            "text/html": [
              "<div>\n",
              "<style scoped>\n",
              "    .dataframe tbody tr th:only-of-type {\n",
              "        vertical-align: middle;\n",
              "    }\n",
              "\n",
              "    .dataframe tbody tr th {\n",
              "        vertical-align: top;\n",
              "    }\n",
              "\n",
              "    .dataframe thead th {\n",
              "        text-align: right;\n",
              "    }\n",
              "</style>\n",
              "<table border=\"1\" class=\"dataframe\">\n",
              "  <thead>\n",
              "    <tr style=\"text-align: right;\">\n",
              "      <th></th>\n",
              "      <th>Nome</th>\n",
              "      <th>Idade</th>\n",
              "      <th>Cargo</th>\n",
              "      <th>Escolaridade</th>\n",
              "    </tr>\n",
              "  </thead>\n",
              "  <tbody>\n",
              "    <tr>\n",
              "      <th>0</th>\n",
              "      <td>Adilson</td>\n",
              "      <td>23</td>\n",
              "      <td>Suporte</td>\n",
              "      <td>Cursando graduação</td>\n",
              "    </tr>\n",
              "    <tr>\n",
              "      <th>1</th>\n",
              "      <td>Viviane</td>\n",
              "      <td>25</td>\n",
              "      <td>Autonoma</td>\n",
              "      <td>Técnico Administrativo</td>\n",
              "    </tr>\n",
              "    <tr>\n",
              "      <th>2</th>\n",
              "      <td>Matheus</td>\n",
              "      <td>16</td>\n",
              "      <td>Estudante</td>\n",
              "      <td>Ensino Médio</td>\n",
              "    </tr>\n",
              "    <tr>\n",
              "      <th>3</th>\n",
              "      <td>Andre</td>\n",
              "      <td>17</td>\n",
              "      <td>Estudante</td>\n",
              "      <td>Ensino Médio</td>\n",
              "    </tr>\n",
              "    <tr>\n",
              "      <th>4</th>\n",
              "      <td>Fernando</td>\n",
              "      <td>13</td>\n",
              "      <td>Estudante</td>\n",
              "      <td>Fundamental</td>\n",
              "    </tr>\n",
              "  </tbody>\n",
              "</table>\n",
              "</div>"
            ],
            "text/plain": [
              "       Nome  Idade      Cargo            Escolaridade\n",
              "0   Adilson     23    Suporte      Cursando graduação\n",
              "1   Viviane     25   Autonoma  Técnico Administrativo\n",
              "2   Matheus     16  Estudante            Ensino Médio\n",
              "3     Andre     17  Estudante            Ensino Médio\n",
              "4  Fernando     13  Estudante             Fundamental"
            ]
          },
          "metadata": {
            "tags": []
          },
          "execution_count": 53
        }
      ]
    },
    {
      "cell_type": "code",
      "metadata": {
        "id": "JCvTpyhkBYNu",
        "colab_type": "code",
        "colab": {}
      },
      "source": [
        "# Alterando os indice utilizando o .index\n",
        "df_dic.index = [129, 50, 35, 49, 199, 201, 299, 511, 99, 1]"
      ],
      "execution_count": 0,
      "outputs": []
    },
    {
      "cell_type": "code",
      "metadata": {
        "id": "wmjEoo9vBlOf",
        "colab_type": "code",
        "colab": {
          "base_uri": "https://localhost:8080/",
          "height": 197
        },
        "outputId": "959a65e4-5843-471d-80c1-23e715b549f6"
      },
      "source": [
        "# verificando os dados após a mudança do indice\n",
        "df_dic.head()"
      ],
      "execution_count": 55,
      "outputs": [
        {
          "output_type": "execute_result",
          "data": {
            "text/html": [
              "<div>\n",
              "<style scoped>\n",
              "    .dataframe tbody tr th:only-of-type {\n",
              "        vertical-align: middle;\n",
              "    }\n",
              "\n",
              "    .dataframe tbody tr th {\n",
              "        vertical-align: top;\n",
              "    }\n",
              "\n",
              "    .dataframe thead th {\n",
              "        text-align: right;\n",
              "    }\n",
              "</style>\n",
              "<table border=\"1\" class=\"dataframe\">\n",
              "  <thead>\n",
              "    <tr style=\"text-align: right;\">\n",
              "      <th></th>\n",
              "      <th>Nome</th>\n",
              "      <th>Idade</th>\n",
              "      <th>Cargo</th>\n",
              "      <th>Escolaridade</th>\n",
              "    </tr>\n",
              "  </thead>\n",
              "  <tbody>\n",
              "    <tr>\n",
              "      <th>129</th>\n",
              "      <td>Adilson</td>\n",
              "      <td>23</td>\n",
              "      <td>Suporte</td>\n",
              "      <td>Cursando graduação</td>\n",
              "    </tr>\n",
              "    <tr>\n",
              "      <th>50</th>\n",
              "      <td>Viviane</td>\n",
              "      <td>25</td>\n",
              "      <td>Autonoma</td>\n",
              "      <td>Técnico Administrativo</td>\n",
              "    </tr>\n",
              "    <tr>\n",
              "      <th>35</th>\n",
              "      <td>Matheus</td>\n",
              "      <td>16</td>\n",
              "      <td>Estudante</td>\n",
              "      <td>Ensino Médio</td>\n",
              "    </tr>\n",
              "    <tr>\n",
              "      <th>49</th>\n",
              "      <td>Andre</td>\n",
              "      <td>17</td>\n",
              "      <td>Estudante</td>\n",
              "      <td>Ensino Médio</td>\n",
              "    </tr>\n",
              "    <tr>\n",
              "      <th>199</th>\n",
              "      <td>Fernando</td>\n",
              "      <td>13</td>\n",
              "      <td>Estudante</td>\n",
              "      <td>Fundamental</td>\n",
              "    </tr>\n",
              "  </tbody>\n",
              "</table>\n",
              "</div>"
            ],
            "text/plain": [
              "         Nome  Idade      Cargo            Escolaridade\n",
              "129   Adilson     23    Suporte      Cursando graduação\n",
              "50    Viviane     25   Autonoma  Técnico Administrativo\n",
              "35    Matheus     16  Estudante            Ensino Médio\n",
              "49      Andre     17  Estudante            Ensino Médio\n",
              "199  Fernando     13  Estudante             Fundamental"
            ]
          },
          "metadata": {
            "tags": []
          },
          "execution_count": 55
        }
      ]
    },
    {
      "cell_type": "code",
      "metadata": {
        "id": "lC8fMW-94uck",
        "colab_type": "code",
        "colab": {
          "base_uri": "https://localhost:8080/",
          "height": 105
        },
        "outputId": "4ff05981-32bf-47f2-cf00-1dc60dd53255"
      },
      "source": [
        "# Podemos facilmente buscar qualquer indice utilizando a propriedade loc[] veja um exemplo abaixo.\n",
        "df_dic.loc[50]"
      ],
      "execution_count": 56,
      "outputs": [
        {
          "output_type": "execute_result",
          "data": {
            "text/plain": [
              "Nome                           Viviane\n",
              "Idade                               25\n",
              "Cargo                         Autonoma\n",
              "Escolaridade    Técnico Administrativo\n",
              "Name: 50, dtype: object"
            ]
          },
          "metadata": {
            "tags": []
          },
          "execution_count": 56
        }
      ]
    },
    {
      "cell_type": "markdown",
      "metadata": {
        "id": "FtOh8te018VX",
        "colab_type": "text"
      },
      "source": [
        "## Trabalhando com **DataFrames** a partir de **listas**\n",
        "\n",
        "* Para saber mais sobre listas pode verificar a [documentação do python](https://docs.python.org/pt-br/3/tutorial/datastructures.html).\n",
        "* Para definir listas utilizamos [ ] ex: lista_1 = [[ 'nome'  , 'Adilson' ] ,  [ 'idade'  ,   23 ]]."
      ]
    },
    {
      "cell_type": "code",
      "metadata": {
        "id": "Ro0ewhpG023t",
        "colab_type": "code",
        "colab": {}
      },
      "source": [
        "# Criando uma lista\n",
        "lista = [\n",
        "         [\"Adilson\", 23, \"Cursando graduação\", \"Suporte Técnico\"],\n",
        "         [\"Viviane\", 25, \"Técnica em Administração\", \"Autônoma\"],\n",
        "         [\"Graciele\", 38, \"Cozinheira\", \"Desempregada\"],\n",
        "         [\"Carlos\", 41, \"Ensino Primário\", \"Porteiro\"]\n",
        "]"
      ],
      "execution_count": 0,
      "outputs": []
    },
    {
      "cell_type": "code",
      "metadata": {
        "id": "buyj5kyb035t",
        "colab_type": "code",
        "colab": {
          "base_uri": "https://localhost:8080/",
          "height": 87
        },
        "outputId": "36c3f0d1-0240-4932-994d-862445fd8143"
      },
      "source": [
        "# Mostrando a lista atual\n",
        "lista"
      ],
      "execution_count": 58,
      "outputs": [
        {
          "output_type": "execute_result",
          "data": {
            "text/plain": [
              "[['Adilson', 23, 'Cursando graduação', 'Suporte Técnico'],\n",
              " ['Viviane', 25, 'Técnica em Administração', 'Autônoma'],\n",
              " ['Graciele', 38, 'Cozinheira', 'Desempregada'],\n",
              " ['Carlos', 41, 'Ensino Primário', 'Porteiro']]"
            ]
          },
          "metadata": {
            "tags": []
          },
          "execution_count": 58
        }
      ]
    },
    {
      "cell_type": "markdown",
      "metadata": {
        "id": "s4bePvcn2loJ",
        "colab_type": "text"
      },
      "source": [
        "* Uma pequena diferença entre criar dataframe com lista é que o cabeçalho das colunas vem como padrão numerado, mas podemos fazer a alteração utilizando o columns dentro do DataFrame"
      ]
    },
    {
      "cell_type": "code",
      "metadata": {
        "id": "OU9OJcTN145z",
        "colab_type": "code",
        "colab": {}
      },
      "source": [
        "# Criando um dataframe utilizando a lista criada\n",
        "df_lista = pd.DataFrame(lista)"
      ],
      "execution_count": 0,
      "outputs": []
    },
    {
      "cell_type": "code",
      "metadata": {
        "id": "x8uLZNUV2cJG",
        "colab_type": "code",
        "colab": {
          "base_uri": "https://localhost:8080/",
          "height": 167
        },
        "outputId": "a40aeb81-e0ac-4903-84a3-1e5a0b379017"
      },
      "source": [
        "# Mostrando o dataframe atual\n",
        "df_lista"
      ],
      "execution_count": 60,
      "outputs": [
        {
          "output_type": "execute_result",
          "data": {
            "text/html": [
              "<div>\n",
              "<style scoped>\n",
              "    .dataframe tbody tr th:only-of-type {\n",
              "        vertical-align: middle;\n",
              "    }\n",
              "\n",
              "    .dataframe tbody tr th {\n",
              "        vertical-align: top;\n",
              "    }\n",
              "\n",
              "    .dataframe thead th {\n",
              "        text-align: right;\n",
              "    }\n",
              "</style>\n",
              "<table border=\"1\" class=\"dataframe\">\n",
              "  <thead>\n",
              "    <tr style=\"text-align: right;\">\n",
              "      <th></th>\n",
              "      <th>0</th>\n",
              "      <th>1</th>\n",
              "      <th>2</th>\n",
              "      <th>3</th>\n",
              "    </tr>\n",
              "  </thead>\n",
              "  <tbody>\n",
              "    <tr>\n",
              "      <th>0</th>\n",
              "      <td>Adilson</td>\n",
              "      <td>23</td>\n",
              "      <td>Cursando graduação</td>\n",
              "      <td>Suporte Técnico</td>\n",
              "    </tr>\n",
              "    <tr>\n",
              "      <th>1</th>\n",
              "      <td>Viviane</td>\n",
              "      <td>25</td>\n",
              "      <td>Técnica em Administração</td>\n",
              "      <td>Autônoma</td>\n",
              "    </tr>\n",
              "    <tr>\n",
              "      <th>2</th>\n",
              "      <td>Graciele</td>\n",
              "      <td>38</td>\n",
              "      <td>Cozinheira</td>\n",
              "      <td>Desempregada</td>\n",
              "    </tr>\n",
              "    <tr>\n",
              "      <th>3</th>\n",
              "      <td>Carlos</td>\n",
              "      <td>41</td>\n",
              "      <td>Ensino Primário</td>\n",
              "      <td>Porteiro</td>\n",
              "    </tr>\n",
              "  </tbody>\n",
              "</table>\n",
              "</div>"
            ],
            "text/plain": [
              "          0   1                         2                3\n",
              "0   Adilson  23        Cursando graduação  Suporte Técnico\n",
              "1   Viviane  25  Técnica em Administração         Autônoma\n",
              "2  Graciele  38                Cozinheira     Desempregada\n",
              "3    Carlos  41           Ensino Primário         Porteiro"
            ]
          },
          "metadata": {
            "tags": []
          },
          "execution_count": 60
        }
      ]
    },
    {
      "cell_type": "code",
      "metadata": {
        "id": "ocXNb-l4DXnY",
        "colab_type": "code",
        "colab": {}
      },
      "source": [
        "# Alterando o nome das colunas\n",
        "df_lista.columns = ['Nome', 'Idade', 'Escolaridade', 'Cargo atual']"
      ],
      "execution_count": 0,
      "outputs": []
    },
    {
      "cell_type": "code",
      "metadata": {
        "id": "kmfN6aGmDeEQ",
        "colab_type": "code",
        "colab": {
          "base_uri": "https://localhost:8080/",
          "height": 167
        },
        "outputId": "1e42f70f-f2d8-4561-85d1-608734e1440f"
      },
      "source": [
        "# Mostrando DataFrame após a alteração das colunas\n",
        "df_lista"
      ],
      "execution_count": 62,
      "outputs": [
        {
          "output_type": "execute_result",
          "data": {
            "text/html": [
              "<div>\n",
              "<style scoped>\n",
              "    .dataframe tbody tr th:only-of-type {\n",
              "        vertical-align: middle;\n",
              "    }\n",
              "\n",
              "    .dataframe tbody tr th {\n",
              "        vertical-align: top;\n",
              "    }\n",
              "\n",
              "    .dataframe thead th {\n",
              "        text-align: right;\n",
              "    }\n",
              "</style>\n",
              "<table border=\"1\" class=\"dataframe\">\n",
              "  <thead>\n",
              "    <tr style=\"text-align: right;\">\n",
              "      <th></th>\n",
              "      <th>Nome</th>\n",
              "      <th>Idade</th>\n",
              "      <th>Escolaridade</th>\n",
              "      <th>Cargo atual</th>\n",
              "    </tr>\n",
              "  </thead>\n",
              "  <tbody>\n",
              "    <tr>\n",
              "      <th>0</th>\n",
              "      <td>Adilson</td>\n",
              "      <td>23</td>\n",
              "      <td>Cursando graduação</td>\n",
              "      <td>Suporte Técnico</td>\n",
              "    </tr>\n",
              "    <tr>\n",
              "      <th>1</th>\n",
              "      <td>Viviane</td>\n",
              "      <td>25</td>\n",
              "      <td>Técnica em Administração</td>\n",
              "      <td>Autônoma</td>\n",
              "    </tr>\n",
              "    <tr>\n",
              "      <th>2</th>\n",
              "      <td>Graciele</td>\n",
              "      <td>38</td>\n",
              "      <td>Cozinheira</td>\n",
              "      <td>Desempregada</td>\n",
              "    </tr>\n",
              "    <tr>\n",
              "      <th>3</th>\n",
              "      <td>Carlos</td>\n",
              "      <td>41</td>\n",
              "      <td>Ensino Primário</td>\n",
              "      <td>Porteiro</td>\n",
              "    </tr>\n",
              "  </tbody>\n",
              "</table>\n",
              "</div>"
            ],
            "text/plain": [
              "       Nome  Idade              Escolaridade      Cargo atual\n",
              "0   Adilson     23        Cursando graduação  Suporte Técnico\n",
              "1   Viviane     25  Técnica em Administração         Autônoma\n",
              "2  Graciele     38                Cozinheira     Desempregada\n",
              "3    Carlos     41           Ensino Primário         Porteiro"
            ]
          },
          "metadata": {
            "tags": []
          },
          "execution_count": 62
        }
      ]
    },
    {
      "cell_type": "markdown",
      "metadata": {
        "id": "lg4xYr6h3Fmk",
        "colab_type": "text"
      },
      "source": [
        "* Podemos também alteração o index como quisermos. Para isso basta chamar o index e atribuir o que deseja."
      ]
    },
    {
      "cell_type": "code",
      "metadata": {
        "id": "IG-lZv6n2i0Q",
        "colab_type": "code",
        "colab": {}
      },
      "source": [
        "# Alterando os indices\n",
        "df_lista.index = [322, 219, 1998, 2]"
      ],
      "execution_count": 0,
      "outputs": []
    },
    {
      "cell_type": "code",
      "metadata": {
        "id": "z4qyZWTN3VZ0",
        "colab_type": "code",
        "colab": {
          "base_uri": "https://localhost:8080/",
          "height": 105
        },
        "outputId": "97fa8134-9e79-4616-9b53-03bfd60ba0fe"
      },
      "source": [
        "# Após alterar os index podemos simplesmente buscar qualquer indice utilizando a propriedade loc[]\n",
        "df_lista.loc[322]"
      ],
      "execution_count": 64,
      "outputs": [
        {
          "output_type": "execute_result",
          "data": {
            "text/plain": [
              "Nome                       Adilson\n",
              "Idade                           23\n",
              "Escolaridade    Cursando graduação\n",
              "Cargo atual        Suporte Técnico\n",
              "Name: 322, dtype: object"
            ]
          },
          "metadata": {
            "tags": []
          },
          "execution_count": 64
        }
      ]
    },
    {
      "cell_type": "code",
      "metadata": {
        "id": "sDrqhI4DHALM",
        "colab_type": "code",
        "colab": {
          "base_uri": "https://localhost:8080/",
          "height": 212
        },
        "outputId": "f89367dd-296c-4570-f6b0-56c749ffe8d8"
      },
      "source": [
        "# com a função info, podemos verificar quantos valores não são nullos, ajuda muito na analise futura\n",
        "df_lista.info()"
      ],
      "execution_count": 69,
      "outputs": [
        {
          "output_type": "stream",
          "text": [
            "<class 'pandas.core.frame.DataFrame'>\n",
            "Int64Index: 4 entries, 322 to 2\n",
            "Data columns (total 4 columns):\n",
            " #   Column        Non-Null Count  Dtype \n",
            "---  ------        --------------  ----- \n",
            " 0   Nome          4 non-null      object\n",
            " 1   Idade         4 non-null      int64 \n",
            " 2   Escolaridade  4 non-null      object\n",
            " 3   Cargo atual   4 non-null      object\n",
            "dtypes: int64(1), object(3)\n",
            "memory usage: 320.0+ bytes\n"
          ],
          "name": "stdout"
        }
      ]
    },
    {
      "cell_type": "markdown",
      "metadata": {
        "id": "eSQv9M5AFewk",
        "colab_type": "text"
      },
      "source": [
        "# Conclusão\n",
        "\n",
        "Meu caro leitor, nesse breve notebook minha idéia foi quebrar essa barreira de que é necessário ser um programador top para analisar dados e também mostrar para você que desconhecia essa área que existe maneiras diferentes de criar tabelas (DataFrames) para armazenar seus dados pessoas ou até de trabalho, as diferenças entre as tabelas do excell e de um dataframe são:\n",
        "\n",
        "* No excell, ficamos limitados e/ou em algumas analises simples o mesmo dificulta **exemplo:** Para tirar a média de uma coluna no excell é necessário, colocar `=average(selecionar a coluna toda ou as celular que deseja)`** e depois dar enter.\n",
        "\n",
        "* No DataFrame para fazer a mesma analise basta apenas chamar onde está a coluna que quer medir e chamar a função `mean()` **exemplo:** `df_lista.Idade.mean()`. No DataFrame podemos ir alem com uma simples função `describe()` ou `info()`.\n",
        "\n",
        "* Também ficou claro que com apenas 16 linhas de códigos bem simples, conseguimos criar dois DataFrames partindo do zero.\n",
        "\n",
        "De maneira nenhum quero que pare de utilizar o excell, apenas quis trazer uma nova forma de buscar, criar, armazenar e até manipular seus dados. Para quem já é familiariado com o python e a biblioteca pandas isso que passei foi muito simples, o objetivo é mostrar para aqueles que ainda não conhecem.\n",
        "\n",
        "Espero de alguma maneira ter aberto uma ponta de curiosidade e que você evolua sempre.\n",
        "****\n",
        "#### **Contatos**\n",
        "Adilson Gustavo: [Linkedin](https://www.linkedin.com/in/adilson-gustavo-marcondes-barreto-de-souza-a74b98133/)\n",
        "\n",
        "Adilson Gustavo: [Github](https://github.com/adilsong3/DataScience_Junior)\n",
        "\n",
        "****\n",
        "####**Referências**\n",
        "\n",
        "Professor: [Carlos Melo](https://www.linkedin.com/in/carlosfab/)\n",
        "\n",
        "Blog: https://sigmoidal.ai/data-science/\n",
        "\n",
        "Documentação: [Python DataFrame](https://pandas.pydata.org/pandas-docs/stable/reference/api/pandas.DataFrame.html)\n",
        "\n",
        "\n"
      ]
    }
  ]
}